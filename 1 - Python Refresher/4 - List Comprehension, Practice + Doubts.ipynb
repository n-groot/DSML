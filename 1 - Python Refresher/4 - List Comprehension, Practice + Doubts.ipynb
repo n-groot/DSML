{
 "cells": [
  {
   "cell_type": "code",
   "execution_count": 1,
   "id": "a962a092",
   "metadata": {},
   "outputs": [
    {
     "name": "stdout",
     "output_type": "stream",
     "text": [
      "45\n"
     ]
    },
    {
     "data": {
      "text/plain": [
       "'45'"
      ]
     },
     "execution_count": 1,
     "metadata": {},
     "output_type": "execute_result"
    }
   ],
   "source": [
    "input()"
   ]
  },
  {
   "cell_type": "code",
   "execution_count": 2,
   "id": "32648e19",
   "metadata": {},
   "outputs": [
    {
     "name": "stdout",
     "output_type": "stream",
     "text": [
      "45\n",
      "44\n",
      "56\n",
      "6\n",
      "4\n"
     ]
    }
   ],
   "source": [
    "for i in range(5):\n",
    "    input()"
   ]
  },
  {
   "cell_type": "code",
   "execution_count": 4,
   "id": "dcd022c1",
   "metadata": {},
   "outputs": [
    {
     "name": "stdout",
     "output_type": "stream",
     "text": [
      "4 5 6 6 7 8 9 0\n"
     ]
    }
   ],
   "source": [
    "input_string = input()"
   ]
  },
  {
   "cell_type": "code",
   "execution_count": 5,
   "id": "6283f724",
   "metadata": {},
   "outputs": [
    {
     "data": {
      "text/plain": [
       "'4 5 6 6 7 8 9 0'"
      ]
     },
     "execution_count": 5,
     "metadata": {},
     "output_type": "execute_result"
    }
   ],
   "source": [
    "input_string"
   ]
  },
  {
   "cell_type": "code",
   "execution_count": 6,
   "id": "a4660a72",
   "metadata": {},
   "outputs": [],
   "source": [
    "inputs = input_string.split(\" \")"
   ]
  },
  {
   "cell_type": "code",
   "execution_count": 7,
   "id": "03766501",
   "metadata": {},
   "outputs": [
    {
     "data": {
      "text/plain": [
       "['4', '5', '6', '6', '7', '8', '9', '0']"
      ]
     },
     "execution_count": 7,
     "metadata": {},
     "output_type": "execute_result"
    }
   ],
   "source": [
    "inputs"
   ]
  },
  {
   "cell_type": "code",
   "execution_count": 8,
   "id": "b7c3f50a",
   "metadata": {},
   "outputs": [
    {
     "data": {
      "text/plain": [
       "7"
      ]
     },
     "execution_count": 8,
     "metadata": {},
     "output_type": "execute_result"
    }
   ],
   "source": [
    "int(inputs[4])"
   ]
  },
  {
   "cell_type": "markdown",
   "id": "419423b5",
   "metadata": {},
   "source": [
    "## Comprehension"
   ]
  },
  {
   "cell_type": "code",
   "execution_count": 9,
   "id": "bb5c0f05",
   "metadata": {},
   "outputs": [],
   "source": [
    "a = [1,2,3,5,6,7,8,9]"
   ]
  },
  {
   "cell_type": "code",
   "execution_count": 10,
   "id": "c724a215",
   "metadata": {},
   "outputs": [],
   "source": [
    "b = []\n",
    "for i in a:\n",
    "    b.append(i**2)"
   ]
  },
  {
   "cell_type": "code",
   "execution_count": 11,
   "id": "5f53c452",
   "metadata": {},
   "outputs": [
    {
     "data": {
      "text/plain": [
       "[1, 4, 9, 25, 36, 49, 64, 81]"
      ]
     },
     "execution_count": 11,
     "metadata": {},
     "output_type": "execute_result"
    }
   ],
   "source": [
    "b"
   ]
  },
  {
   "cell_type": "code",
   "execution_count": 12,
   "id": "15f53e37",
   "metadata": {},
   "outputs": [
    {
     "data": {
      "text/plain": [
       "[1, 2, 3, 5, 6, 7, 8, 9]"
      ]
     },
     "execution_count": 12,
     "metadata": {},
     "output_type": "execute_result"
    }
   ],
   "source": [
    "a"
   ]
  },
  {
   "cell_type": "code",
   "execution_count": 13,
   "id": "f6721863",
   "metadata": {},
   "outputs": [],
   "source": [
    "b_cool = [ i**2 for i in a ]"
   ]
  },
  {
   "cell_type": "code",
   "execution_count": 14,
   "id": "a87a6e00",
   "metadata": {},
   "outputs": [
    {
     "data": {
      "text/plain": [
       "[1, 4, 9, 25, 36, 49, 64, 81]"
      ]
     },
     "execution_count": 14,
     "metadata": {},
     "output_type": "execute_result"
    }
   ],
   "source": [
    "b_cool"
   ]
  },
  {
   "cell_type": "code",
   "execution_count": 15,
   "id": "246ba180",
   "metadata": {},
   "outputs": [],
   "source": [
    "# if number == odd -> number\n",
    "# else number == even -> number**2"
   ]
  },
  {
   "cell_type": "code",
   "execution_count": 16,
   "id": "20fa743e",
   "metadata": {},
   "outputs": [],
   "source": [
    "b = []\n",
    "for i in a:\n",
    "    if i % 2 == 0:\n",
    "        b.append(i**2)\n",
    "    else:\n",
    "        b.append(i)"
   ]
  },
  {
   "cell_type": "code",
   "execution_count": 17,
   "id": "fd7bf3a8",
   "metadata": {},
   "outputs": [
    {
     "data": {
      "text/plain": [
       "[1, 4, 3, 5, 36, 7, 64, 9]"
      ]
     },
     "execution_count": 17,
     "metadata": {},
     "output_type": "execute_result"
    }
   ],
   "source": [
    "b"
   ]
  },
  {
   "cell_type": "code",
   "execution_count": 18,
   "id": "d267242b",
   "metadata": {},
   "outputs": [],
   "source": [
    "def my_logic(number):\n",
    "    if number % 2 == 0:\n",
    "        return number**2\n",
    "    else:\n",
    "        return number"
   ]
  },
  {
   "cell_type": "code",
   "execution_count": 19,
   "id": "16f27c9d",
   "metadata": {},
   "outputs": [],
   "source": [
    "b = []\n",
    "for i in a:\n",
    "    b.append(my_logic(i))"
   ]
  },
  {
   "cell_type": "code",
   "execution_count": 20,
   "id": "904a8c46",
   "metadata": {},
   "outputs": [
    {
     "data": {
      "text/plain": [
       "[1, 4, 3, 5, 36, 7, 64, 9]"
      ]
     },
     "execution_count": 20,
     "metadata": {},
     "output_type": "execute_result"
    }
   ],
   "source": [
    "b"
   ]
  },
  {
   "cell_type": "code",
   "execution_count": 21,
   "id": "05f454a5",
   "metadata": {},
   "outputs": [],
   "source": [
    "b_cool = [ my_logic(i) for i in a ]"
   ]
  },
  {
   "cell_type": "code",
   "execution_count": 22,
   "id": "6758c5d2",
   "metadata": {},
   "outputs": [
    {
     "data": {
      "text/plain": [
       "[1, 4, 3, 5, 36, 7, 64, 9]"
      ]
     },
     "execution_count": 22,
     "metadata": {},
     "output_type": "execute_result"
    }
   ],
   "source": [
    "b_cool"
   ]
  },
  {
   "cell_type": "code",
   "execution_count": 25,
   "id": "f17dde6a",
   "metadata": {},
   "outputs": [],
   "source": [
    "random = [ [ i+j for j in range(1,11) ] for i in range(1,11) ]"
   ]
  },
  {
   "cell_type": "code",
   "execution_count": 26,
   "id": "915b3063",
   "metadata": {},
   "outputs": [
    {
     "data": {
      "text/plain": [
       "[[2, 3, 4, 5, 6, 7, 8, 9, 10, 11],\n",
       " [3, 4, 5, 6, 7, 8, 9, 10, 11, 12],\n",
       " [4, 5, 6, 7, 8, 9, 10, 11, 12, 13],\n",
       " [5, 6, 7, 8, 9, 10, 11, 12, 13, 14],\n",
       " [6, 7, 8, 9, 10, 11, 12, 13, 14, 15],\n",
       " [7, 8, 9, 10, 11, 12, 13, 14, 15, 16],\n",
       " [8, 9, 10, 11, 12, 13, 14, 15, 16, 17],\n",
       " [9, 10, 11, 12, 13, 14, 15, 16, 17, 18],\n",
       " [10, 11, 12, 13, 14, 15, 16, 17, 18, 19],\n",
       " [11, 12, 13, 14, 15, 16, 17, 18, 19, 20]]"
      ]
     },
     "execution_count": 26,
     "metadata": {},
     "output_type": "execute_result"
    }
   ],
   "source": [
    "random"
   ]
  },
  {
   "cell_type": "code",
   "execution_count": 35,
   "id": "4fc7b7fb",
   "metadata": {},
   "outputs": [],
   "source": [
    "random_order = [ i+str(j) for j in [1 ,2 ,3] for i in [\"a\", \"b\", \"c\"] ]"
   ]
  },
  {
   "cell_type": "code",
   "execution_count": 36,
   "id": "95a68664",
   "metadata": {},
   "outputs": [
    {
     "data": {
      "text/plain": [
       "[['a1', 'a2', 'a3'], ['b1', 'b2', 'b3'], ['c1', 'c2', 'c3']]"
      ]
     },
     "execution_count": 36,
     "metadata": {},
     "output_type": "execute_result"
    }
   ],
   "source": [
    "random_order"
   ]
  },
  {
   "cell_type": "code",
   "execution_count": 29,
   "id": "ec8cb202",
   "metadata": {},
   "outputs": [],
   "source": [
    "what = []\n",
    "for i in [\"a\", \"b\", \"c\"]:\n",
    "    for j in [1, 2, 3]:\n",
    "        what.append(i + str(j))"
   ]
  },
  {
   "cell_type": "code",
   "execution_count": 30,
   "id": "0541718c",
   "metadata": {},
   "outputs": [
    {
     "data": {
      "text/plain": [
       "['a1', 'a2', 'a3', 'b1', 'b2', 'b3', 'c1', 'c2', 'c3']"
      ]
     },
     "execution_count": 30,
     "metadata": {},
     "output_type": "execute_result"
    }
   ],
   "source": [
    "what"
   ]
  },
  {
   "cell_type": "code",
   "execution_count": 33,
   "id": "c4171156",
   "metadata": {},
   "outputs": [],
   "source": [
    "ohhhh = []\n",
    "for i in [1, 2, 3]:\n",
    "    for j in [\"a\", \"b\", \"c\"]:\n",
    "        ohhhh.append(j + str(i))"
   ]
  },
  {
   "cell_type": "code",
   "execution_count": 34,
   "id": "b7ec8a0c",
   "metadata": {},
   "outputs": [
    {
     "data": {
      "text/plain": [
       "['a1', 'b1', 'c1', 'a2', 'b2', 'c2', 'a3', 'b3', 'c3']"
      ]
     },
     "execution_count": 34,
     "metadata": {},
     "output_type": "execute_result"
    }
   ],
   "source": [
    "ohhhh"
   ]
  },
  {
   "cell_type": "code",
   "execution_count": 132,
   "id": "fbd8e1f1",
   "metadata": {},
   "outputs": [],
   "source": [
    "m = [ i+str(j) for j in [1 ,2 ,3] for i in [\"a\", \"b\", \"c\"] ]\n",
    "n = [ [ i+str(j) for j in [1 ,2 ,3] ] for i in [\"a\", \"b\", \"c\"] ]"
   ]
  },
  {
   "cell_type": "code",
   "execution_count": 38,
   "id": "1d785501",
   "metadata": {},
   "outputs": [
    {
     "data": {
      "text/plain": [
       "['a1', 'b1', 'c1', 'a2', 'b2', 'c2', 'a3', 'b3', 'c3']"
      ]
     },
     "execution_count": 38,
     "metadata": {},
     "output_type": "execute_result"
    }
   ],
   "source": [
    "m"
   ]
  },
  {
   "cell_type": "code",
   "execution_count": 39,
   "id": "041acdbe",
   "metadata": {},
   "outputs": [
    {
     "data": {
      "text/plain": [
       "[['a1', 'a2', 'a3'], ['b1', 'b2', 'b3'], ['c1', 'c2', 'c3']]"
      ]
     },
     "execution_count": 39,
     "metadata": {},
     "output_type": "execute_result"
    }
   ],
   "source": [
    "n"
   ]
  },
  {
   "cell_type": "code",
   "execution_count": 40,
   "id": "39da7f9c",
   "metadata": {},
   "outputs": [],
   "source": [
    "s1 = {i**2 for i in range(1,6)}"
   ]
  },
  {
   "cell_type": "code",
   "execution_count": 41,
   "id": "d8bcb9d4",
   "metadata": {},
   "outputs": [
    {
     "data": {
      "text/plain": [
       "{1, 4, 9, 16, 25}"
      ]
     },
     "execution_count": 41,
     "metadata": {},
     "output_type": "execute_result"
    }
   ],
   "source": [
    "s1"
   ]
  },
  {
   "cell_type": "code",
   "execution_count": 42,
   "id": "e719c2fa",
   "metadata": {},
   "outputs": [
    {
     "ename": "TypeError",
     "evalue": "unhashable type: 'set'",
     "output_type": "error",
     "traceback": [
      "\u001b[0;31m---------------------------------------------------------------------------\u001b[0m",
      "\u001b[0;31mTypeError\u001b[0m                                 Traceback (most recent call last)",
      "\u001b[0;32m/var/folders/nn/c52y0d3j0gq59dpsswchkt2r0000gn/T/ipykernel_69793/397123186.py\u001b[0m in \u001b[0;36m<module>\u001b[0;34m\u001b[0m\n\u001b[0;32m----> 1\u001b[0;31m \u001b[0ms2\u001b[0m \u001b[0;34m=\u001b[0m \u001b[0;34m{\u001b[0m \u001b[0;34m{\u001b[0m \u001b[0mi\u001b[0m\u001b[0;34m+\u001b[0m\u001b[0mj\u001b[0m \u001b[0;32mfor\u001b[0m \u001b[0mj\u001b[0m \u001b[0;32min\u001b[0m \u001b[0mrange\u001b[0m\u001b[0;34m(\u001b[0m\u001b[0;36m0\u001b[0m\u001b[0;34m,\u001b[0m\u001b[0;36m5\u001b[0m\u001b[0;34m)\u001b[0m \u001b[0;34m}\u001b[0m \u001b[0;32mfor\u001b[0m \u001b[0mi\u001b[0m \u001b[0;32min\u001b[0m \u001b[0mrange\u001b[0m\u001b[0;34m(\u001b[0m\u001b[0;36m0\u001b[0m\u001b[0;34m,\u001b[0m\u001b[0;36m5\u001b[0m\u001b[0;34m)\u001b[0m \u001b[0;34m}\u001b[0m\u001b[0;34m\u001b[0m\u001b[0;34m\u001b[0m\u001b[0m\n\u001b[0m",
      "\u001b[0;32m/var/folders/nn/c52y0d3j0gq59dpsswchkt2r0000gn/T/ipykernel_69793/397123186.py\u001b[0m in \u001b[0;36m<setcomp>\u001b[0;34m(.0)\u001b[0m\n\u001b[0;32m----> 1\u001b[0;31m \u001b[0ms2\u001b[0m \u001b[0;34m=\u001b[0m \u001b[0;34m{\u001b[0m \u001b[0;34m{\u001b[0m \u001b[0mi\u001b[0m\u001b[0;34m+\u001b[0m\u001b[0mj\u001b[0m \u001b[0;32mfor\u001b[0m \u001b[0mj\u001b[0m \u001b[0;32min\u001b[0m \u001b[0mrange\u001b[0m\u001b[0;34m(\u001b[0m\u001b[0;36m0\u001b[0m\u001b[0;34m,\u001b[0m\u001b[0;36m5\u001b[0m\u001b[0;34m)\u001b[0m \u001b[0;34m}\u001b[0m \u001b[0;32mfor\u001b[0m \u001b[0mi\u001b[0m \u001b[0;32min\u001b[0m \u001b[0mrange\u001b[0m\u001b[0;34m(\u001b[0m\u001b[0;36m0\u001b[0m\u001b[0;34m,\u001b[0m\u001b[0;36m5\u001b[0m\u001b[0;34m)\u001b[0m \u001b[0;34m}\u001b[0m\u001b[0;34m\u001b[0m\u001b[0;34m\u001b[0m\u001b[0m\n\u001b[0m",
      "\u001b[0;31mTypeError\u001b[0m: unhashable type: 'set'"
     ]
    }
   ],
   "source": [
    "s2 = { { i+j for j in range(0,5) } for i in range(0,5) }"
   ]
  },
  {
   "cell_type": "code",
   "execution_count": 43,
   "id": "226040ba",
   "metadata": {},
   "outputs": [],
   "source": [
    "d1 = { i:i**2 for i in range(1,6) }"
   ]
  },
  {
   "cell_type": "code",
   "execution_count": 44,
   "id": "9388ced7",
   "metadata": {},
   "outputs": [
    {
     "data": {
      "text/plain": [
       "{1: 1, 2: 4, 3: 9, 4: 16, 5: 25}"
      ]
     },
     "execution_count": 44,
     "metadata": {},
     "output_type": "execute_result"
    }
   ],
   "source": [
    "d1"
   ]
  },
  {
   "cell_type": "code",
   "execution_count": 45,
   "id": "2dfcc338",
   "metadata": {},
   "outputs": [],
   "source": [
    "t1 = ( i**2 for i in range(1,6) )"
   ]
  },
  {
   "cell_type": "code",
   "execution_count": 46,
   "id": "548e345f",
   "metadata": {},
   "outputs": [
    {
     "data": {
      "text/plain": [
       "<generator object <genexpr> at 0x7fdf9053d4a0>"
      ]
     },
     "execution_count": 46,
     "metadata": {},
     "output_type": "execute_result"
    }
   ],
   "source": [
    "t1"
   ]
  },
  {
   "cell_type": "code",
   "execution_count": 47,
   "id": "9cdaf998",
   "metadata": {},
   "outputs": [
    {
     "data": {
      "text/plain": [
       "[1, 2, 3, 5, 6, 7, 8, 9]"
      ]
     },
     "execution_count": 47,
     "metadata": {},
     "output_type": "execute_result"
    }
   ],
   "source": [
    "a"
   ]
  },
  {
   "cell_type": "code",
   "execution_count": 48,
   "id": "980c1b0f",
   "metadata": {},
   "outputs": [],
   "source": [
    "b = tuple(a)"
   ]
  },
  {
   "cell_type": "code",
   "execution_count": 49,
   "id": "2c8bd7d3",
   "metadata": {},
   "outputs": [
    {
     "data": {
      "text/plain": [
       "(1, 2, 3, 5, 6, 7, 8, 9)"
      ]
     },
     "execution_count": 49,
     "metadata": {},
     "output_type": "execute_result"
    }
   ],
   "source": [
    "b"
   ]
  },
  {
   "cell_type": "code",
   "execution_count": 50,
   "id": "567c4e88",
   "metadata": {},
   "outputs": [
    {
     "data": {
      "text/plain": [
       "(1, 4, 9, 16, 25)"
      ]
     },
     "execution_count": 50,
     "metadata": {},
     "output_type": "execute_result"
    }
   ],
   "source": [
    "tuple(t1)"
   ]
  },
  {
   "cell_type": "code",
   "execution_count": 51,
   "id": "87a2259b",
   "metadata": {},
   "outputs": [],
   "source": [
    "string_1 = \"i for i in range(0,5)\""
   ]
  },
  {
   "cell_type": "code",
   "execution_count": 52,
   "id": "7d708beb",
   "metadata": {},
   "outputs": [
    {
     "data": {
      "text/plain": [
       "'i for i in range(0,5)'"
      ]
     },
     "execution_count": 52,
     "metadata": {},
     "output_type": "execute_result"
    }
   ],
   "source": [
    "string_1"
   ]
  },
  {
   "cell_type": "code",
   "execution_count": 56,
   "id": "e5687f78",
   "metadata": {},
   "outputs": [
    {
     "data": {
      "text/plain": [
       "'\\nHOMEWORK - PRINT THIS!\\n5 5 5 5 5\\n5 4 4 4 5\\n5 4 3 4 5\\n5 4 4 4 5\\n5 5 5 5 5\\n\\n6 6 6 6 6 6\\n6 5 5 5 5 6\\n6 5 4 4 5 6\\n6 5 4 4 5 6\\n6 5 5 5 5 6\\n6 6 6 6 6 6\\n'"
      ]
     },
     "execution_count": 56,
     "metadata": {},
     "output_type": "execute_result"
    }
   ],
   "source": [
    "'''\n",
    "HOMEWORK - PRINT THIS!\n",
    "5 5 5 5 5\n",
    "5 4 4 4 5\n",
    "5 4 3 4 5\n",
    "5 4 4 4 5\n",
    "5 5 5 5 5\n",
    "\n",
    "6 6 6 6 6 6\n",
    "6 5 5 5 5 6\n",
    "6 5 4 4 5 6\n",
    "6 5 4 4 5 6\n",
    "6 5 5 5 5 6\n",
    "6 6 6 6 6 6\n",
    "'''"
   ]
  },
  {
   "cell_type": "code",
   "execution_count": 57,
   "id": "f51b19a6",
   "metadata": {},
   "outputs": [],
   "source": [
    "s1 = \"this is a string!\""
   ]
  },
  {
   "cell_type": "code",
   "execution_count": 58,
   "id": "0f4181dc",
   "metadata": {},
   "outputs": [],
   "source": [
    "s2 = 'this is also a string'"
   ]
  },
  {
   "cell_type": "code",
   "execution_count": 59,
   "id": "fff6d482",
   "metadata": {},
   "outputs": [],
   "source": [
    "s3 = '''this is also a string?'''"
   ]
  },
  {
   "cell_type": "code",
   "execution_count": 60,
   "id": "b9b09dc4",
   "metadata": {},
   "outputs": [
    {
     "data": {
      "text/plain": [
       "'this is also a string?'"
      ]
     },
     "execution_count": 60,
     "metadata": {},
     "output_type": "execute_result"
    }
   ],
   "source": [
    "s3"
   ]
  },
  {
   "cell_type": "code",
   "execution_count": 61,
   "id": "5f4c7e5e",
   "metadata": {},
   "outputs": [],
   "source": [
    "s4 = '''\n",
    "    this is a string\n",
    "            where\n",
    "              white spaces\n",
    "        are\n",
    "        \n",
    "        preserved!\n",
    "'''"
   ]
  },
  {
   "cell_type": "code",
   "execution_count": 62,
   "id": "7b17a8d9",
   "metadata": {},
   "outputs": [
    {
     "data": {
      "text/plain": [
       "'\\n    this is a string\\n            where\\n              white spaces\\n        are\\n        \\n        preserved!\\n'"
      ]
     },
     "execution_count": 62,
     "metadata": {},
     "output_type": "execute_result"
    }
   ],
   "source": [
    "s4"
   ]
  },
  {
   "cell_type": "code",
   "execution_count": 63,
   "id": "520587ec",
   "metadata": {},
   "outputs": [],
   "source": [
    "s = \"python\""
   ]
  },
  {
   "cell_type": "code",
   "execution_count": 64,
   "id": "f72b57a0",
   "metadata": {},
   "outputs": [
    {
     "data": {
      "text/plain": [
       "1"
      ]
     },
     "execution_count": 64,
     "metadata": {},
     "output_type": "execute_result"
    }
   ],
   "source": [
    "s.index(\"y\")"
   ]
  },
  {
   "cell_type": "code",
   "execution_count": 65,
   "id": "eb15c738",
   "metadata": {},
   "outputs": [
    {
     "data": {
      "text/plain": [
       "'p'"
      ]
     },
     "execution_count": 65,
     "metadata": {},
     "output_type": "execute_result"
    }
   ],
   "source": [
    "s[0]"
   ]
  },
  {
   "cell_type": "code",
   "execution_count": 66,
   "id": "b1165331",
   "metadata": {},
   "outputs": [
    {
     "data": {
      "text/plain": [
       "'y'"
      ]
     },
     "execution_count": 66,
     "metadata": {},
     "output_type": "execute_result"
    }
   ],
   "source": [
    "s[1]"
   ]
  },
  {
   "cell_type": "code",
   "execution_count": 67,
   "id": "ed620050",
   "metadata": {},
   "outputs": [
    {
     "data": {
      "text/plain": [
       "'python'"
      ]
     },
     "execution_count": 67,
     "metadata": {},
     "output_type": "execute_result"
    }
   ],
   "source": [
    "s[:]"
   ]
  },
  {
   "cell_type": "code",
   "execution_count": 68,
   "id": "62ad67ec",
   "metadata": {},
   "outputs": [
    {
     "data": {
      "text/plain": [
       "'n'"
      ]
     },
     "execution_count": 68,
     "metadata": {},
     "output_type": "execute_result"
    }
   ],
   "source": [
    "s[-1]"
   ]
  },
  {
   "cell_type": "code",
   "execution_count": 69,
   "id": "957ed441",
   "metadata": {},
   "outputs": [
    {
     "ename": "TypeError",
     "evalue": "'str' object does not support item assignment",
     "output_type": "error",
     "traceback": [
      "\u001b[0;31m---------------------------------------------------------------------------\u001b[0m",
      "\u001b[0;31mTypeError\u001b[0m                                 Traceback (most recent call last)",
      "\u001b[0;32m/var/folders/nn/c52y0d3j0gq59dpsswchkt2r0000gn/T/ipykernel_69793/368423230.py\u001b[0m in \u001b[0;36m<module>\u001b[0;34m\u001b[0m\n\u001b[0;32m----> 1\u001b[0;31m \u001b[0ms\u001b[0m\u001b[0;34m[\u001b[0m\u001b[0;36m1\u001b[0m\u001b[0;34m]\u001b[0m \u001b[0;34m=\u001b[0m \u001b[0;34m\"m\"\u001b[0m\u001b[0;34m\u001b[0m\u001b[0;34m\u001b[0m\u001b[0m\n\u001b[0m",
      "\u001b[0;31mTypeError\u001b[0m: 'str' object does not support item assignment"
     ]
    }
   ],
   "source": [
    "s[1] = \"m\""
   ]
  },
  {
   "cell_type": "code",
   "execution_count": 70,
   "id": "e98ac9f7",
   "metadata": {},
   "outputs": [],
   "source": [
    "s = \"This a A wieRD string WHIch has AJEEb stufF\""
   ]
  },
  {
   "cell_type": "code",
   "execution_count": 71,
   "id": "b541f41e",
   "metadata": {},
   "outputs": [
    {
     "data": {
      "text/plain": [
       "'THIS A A WIERD STRING WHICH HAS AJEEB STUFF'"
      ]
     },
     "execution_count": 71,
     "metadata": {},
     "output_type": "execute_result"
    }
   ],
   "source": [
    "s.upper()"
   ]
  },
  {
   "cell_type": "code",
   "execution_count": 72,
   "id": "5177c334",
   "metadata": {},
   "outputs": [
    {
     "data": {
      "text/plain": [
       "'This a A wieRD string WHIch has AJEEb stufF'"
      ]
     },
     "execution_count": 72,
     "metadata": {},
     "output_type": "execute_result"
    }
   ],
   "source": [
    "s"
   ]
  },
  {
   "cell_type": "code",
   "execution_count": 73,
   "id": "ceae678e",
   "metadata": {},
   "outputs": [
    {
     "data": {
      "text/plain": [
       "'this a a wierd string which has ajeeb stuff'"
      ]
     },
     "execution_count": 73,
     "metadata": {},
     "output_type": "execute_result"
    }
   ],
   "source": [
    "s.lower()"
   ]
  },
  {
   "cell_type": "code",
   "execution_count": 74,
   "id": "4c1cac1a",
   "metadata": {},
   "outputs": [
    {
     "data": {
      "text/plain": [
       "'This A A Wierd String Which Has Ajeeb Stuff'"
      ]
     },
     "execution_count": 74,
     "metadata": {},
     "output_type": "execute_result"
    }
   ],
   "source": [
    "s.title()"
   ]
  },
  {
   "cell_type": "code",
   "execution_count": 75,
   "id": "db6663be",
   "metadata": {},
   "outputs": [
    {
     "data": {
      "text/plain": [
       "'This a A wieRD string WHIch has AJEEb stufF'"
      ]
     },
     "execution_count": 75,
     "metadata": {},
     "output_type": "execute_result"
    }
   ],
   "source": [
    "s"
   ]
  },
  {
   "cell_type": "code",
   "execution_count": 78,
   "id": "7036b599",
   "metadata": {},
   "outputs": [
    {
     "data": {
      "text/plain": [
       "False"
      ]
     },
     "execution_count": 78,
     "metadata": {},
     "output_type": "execute_result"
    }
   ],
   "source": [
    "s.startswith(\"THIS\")"
   ]
  },
  {
   "cell_type": "code",
   "execution_count": 79,
   "id": "0da55ef2",
   "metadata": {},
   "outputs": [],
   "source": [
    "# https://www.something.com"
   ]
  },
  {
   "cell_type": "code",
   "execution_count": 80,
   "id": "d5422d63",
   "metadata": {},
   "outputs": [],
   "source": [
    "s = \"HTTP//:www.something.com\""
   ]
  },
  {
   "cell_type": "code",
   "execution_count": 81,
   "id": "9fe0a4e0",
   "metadata": {},
   "outputs": [],
   "source": [
    "result = s.lower().startswith(\"https://\")"
   ]
  },
  {
   "cell_type": "code",
   "execution_count": 82,
   "id": "0ef645b4",
   "metadata": {},
   "outputs": [
    {
     "data": {
      "text/plain": [
       "False"
      ]
     },
     "execution_count": 82,
     "metadata": {},
     "output_type": "execute_result"
    }
   ],
   "source": [
    "result"
   ]
  },
  {
   "cell_type": "code",
   "execution_count": 83,
   "id": "626571bc",
   "metadata": {},
   "outputs": [],
   "source": [
    "l = 45\n",
    "b = 55\n",
    "a = l*b"
   ]
  },
  {
   "cell_type": "code",
   "execution_count": 84,
   "id": "da473fa9",
   "metadata": {},
   "outputs": [
    {
     "data": {
      "text/plain": [
       "'Length = 45, Breadth = 55, Area = ?'"
      ]
     },
     "execution_count": 84,
     "metadata": {},
     "output_type": "execute_result"
    }
   ],
   "source": [
    "\"Length = 45, Breadth = 55, Area = ?\""
   ]
  },
  {
   "cell_type": "code",
   "execution_count": 85,
   "id": "d4f3d3aa",
   "metadata": {},
   "outputs": [],
   "source": [
    "r = \"Length = \" + str(l) + \", Breadth = \" + str(b) + \", Area = \" + str(a)"
   ]
  },
  {
   "cell_type": "code",
   "execution_count": 86,
   "id": "362b3bc9",
   "metadata": {},
   "outputs": [
    {
     "data": {
      "text/plain": [
       "'Length = 45, Breadth = 55, Area = 2475'"
      ]
     },
     "execution_count": 86,
     "metadata": {},
     "output_type": "execute_result"
    }
   ],
   "source": [
    "r"
   ]
  },
  {
   "cell_type": "code",
   "execution_count": 89,
   "id": "bb2e0252",
   "metadata": {},
   "outputs": [],
   "source": [
    "r = \"Length = {}, Breadth = {}, Area = {}\".format(l, b, a)"
   ]
  },
  {
   "cell_type": "code",
   "execution_count": 90,
   "id": "acb02cbf",
   "metadata": {},
   "outputs": [
    {
     "data": {
      "text/plain": [
       "'Length = 45, Breadth = 55, Area = 2475'"
      ]
     },
     "execution_count": 90,
     "metadata": {},
     "output_type": "execute_result"
    }
   ],
   "source": [
    "r"
   ]
  },
  {
   "cell_type": "code",
   "execution_count": 91,
   "id": "320ce15d",
   "metadata": {},
   "outputs": [],
   "source": [
    "r = f\"Length = {l}, Breadth = {b}, Area = {a}\""
   ]
  },
  {
   "cell_type": "code",
   "execution_count": 92,
   "id": "28086db2",
   "metadata": {},
   "outputs": [
    {
     "data": {
      "text/plain": [
       "'Length = 45, Breadth = 55, Area = 2475'"
      ]
     },
     "execution_count": 92,
     "metadata": {},
     "output_type": "execute_result"
    }
   ],
   "source": [
    "r"
   ]
  },
  {
   "cell_type": "code",
   "execution_count": 94,
   "id": "d1244806",
   "metadata": {},
   "outputs": [],
   "source": [
    "s = \"This is a string which is separated by spaces\""
   ]
  },
  {
   "cell_type": "code",
   "execution_count": 95,
   "id": "69ad844c",
   "metadata": {},
   "outputs": [
    {
     "data": {
      "text/plain": [
       "['This', 'is', 'a', 'string', 'which', 'is', 'separated', 'by', 'spaces']"
      ]
     },
     "execution_count": 95,
     "metadata": {},
     "output_type": "execute_result"
    }
   ],
   "source": [
    "s.split(\" \")"
   ]
  },
  {
   "cell_type": "code",
   "execution_count": 96,
   "id": "11bc93bf",
   "metadata": {},
   "outputs": [
    {
     "data": {
      "text/plain": [
       "['This is ', ' string which is sep', 'r', 'ted by sp', 'ces']"
      ]
     },
     "execution_count": 96,
     "metadata": {},
     "output_type": "execute_result"
    }
   ],
   "source": [
    "s.split(\"a\")"
   ]
  },
  {
   "cell_type": "code",
   "execution_count": 97,
   "id": "bc43bc23",
   "metadata": {},
   "outputs": [],
   "source": [
    "l = s.split()"
   ]
  },
  {
   "cell_type": "code",
   "execution_count": 98,
   "id": "327fbe70",
   "metadata": {},
   "outputs": [
    {
     "data": {
      "text/plain": [
       "['This', 'is', 'a', 'string', 'which', 'is', 'separated', 'by', 'spaces']"
      ]
     },
     "execution_count": 98,
     "metadata": {},
     "output_type": "execute_result"
    }
   ],
   "source": [
    "l"
   ]
  },
  {
   "cell_type": "code",
   "execution_count": 99,
   "id": "3a8614f0",
   "metadata": {},
   "outputs": [
    {
     "ename": "AttributeError",
     "evalue": "'list' object has no attribute 'join'",
     "output_type": "error",
     "traceback": [
      "\u001b[0;31m---------------------------------------------------------------------------\u001b[0m",
      "\u001b[0;31mAttributeError\u001b[0m                            Traceback (most recent call last)",
      "\u001b[0;32m/var/folders/nn/c52y0d3j0gq59dpsswchkt2r0000gn/T/ipykernel_69793/2861050726.py\u001b[0m in \u001b[0;36m<module>\u001b[0;34m\u001b[0m\n\u001b[0;32m----> 1\u001b[0;31m \u001b[0ml\u001b[0m\u001b[0;34m.\u001b[0m\u001b[0mjoin\u001b[0m\u001b[0;34m(\u001b[0m\u001b[0;34m\"-\"\u001b[0m\u001b[0;34m)\u001b[0m\u001b[0;34m\u001b[0m\u001b[0;34m\u001b[0m\u001b[0m\n\u001b[0m",
      "\u001b[0;31mAttributeError\u001b[0m: 'list' object has no attribute 'join'"
     ]
    }
   ],
   "source": [
    "l.join(\"-\")"
   ]
  },
  {
   "cell_type": "code",
   "execution_count": 100,
   "id": "5bf8c6b5",
   "metadata": {},
   "outputs": [
    {
     "data": {
      "text/plain": [
       "'This-is-a-string-which-is-separated-by-spaces'"
      ]
     },
     "execution_count": 100,
     "metadata": {},
     "output_type": "execute_result"
    }
   ],
   "source": [
    "\"-\".join(l)"
   ]
  },
  {
   "cell_type": "code",
   "execution_count": 101,
   "id": "bb0c65b4",
   "metadata": {},
   "outputs": [],
   "source": [
    "a = [1,2,3,[4,5],[[[[[5,6,7],[8,9,0]]]]]]"
   ]
  },
  {
   "cell_type": "code",
   "execution_count": 102,
   "id": "4edb748a",
   "metadata": {},
   "outputs": [],
   "source": [
    "# 0,1,2,3,4,5,6,7,8,9"
   ]
  },
  {
   "cell_type": "code",
   "execution_count": 103,
   "id": "b0b30e56",
   "metadata": {},
   "outputs": [],
   "source": [
    "def flatten_my_list(a):\n",
    "    result = []\n",
    "    \n",
    "    while a:\n",
    "        element = a.pop()\n",
    "        \n",
    "        if type(element) == list:\n",
    "            a.extend(element)\n",
    "        else:\n",
    "            result.append(element)\n",
    "    \n",
    "    result.sort()\n",
    "    \n",
    "    return result"
   ]
  },
  {
   "cell_type": "code",
   "execution_count": 104,
   "id": "7169d104",
   "metadata": {
    "scrolled": true
   },
   "outputs": [
    {
     "data": {
      "text/plain": [
       "[0, 1, 2, 3, 4, 5, 5, 6, 7, 8, 9]"
      ]
     },
     "execution_count": 104,
     "metadata": {},
     "output_type": "execute_result"
    }
   ],
   "source": [
    "flatten_my_list(a)"
   ]
  },
  {
   "cell_type": "code",
   "execution_count": 105,
   "id": "41474e32",
   "metadata": {},
   "outputs": [],
   "source": [
    "a = [1,2,3]"
   ]
  },
  {
   "cell_type": "code",
   "execution_count": 106,
   "id": "19d52b17",
   "metadata": {},
   "outputs": [],
   "source": [
    "a.extend([4,5,6])"
   ]
  },
  {
   "cell_type": "code",
   "execution_count": 107,
   "id": "9beac7a1",
   "metadata": {},
   "outputs": [
    {
     "data": {
      "text/plain": [
       "[1, 2, 3, 4, 5, 6]"
      ]
     },
     "execution_count": 107,
     "metadata": {},
     "output_type": "execute_result"
    }
   ],
   "source": [
    "a"
   ]
  },
  {
   "cell_type": "code",
   "execution_count": 108,
   "id": "058b21b5",
   "metadata": {},
   "outputs": [
    {
     "data": {
      "text/plain": [
       "[1, 2, 3, 4, 5, 6]"
      ]
     },
     "execution_count": 108,
     "metadata": {},
     "output_type": "execute_result"
    }
   ],
   "source": [
    "[1,2,3]+[4,5,6]"
   ]
  },
  {
   "cell_type": "code",
   "execution_count": 111,
   "id": "a504fa7c",
   "metadata": {},
   "outputs": [
    {
     "data": {
      "text/plain": [
       "False"
      ]
     },
     "execution_count": 111,
     "metadata": {},
     "output_type": "execute_result"
    }
   ],
   "source": [
    "bool([])"
   ]
  },
  {
   "cell_type": "code",
   "execution_count": 112,
   "id": "6e8da288",
   "metadata": {},
   "outputs": [],
   "source": [
    "board = [[\"\"]*3]*3"
   ]
  },
  {
   "cell_type": "code",
   "execution_count": 114,
   "id": "d9834b70",
   "metadata": {},
   "outputs": [
    {
     "data": {
      "text/plain": [
       "[['', '', ''], ['', '', ''], ['', '', '']]"
      ]
     },
     "execution_count": 114,
     "metadata": {},
     "output_type": "execute_result"
    }
   ],
   "source": [
    "board"
   ]
  },
  {
   "cell_type": "code",
   "execution_count": 118,
   "id": "d6506190",
   "metadata": {},
   "outputs": [
    {
     "data": {
      "text/plain": [
       "['', '', '']"
      ]
     },
     "execution_count": 118,
     "metadata": {},
     "output_type": "execute_result"
    }
   ],
   "source": [
    "board[2]"
   ]
  },
  {
   "cell_type": "code",
   "execution_count": 115,
   "id": "9b7411df",
   "metadata": {},
   "outputs": [
    {
     "data": {
      "text/plain": [
       "True"
      ]
     },
     "execution_count": 115,
     "metadata": {},
     "output_type": "execute_result"
    }
   ],
   "source": [
    "id(board[0])==id(board[1])==id(board[2])"
   ]
  },
  {
   "cell_type": "code",
   "execution_count": 119,
   "id": "38cb4158",
   "metadata": {},
   "outputs": [
    {
     "data": {
      "text/plain": [
       "True"
      ]
     },
     "execution_count": 119,
     "metadata": {},
     "output_type": "execute_result"
    }
   ],
   "source": [
    "id(board[0][0])==id(board[0][2])==id(board[1][1])==id(board[2][0])"
   ]
  },
  {
   "cell_type": "code",
   "execution_count": 120,
   "id": "ffd58680",
   "metadata": {},
   "outputs": [],
   "source": [
    "l = [\"a\", \"b\", \"c\"]"
   ]
  },
  {
   "cell_type": "code",
   "execution_count": 121,
   "id": "da15c51f",
   "metadata": {},
   "outputs": [],
   "source": [
    "l[0] = \"d\""
   ]
  },
  {
   "cell_type": "code",
   "execution_count": 122,
   "id": "9160f1d5",
   "metadata": {},
   "outputs": [
    {
     "data": {
      "text/plain": [
       "['d', 'b', 'c']"
      ]
     },
     "execution_count": 122,
     "metadata": {},
     "output_type": "execute_result"
    }
   ],
   "source": [
    "l"
   ]
  },
  {
   "cell_type": "code",
   "execution_count": 123,
   "id": "9ec6c180",
   "metadata": {},
   "outputs": [],
   "source": [
    "a = 5\n",
    "b = 5"
   ]
  },
  {
   "cell_type": "code",
   "execution_count": 124,
   "id": "000877be",
   "metadata": {},
   "outputs": [],
   "source": [
    "a = 6"
   ]
  },
  {
   "cell_type": "code",
   "execution_count": 125,
   "id": "e4ea121c",
   "metadata": {},
   "outputs": [
    {
     "data": {
      "text/plain": [
       "5"
      ]
     },
     "execution_count": 125,
     "metadata": {},
     "output_type": "execute_result"
    }
   ],
   "source": [
    "b"
   ]
  },
  {
   "cell_type": "code",
   "execution_count": 126,
   "id": "73254dc9",
   "metadata": {},
   "outputs": [],
   "source": [
    "d = {\n",
    "    5: \"something\"\n",
    "}"
   ]
  },
  {
   "cell_type": "code",
   "execution_count": 127,
   "id": "bac5955e",
   "metadata": {},
   "outputs": [
    {
     "data": {
      "text/plain": [
       "{5: 'something'}"
      ]
     },
     "execution_count": 127,
     "metadata": {},
     "output_type": "execute_result"
    }
   ],
   "source": [
    "d"
   ]
  },
  {
   "cell_type": "code",
   "execution_count": 128,
   "id": "81ff026b",
   "metadata": {},
   "outputs": [],
   "source": [
    "d[5.0] = \"something else\""
   ]
  },
  {
   "cell_type": "code",
   "execution_count": 129,
   "id": "a0fa2fd2",
   "metadata": {},
   "outputs": [
    {
     "data": {
      "text/plain": [
       "{5: 'something else'}"
      ]
     },
     "execution_count": 129,
     "metadata": {},
     "output_type": "execute_result"
    }
   ],
   "source": [
    "d"
   ]
  },
  {
   "cell_type": "code",
   "execution_count": 131,
   "id": "ffd3d963",
   "metadata": {},
   "outputs": [
    {
     "data": {
      "text/plain": [
       "True"
      ]
     },
     "execution_count": 131,
     "metadata": {},
     "output_type": "execute_result"
    }
   ],
   "source": [
    "5.4 == 5.4"
   ]
  },
  {
   "cell_type": "code",
   "execution_count": null,
   "id": "c1723252",
   "metadata": {},
   "outputs": [],
   "source": []
  }
 ],
 "metadata": {
  "kernelspec": {
   "display_name": "Python 3 (ipykernel)",
   "language": "python",
   "name": "python3"
  },
  "language_info": {
   "codemirror_mode": {
    "name": "ipython",
    "version": 3
   },
   "file_extension": ".py",
   "mimetype": "text/x-python",
   "name": "python",
   "nbconvert_exporter": "python",
   "pygments_lexer": "ipython3",
   "version": "3.9.5"
  }
 },
 "nbformat": 4,
 "nbformat_minor": 5
}
