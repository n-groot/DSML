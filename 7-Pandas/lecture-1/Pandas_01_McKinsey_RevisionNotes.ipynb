{
  "nbformat": 4,
  "nbformat_minor": 0,
  "metadata": {
    "colab": {
      "provenance": [],
      "collapsed_sections": [
        "28e4ca6c",
        "9447d2bf",
        "7jQCdb4OBcar",
        "2b3294e7",
        "OG4H-4PcBqz1"
      ]
    },
    "kernelspec": {
      "name": "python3",
      "display_name": "Python 3"
    },
    "language_info": {
      "name": "python"
    }
  },
  "cells": [
    {
      "cell_type": "markdown",
      "source": [
        "## Outline\n"
      ],
      "metadata": {
        "id": "TfmdkrGWzkPR"
      }
    },
    {
      "cell_type": "markdown",
      "metadata": {
        "id": "eqcby-D-WRp2"
      },
      "source": [
        "\n",
        "  - **Installation of pandas** \n",
        "    - Importing pandas\n",
        "    - Importing the dataset \n",
        "    - Dataframe/Series\n",
        "  \n",
        "  - **Basic ops on a DataFrame** \n",
        "    - df.info()\n",
        "    - df.head()\n",
        "    - df.tail()\n",
        "    - df.shape()\n",
        "  - **Creating Dataframe from Scratch**\n",
        "\n",
        "  - **Basic ops on columns** \n",
        "    - Different ways of accessing cols\n",
        "    - Check for Unique values\n",
        "    - Rename column\n",
        "    - Deleting col\n",
        "    - Creating new cols\n",
        "\n",
        "  \n",
        "  - **Basic ops on rows** \n",
        "    - Implicit/explicit index\n",
        "    - df.index\n",
        "    - Indexing in series\n",
        "    - Slicing in series\n",
        "    - loc/iloc\n",
        "    - Adding a row\n",
        "    - Deleting a row\n",
        "    - Check for duplicates\n",
        "      \n",
        "\n",
        "  \n"
      ]
    },
    {
      "cell_type": "markdown",
      "metadata": {
        "id": "OVIlt8odWREq"
      },
      "source": [
        "\n",
        "\n",
        "### Today's Agenda \n",
        "- Today's lecture is about **Pandas** library\n",
        "- We'll see **what** is Pandas\n",
        "- **Why** we use this library\n",
        "- We'll also look at some **interesting tasks** we can do **using Pandas**\n",
        "\n",
        "\n",
        "<!-- ### Before we start: [00:10 - 00:15]\n",
        "\n",
        "- Download .csv files from shared link\n",
        "\n",
        "\n",
        "- Create a folder in same directory as your running Jupyter Notebook\n",
        "\n",
        "\n",
        "- Rename this folder to **data**\n",
        "\n",
        "\n",
        "- **Place the downloaded .csv files in that folder called \"data\"**\n",
        "\n",
        "\n",
        "- This way, we **don't have to provide complete path** every time we want to access any of our .csv files\n",
        "\n",
        "\n",
        "- We just have to provide the **relative path**\n",
        "    - `data/<csv_file_name>` -->\n",
        "\n",
        "\n",
        "\n",
        "## Installing Pandas "
      ]
    },
    {
      "cell_type": "code",
      "execution_count": null,
      "metadata": {
        "id": "5f5da047"
      },
      "outputs": [],
      "source": [
        "# !pip install pandas"
      ]
    },
    {
      "cell_type": "markdown",
      "metadata": {
        "id": "446f716f"
      },
      "source": [
        "## Importing Pandas \n",
        "\n",
        "- You should be able to import Pandas after installing it\n",
        "\n",
        "\n",
        "- We'll import `pandas` as its **alias name `pd`**"
      ]
    },
    {
      "cell_type": "code",
      "execution_count": null,
      "metadata": {
        "id": "181fe5f6"
      },
      "outputs": [],
      "source": [
        "import pandas as pd\n",
        "import numpy as np"
      ]
    },
    {
      "cell_type": "markdown",
      "source": [
        "## Introduction: Why to use Pandas? \n"
      ],
      "metadata": {
        "id": "DdtuTOMSeFXL"
      }
    },
    {
      "cell_type": "markdown",
      "source": [
        "#### How is it different from numpy ?\n",
        "\n",
        "  - The major **limitation of numpy** is that it can only work with 1 datatype at a time\n",
        "\n",
        "  - Most real-world datasets contain a mixture of different datatypes \n",
        "    - Like **names of places would be string** but their **population would be int**\n",
        "  \n",
        "==> It is **difficult to work** with data having **heterogeneous values using Numpy**\n",
        "\n",
        "#### Pandas can work with numbers and strings together\n",
        "\n",
        "<!-- - If our **data has only numbers**, we are better off using **Numpy** \n",
        "  - It's **lighter** and **easier**\n",
        "\n",
        "- But if our data has both **number and non-number vals**, it makes sense to use **Pandas** -->\n",
        "\n",
        "So lets see how we can use pandas\n",
        "\n"
      ],
      "metadata": {
        "id": "cS3NMXu6-1-K"
      }
    },
    {
      "cell_type": "markdown",
      "source": [
        "## Imagine that you are a Data Scientist with McKinsey\n"
      ],
      "metadata": {
        "id": "7GD8wpDrCXbt"
      }
    },
    {
      "cell_type": "markdown",
      "metadata": {
        "id": "eBP5xpFNY9dD"
      },
      "source": [
        "\n",
        "  - McKinsey wants to understand the relation between **GDP per capita** and **life expectancy** and various trends for their clients.\n",
        "  - The company has acquired **data from multiple surveys** in different countries in the past\n",
        "  - This contains info of several years about:\n",
        "   - country\n",
        "   - population size\n",
        "   - life expectancy\n",
        "   - GDP per Capita\n",
        "  - We have to analyse the data and draw **inferences** meaningful to the company"
      ]
    },
    {
      "cell_type": "markdown",
      "metadata": {
        "id": "aXrlcBm-bOjH"
      },
      "source": [
        "## Reading dataset in Pandas\n",
        "\n",
        "Link:https://drive.google.com/file/d/1E3bwvYGf1ig32RmcYiWc0IXPN-mD_bI_/view?usp=sharing"
      ]
    },
    {
      "cell_type": "code",
      "execution_count": null,
      "metadata": {
        "colab": {
          "base_uri": "https://localhost:8080/"
        },
        "id": "3i2-oKC4bUK-",
        "outputId": "ea0e8007-1097-47d3-aa71-50be1235dd73"
      },
      "outputs": [
        {
          "output_type": "stream",
          "name": "stdout",
          "text": [
            "--2022-09-30 07:47:34--  https://drive.google.com/uc?export=download&id=1E3bwvYGf1ig32RmcYiWc0IXPN-mD_bI_\n",
            "Resolving drive.google.com (drive.google.com)... 142.250.141.113, 142.250.141.139, 142.250.141.100, ...\n",
            "Connecting to drive.google.com (drive.google.com)|142.250.141.113|:443... connected.\n",
            "HTTP request sent, awaiting response... 303 See Other\n",
            "Location: https://doc-0s-68-docs.googleusercontent.com/docs/securesc/ha0ro937gcuc7l7deffksulhg5h7mbp1/itr81pvl10ocoh32lble1lajblq4u4a4/1664524050000/14302370361230157278/*/1E3bwvYGf1ig32RmcYiWc0IXPN-mD_bI_?e=download&uuid=56db763a-80f7-441b-b0fa-733eff3afa7e [following]\n",
            "Warning: wildcards not supported in HTTP.\n",
            "--2022-09-30 07:47:35--  https://doc-0s-68-docs.googleusercontent.com/docs/securesc/ha0ro937gcuc7l7deffksulhg5h7mbp1/itr81pvl10ocoh32lble1lajblq4u4a4/1664524050000/14302370361230157278/*/1E3bwvYGf1ig32RmcYiWc0IXPN-mD_bI_?e=download&uuid=56db763a-80f7-441b-b0fa-733eff3afa7e\n",
            "Resolving doc-0s-68-docs.googleusercontent.com (doc-0s-68-docs.googleusercontent.com)... 142.251.2.132, 2607:f8b0:4023:c0d::84\n",
            "Connecting to doc-0s-68-docs.googleusercontent.com (doc-0s-68-docs.googleusercontent.com)|142.251.2.132|:443... connected.\n",
            "HTTP request sent, awaiting response... 200 OK\n",
            "Length: 83785 (82K) [text/csv]\n",
            "Saving to: ‘gapminder.csv’\n",
            "\n",
            "gapminder.csv       100%[===================>]  81.82K  --.-KB/s    in 0.001s  \n",
            "\n",
            "2022-09-30 07:47:35 (103 MB/s) - ‘gapminder.csv’ saved [83785/83785]\n",
            "\n"
          ]
        }
      ],
      "source": [
        "!wget \"https://drive.google.com/uc?export=download&id=1E3bwvYGf1ig32RmcYiWc0IXPN-mD_bI_\" -O gapminder.csv"
      ]
    },
    {
      "cell_type": "markdown",
      "metadata": {
        "id": "xyjKAYjAbUnN"
      },
      "source": [
        "#### Now how should we read this dataset?\n",
        "\n",
        "Pandas makes it very easy to work with these kinds of files\n",
        "\n"
      ]
    },
    {
      "cell_type": "code",
      "execution_count": null,
      "metadata": {
        "colab": {
          "base_uri": "https://localhost:8080/",
          "height": 424
        },
        "id": "6fcbe548",
        "outputId": "4e0e1c61-ed42-4e22-e615-75ddc61683f3",
        "scrolled": true
      },
      "outputs": [
        {
          "output_type": "execute_result",
          "data": {
            "text/plain": [
              "          country  year  population continent  life_exp     gdp_cap\n",
              "0     Afghanistan  1952     8425333      Asia    28.801  779.445314\n",
              "1     Afghanistan  1957     9240934      Asia    30.332  820.853030\n",
              "2     Afghanistan  1962    10267083      Asia    31.997  853.100710\n",
              "3     Afghanistan  1967    11537966      Asia    34.020  836.197138\n",
              "4     Afghanistan  1972    13079460      Asia    36.088  739.981106\n",
              "...           ...   ...         ...       ...       ...         ...\n",
              "1699     Zimbabwe  1987     9216418    Africa    62.351  706.157306\n",
              "1700     Zimbabwe  1992    10704340    Africa    60.377  693.420786\n",
              "1701     Zimbabwe  1997    11404948    Africa    46.809  792.449960\n",
              "1702     Zimbabwe  2002    11926563    Africa    39.989  672.038623\n",
              "1703     Zimbabwe  2007    12311143    Africa    43.487  469.709298\n",
              "\n",
              "[1704 rows x 6 columns]"
            ],
            "text/html": [
              "\n",
              "  <div id=\"df-95f472b0-7365-419e-a55d-0f6a09e3bbfc\">\n",
              "    <div class=\"colab-df-container\">\n",
              "      <div>\n",
              "<style scoped>\n",
              "    .dataframe tbody tr th:only-of-type {\n",
              "        vertical-align: middle;\n",
              "    }\n",
              "\n",
              "    .dataframe tbody tr th {\n",
              "        vertical-align: top;\n",
              "    }\n",
              "\n",
              "    .dataframe thead th {\n",
              "        text-align: right;\n",
              "    }\n",
              "</style>\n",
              "<table border=\"1\" class=\"dataframe\">\n",
              "  <thead>\n",
              "    <tr style=\"text-align: right;\">\n",
              "      <th></th>\n",
              "      <th>country</th>\n",
              "      <th>year</th>\n",
              "      <th>population</th>\n",
              "      <th>continent</th>\n",
              "      <th>life_exp</th>\n",
              "      <th>gdp_cap</th>\n",
              "    </tr>\n",
              "  </thead>\n",
              "  <tbody>\n",
              "    <tr>\n",
              "      <th>0</th>\n",
              "      <td>Afghanistan</td>\n",
              "      <td>1952</td>\n",
              "      <td>8425333</td>\n",
              "      <td>Asia</td>\n",
              "      <td>28.801</td>\n",
              "      <td>779.445314</td>\n",
              "    </tr>\n",
              "    <tr>\n",
              "      <th>1</th>\n",
              "      <td>Afghanistan</td>\n",
              "      <td>1957</td>\n",
              "      <td>9240934</td>\n",
              "      <td>Asia</td>\n",
              "      <td>30.332</td>\n",
              "      <td>820.853030</td>\n",
              "    </tr>\n",
              "    <tr>\n",
              "      <th>2</th>\n",
              "      <td>Afghanistan</td>\n",
              "      <td>1962</td>\n",
              "      <td>10267083</td>\n",
              "      <td>Asia</td>\n",
              "      <td>31.997</td>\n",
              "      <td>853.100710</td>\n",
              "    </tr>\n",
              "    <tr>\n",
              "      <th>3</th>\n",
              "      <td>Afghanistan</td>\n",
              "      <td>1967</td>\n",
              "      <td>11537966</td>\n",
              "      <td>Asia</td>\n",
              "      <td>34.020</td>\n",
              "      <td>836.197138</td>\n",
              "    </tr>\n",
              "    <tr>\n",
              "      <th>4</th>\n",
              "      <td>Afghanistan</td>\n",
              "      <td>1972</td>\n",
              "      <td>13079460</td>\n",
              "      <td>Asia</td>\n",
              "      <td>36.088</td>\n",
              "      <td>739.981106</td>\n",
              "    </tr>\n",
              "    <tr>\n",
              "      <th>...</th>\n",
              "      <td>...</td>\n",
              "      <td>...</td>\n",
              "      <td>...</td>\n",
              "      <td>...</td>\n",
              "      <td>...</td>\n",
              "      <td>...</td>\n",
              "    </tr>\n",
              "    <tr>\n",
              "      <th>1699</th>\n",
              "      <td>Zimbabwe</td>\n",
              "      <td>1987</td>\n",
              "      <td>9216418</td>\n",
              "      <td>Africa</td>\n",
              "      <td>62.351</td>\n",
              "      <td>706.157306</td>\n",
              "    </tr>\n",
              "    <tr>\n",
              "      <th>1700</th>\n",
              "      <td>Zimbabwe</td>\n",
              "      <td>1992</td>\n",
              "      <td>10704340</td>\n",
              "      <td>Africa</td>\n",
              "      <td>60.377</td>\n",
              "      <td>693.420786</td>\n",
              "    </tr>\n",
              "    <tr>\n",
              "      <th>1701</th>\n",
              "      <td>Zimbabwe</td>\n",
              "      <td>1997</td>\n",
              "      <td>11404948</td>\n",
              "      <td>Africa</td>\n",
              "      <td>46.809</td>\n",
              "      <td>792.449960</td>\n",
              "    </tr>\n",
              "    <tr>\n",
              "      <th>1702</th>\n",
              "      <td>Zimbabwe</td>\n",
              "      <td>2002</td>\n",
              "      <td>11926563</td>\n",
              "      <td>Africa</td>\n",
              "      <td>39.989</td>\n",
              "      <td>672.038623</td>\n",
              "    </tr>\n",
              "    <tr>\n",
              "      <th>1703</th>\n",
              "      <td>Zimbabwe</td>\n",
              "      <td>2007</td>\n",
              "      <td>12311143</td>\n",
              "      <td>Africa</td>\n",
              "      <td>43.487</td>\n",
              "      <td>469.709298</td>\n",
              "    </tr>\n",
              "  </tbody>\n",
              "</table>\n",
              "<p>1704 rows × 6 columns</p>\n",
              "</div>\n",
              "      <button class=\"colab-df-convert\" onclick=\"convertToInteractive('df-95f472b0-7365-419e-a55d-0f6a09e3bbfc')\"\n",
              "              title=\"Convert this dataframe to an interactive table.\"\n",
              "              style=\"display:none;\">\n",
              "        \n",
              "  <svg xmlns=\"http://www.w3.org/2000/svg\" height=\"24px\"viewBox=\"0 0 24 24\"\n",
              "       width=\"24px\">\n",
              "    <path d=\"M0 0h24v24H0V0z\" fill=\"none\"/>\n",
              "    <path d=\"M18.56 5.44l.94 2.06.94-2.06 2.06-.94-2.06-.94-.94-2.06-.94 2.06-2.06.94zm-11 1L8.5 8.5l.94-2.06 2.06-.94-2.06-.94L8.5 2.5l-.94 2.06-2.06.94zm10 10l.94 2.06.94-2.06 2.06-.94-2.06-.94-.94-2.06-.94 2.06-2.06.94z\"/><path d=\"M17.41 7.96l-1.37-1.37c-.4-.4-.92-.59-1.43-.59-.52 0-1.04.2-1.43.59L10.3 9.45l-7.72 7.72c-.78.78-.78 2.05 0 2.83L4 21.41c.39.39.9.59 1.41.59.51 0 1.02-.2 1.41-.59l7.78-7.78 2.81-2.81c.8-.78.8-2.07 0-2.86zM5.41 20L4 18.59l7.72-7.72 1.47 1.35L5.41 20z\"/>\n",
              "  </svg>\n",
              "      </button>\n",
              "      \n",
              "  <style>\n",
              "    .colab-df-container {\n",
              "      display:flex;\n",
              "      flex-wrap:wrap;\n",
              "      gap: 12px;\n",
              "    }\n",
              "\n",
              "    .colab-df-convert {\n",
              "      background-color: #E8F0FE;\n",
              "      border: none;\n",
              "      border-radius: 50%;\n",
              "      cursor: pointer;\n",
              "      display: none;\n",
              "      fill: #1967D2;\n",
              "      height: 32px;\n",
              "      padding: 0 0 0 0;\n",
              "      width: 32px;\n",
              "    }\n",
              "\n",
              "    .colab-df-convert:hover {\n",
              "      background-color: #E2EBFA;\n",
              "      box-shadow: 0px 1px 2px rgba(60, 64, 67, 0.3), 0px 1px 3px 1px rgba(60, 64, 67, 0.15);\n",
              "      fill: #174EA6;\n",
              "    }\n",
              "\n",
              "    [theme=dark] .colab-df-convert {\n",
              "      background-color: #3B4455;\n",
              "      fill: #D2E3FC;\n",
              "    }\n",
              "\n",
              "    [theme=dark] .colab-df-convert:hover {\n",
              "      background-color: #434B5C;\n",
              "      box-shadow: 0px 1px 3px 1px rgba(0, 0, 0, 0.15);\n",
              "      filter: drop-shadow(0px 1px 2px rgba(0, 0, 0, 0.3));\n",
              "      fill: #FFFFFF;\n",
              "    }\n",
              "  </style>\n",
              "\n",
              "      <script>\n",
              "        const buttonEl =\n",
              "          document.querySelector('#df-95f472b0-7365-419e-a55d-0f6a09e3bbfc button.colab-df-convert');\n",
              "        buttonEl.style.display =\n",
              "          google.colab.kernel.accessAllowed ? 'block' : 'none';\n",
              "\n",
              "        async function convertToInteractive(key) {\n",
              "          const element = document.querySelector('#df-95f472b0-7365-419e-a55d-0f6a09e3bbfc');\n",
              "          const dataTable =\n",
              "            await google.colab.kernel.invokeFunction('convertToInteractive',\n",
              "                                                     [key], {});\n",
              "          if (!dataTable) return;\n",
              "\n",
              "          const docLinkHtml = 'Like what you see? Visit the ' +\n",
              "            '<a target=\"_blank\" href=https://colab.research.google.com/notebooks/data_table.ipynb>data table notebook</a>'\n",
              "            + ' to learn more about interactive tables.';\n",
              "          element.innerHTML = '';\n",
              "          dataTable['output_type'] = 'display_data';\n",
              "          await google.colab.output.renderOutput(dataTable, element);\n",
              "          const docLink = document.createElement('div');\n",
              "          docLink.innerHTML = docLinkHtml;\n",
              "          element.appendChild(docLink);\n",
              "        }\n",
              "      </script>\n",
              "    </div>\n",
              "  </div>\n",
              "  "
            ]
          },
          "metadata": {},
          "execution_count": 4
        }
      ],
      "source": [
        "df = pd.read_csv('gapminder.csv') # We are storing the data in df\n",
        "df"
      ]
    },
    {
      "cell_type": "markdown",
      "source": [
        "## Dataframe and Series"
      ],
      "metadata": {
        "id": "G4gZ8vAID8Aw"
      }
    },
    {
      "cell_type": "markdown",
      "metadata": {
        "id": "19a21861"
      },
      "source": [
        "\n",
        "#### What can we observe from the above dataset ?\n",
        "\n",
        "We can see that it has:\n",
        "  - 6 columns\n",
        "  - 1704 rows \n",
        "\n",
        "#### What do you think is the datatype of `df` ?"
      ]
    },
    {
      "cell_type": "code",
      "execution_count": null,
      "metadata": {
        "colab": {
          "base_uri": "https://localhost:8080/"
        },
        "id": "23d344e3",
        "outputId": "cd4fb496-0b52-4aea-b681-f6daacce54dc",
        "scrolled": true
      },
      "outputs": [
        {
          "output_type": "execute_result",
          "data": {
            "text/plain": [
              "pandas.core.frame.DataFrame"
            ]
          },
          "metadata": {},
          "execution_count": 5
        }
      ],
      "source": [
        "type(df)"
      ]
    },
    {
      "cell_type": "markdown",
      "metadata": {
        "id": "dxhzgFO_cL2P"
      },
      "source": [
        "Its a **pandas DataFrame**\n",
        "\n",
        "### What is a pandas DataFrame ?\n",
        "\n",
        "  - It is a table-like representation of data in Pandas => Structured Data \n",
        "  - **Structured Data** here can be thought of as **tabular data in a proper order**\n",
        "  - Considered as **counterpart of 2D-Matrix** in Numpy"
      ]
    },
    {
      "cell_type": "markdown",
      "metadata": {
        "id": "2f5ba90f"
      },
      "source": [
        "#### Now how can we access a column, say `country` of the dataframe?"
      ]
    },
    {
      "cell_type": "code",
      "execution_count": null,
      "metadata": {
        "colab": {
          "base_uri": "https://localhost:8080/"
        },
        "id": "lDNAGMLwcS6V",
        "outputId": "7a63bab6-e584-4f0b-efe7-81164f8bd29b"
      },
      "outputs": [
        {
          "output_type": "execute_result",
          "data": {
            "text/plain": [
              "0       Afghanistan\n",
              "1       Afghanistan\n",
              "2       Afghanistan\n",
              "3       Afghanistan\n",
              "4       Afghanistan\n",
              "           ...     \n",
              "1699       Zimbabwe\n",
              "1700       Zimbabwe\n",
              "1701       Zimbabwe\n",
              "1702       Zimbabwe\n",
              "1703       Zimbabwe\n",
              "Name: country, Length: 1704, dtype: object"
            ]
          },
          "metadata": {},
          "execution_count": 6
        }
      ],
      "source": [
        "df[\"country\"]"
      ]
    },
    {
      "cell_type": "markdown",
      "metadata": {
        "id": "jjWPuzgjcXXR"
      },
      "source": [
        "As you can see we get all the values in the column **country**\n",
        "\n",
        "#### Now what is the data-type of a column?"
      ]
    },
    {
      "cell_type": "code",
      "execution_count": null,
      "metadata": {
        "colab": {
          "base_uri": "https://localhost:8080/"
        },
        "id": "OjNe-RJwd1vH",
        "outputId": "dd349bb2-9e59-400b-c5c1-0292a8d06073"
      },
      "outputs": [
        {
          "output_type": "execute_result",
          "data": {
            "text/plain": [
              "pandas.core.series.Series"
            ]
          },
          "metadata": {},
          "execution_count": 7
        }
      ],
      "source": [
        "type(df[\"country\"])"
      ]
    },
    {
      "cell_type": "markdown",
      "metadata": {
        "id": "OdU8olsNd1SC"
      },
      "source": [
        "Its a **pandas Series**\n",
        "\n",
        "### What is a pandas Series ?\n",
        "  - **Series** in Pandas is what a **Vector** is in Numpy\n",
        "\n",
        "#### What exactly does that mean?\n",
        "\n",
        "  - It means a Series is a **single column** of **data**\n",
        "\n",
        "  - **Multiple Series stack together to form a DataFrame**\n",
        "  "
      ]
    },
    {
      "cell_type": "markdown",
      "metadata": {
        "id": "1989aed4"
      },
      "source": [
        "Now we have understood what Series and DataFrames are \n",
        "\n",
        "#### What if a dataset has 100 rows ... Or 100 columns ?\n",
        "\n",
        "#### How can we find the datatype, name, total entries in each column ?\n"
      ]
    },
    {
      "cell_type": "code",
      "execution_count": null,
      "metadata": {
        "colab": {
          "base_uri": "https://localhost:8080/"
        },
        "id": "GO0zRptDfJ4x",
        "outputId": "3a56f7a4-3ab3-43e4-a443-bb24201995c6"
      },
      "outputs": [
        {
          "output_type": "stream",
          "name": "stdout",
          "text": [
            "<class 'pandas.core.frame.DataFrame'>\n",
            "RangeIndex: 1704 entries, 0 to 1703\n",
            "Data columns (total 6 columns):\n",
            " #   Column      Non-Null Count  Dtype  \n",
            "---  ------      --------------  -----  \n",
            " 0   country     1704 non-null   object \n",
            " 1   year        1704 non-null   int64  \n",
            " 2   population  1704 non-null   int64  \n",
            " 3   continent   1704 non-null   object \n",
            " 4   life_exp    1704 non-null   float64\n",
            " 5   gdp_cap     1704 non-null   float64\n",
            "dtypes: float64(2), int64(2), object(2)\n",
            "memory usage: 80.0+ KB\n"
          ]
        }
      ],
      "source": [
        "df.info()"
      ]
    },
    {
      "cell_type": "markdown",
      "source": [
        "df.info() gives a **list of columns** with:\n",
        "\n",
        "- **Name/Title** of Columns\n",
        "- **How many non-null values (blank cells)** each column has\n",
        "- **Type of values** in each column - int, float, etc.\n",
        "\n",
        "**By default**, it shows **data-type as `object` for anything other than int or float** - Will come back later"
      ],
      "metadata": {
        "id": "cnlA9flDf6-X"
      }
    },
    {
      "cell_type": "markdown",
      "metadata": {
        "id": "SEuMl7MMescw"
      },
      "source": [
        "#### Now what if we want to see the first few rows in the dataset ? \n",
        "\n"
      ]
    },
    {
      "cell_type": "code",
      "execution_count": null,
      "metadata": {
        "colab": {
          "base_uri": "https://localhost:8080/",
          "height": 206
        },
        "id": "4c825d4e",
        "outputId": "95afa951-b82b-47d6-dd2c-0ac205ac498c"
      },
      "outputs": [
        {
          "output_type": "execute_result",
          "data": {
            "text/plain": [
              "       country  year  population continent  life_exp     gdp_cap\n",
              "0  Afghanistan  1952     8425333      Asia    28.801  779.445314\n",
              "1  Afghanistan  1957     9240934      Asia    30.332  820.853030\n",
              "2  Afghanistan  1962    10267083      Asia    31.997  853.100710\n",
              "3  Afghanistan  1967    11537966      Asia    34.020  836.197138\n",
              "4  Afghanistan  1972    13079460      Asia    36.088  739.981106"
            ],
            "text/html": [
              "\n",
              "  <div id=\"df-44f70b51-d522-412f-ab4d-3ff7f0cdd2f6\">\n",
              "    <div class=\"colab-df-container\">\n",
              "      <div>\n",
              "<style scoped>\n",
              "    .dataframe tbody tr th:only-of-type {\n",
              "        vertical-align: middle;\n",
              "    }\n",
              "\n",
              "    .dataframe tbody tr th {\n",
              "        vertical-align: top;\n",
              "    }\n",
              "\n",
              "    .dataframe thead th {\n",
              "        text-align: right;\n",
              "    }\n",
              "</style>\n",
              "<table border=\"1\" class=\"dataframe\">\n",
              "  <thead>\n",
              "    <tr style=\"text-align: right;\">\n",
              "      <th></th>\n",
              "      <th>country</th>\n",
              "      <th>year</th>\n",
              "      <th>population</th>\n",
              "      <th>continent</th>\n",
              "      <th>life_exp</th>\n",
              "      <th>gdp_cap</th>\n",
              "    </tr>\n",
              "  </thead>\n",
              "  <tbody>\n",
              "    <tr>\n",
              "      <th>0</th>\n",
              "      <td>Afghanistan</td>\n",
              "      <td>1952</td>\n",
              "      <td>8425333</td>\n",
              "      <td>Asia</td>\n",
              "      <td>28.801</td>\n",
              "      <td>779.445314</td>\n",
              "    </tr>\n",
              "    <tr>\n",
              "      <th>1</th>\n",
              "      <td>Afghanistan</td>\n",
              "      <td>1957</td>\n",
              "      <td>9240934</td>\n",
              "      <td>Asia</td>\n",
              "      <td>30.332</td>\n",
              "      <td>820.853030</td>\n",
              "    </tr>\n",
              "    <tr>\n",
              "      <th>2</th>\n",
              "      <td>Afghanistan</td>\n",
              "      <td>1962</td>\n",
              "      <td>10267083</td>\n",
              "      <td>Asia</td>\n",
              "      <td>31.997</td>\n",
              "      <td>853.100710</td>\n",
              "    </tr>\n",
              "    <tr>\n",
              "      <th>3</th>\n",
              "      <td>Afghanistan</td>\n",
              "      <td>1967</td>\n",
              "      <td>11537966</td>\n",
              "      <td>Asia</td>\n",
              "      <td>34.020</td>\n",
              "      <td>836.197138</td>\n",
              "    </tr>\n",
              "    <tr>\n",
              "      <th>4</th>\n",
              "      <td>Afghanistan</td>\n",
              "      <td>1972</td>\n",
              "      <td>13079460</td>\n",
              "      <td>Asia</td>\n",
              "      <td>36.088</td>\n",
              "      <td>739.981106</td>\n",
              "    </tr>\n",
              "  </tbody>\n",
              "</table>\n",
              "</div>\n",
              "      <button class=\"colab-df-convert\" onclick=\"convertToInteractive('df-44f70b51-d522-412f-ab4d-3ff7f0cdd2f6')\"\n",
              "              title=\"Convert this dataframe to an interactive table.\"\n",
              "              style=\"display:none;\">\n",
              "        \n",
              "  <svg xmlns=\"http://www.w3.org/2000/svg\" height=\"24px\"viewBox=\"0 0 24 24\"\n",
              "       width=\"24px\">\n",
              "    <path d=\"M0 0h24v24H0V0z\" fill=\"none\"/>\n",
              "    <path d=\"M18.56 5.44l.94 2.06.94-2.06 2.06-.94-2.06-.94-.94-2.06-.94 2.06-2.06.94zm-11 1L8.5 8.5l.94-2.06 2.06-.94-2.06-.94L8.5 2.5l-.94 2.06-2.06.94zm10 10l.94 2.06.94-2.06 2.06-.94-2.06-.94-.94-2.06-.94 2.06-2.06.94z\"/><path d=\"M17.41 7.96l-1.37-1.37c-.4-.4-.92-.59-1.43-.59-.52 0-1.04.2-1.43.59L10.3 9.45l-7.72 7.72c-.78.78-.78 2.05 0 2.83L4 21.41c.39.39.9.59 1.41.59.51 0 1.02-.2 1.41-.59l7.78-7.78 2.81-2.81c.8-.78.8-2.07 0-2.86zM5.41 20L4 18.59l7.72-7.72 1.47 1.35L5.41 20z\"/>\n",
              "  </svg>\n",
              "      </button>\n",
              "      \n",
              "  <style>\n",
              "    .colab-df-container {\n",
              "      display:flex;\n",
              "      flex-wrap:wrap;\n",
              "      gap: 12px;\n",
              "    }\n",
              "\n",
              "    .colab-df-convert {\n",
              "      background-color: #E8F0FE;\n",
              "      border: none;\n",
              "      border-radius: 50%;\n",
              "      cursor: pointer;\n",
              "      display: none;\n",
              "      fill: #1967D2;\n",
              "      height: 32px;\n",
              "      padding: 0 0 0 0;\n",
              "      width: 32px;\n",
              "    }\n",
              "\n",
              "    .colab-df-convert:hover {\n",
              "      background-color: #E2EBFA;\n",
              "      box-shadow: 0px 1px 2px rgba(60, 64, 67, 0.3), 0px 1px 3px 1px rgba(60, 64, 67, 0.15);\n",
              "      fill: #174EA6;\n",
              "    }\n",
              "\n",
              "    [theme=dark] .colab-df-convert {\n",
              "      background-color: #3B4455;\n",
              "      fill: #D2E3FC;\n",
              "    }\n",
              "\n",
              "    [theme=dark] .colab-df-convert:hover {\n",
              "      background-color: #434B5C;\n",
              "      box-shadow: 0px 1px 3px 1px rgba(0, 0, 0, 0.15);\n",
              "      filter: drop-shadow(0px 1px 2px rgba(0, 0, 0, 0.3));\n",
              "      fill: #FFFFFF;\n",
              "    }\n",
              "  </style>\n",
              "\n",
              "      <script>\n",
              "        const buttonEl =\n",
              "          document.querySelector('#df-44f70b51-d522-412f-ab4d-3ff7f0cdd2f6 button.colab-df-convert');\n",
              "        buttonEl.style.display =\n",
              "          google.colab.kernel.accessAllowed ? 'block' : 'none';\n",
              "\n",
              "        async function convertToInteractive(key) {\n",
              "          const element = document.querySelector('#df-44f70b51-d522-412f-ab4d-3ff7f0cdd2f6');\n",
              "          const dataTable =\n",
              "            await google.colab.kernel.invokeFunction('convertToInteractive',\n",
              "                                                     [key], {});\n",
              "          if (!dataTable) return;\n",
              "\n",
              "          const docLinkHtml = 'Like what you see? Visit the ' +\n",
              "            '<a target=\"_blank\" href=https://colab.research.google.com/notebooks/data_table.ipynb>data table notebook</a>'\n",
              "            + ' to learn more about interactive tables.';\n",
              "          element.innerHTML = '';\n",
              "          dataTable['output_type'] = 'display_data';\n",
              "          await google.colab.output.renderOutput(dataTable, element);\n",
              "          const docLink = document.createElement('div');\n",
              "          docLink.innerHTML = docLinkHtml;\n",
              "          element.appendChild(docLink);\n",
              "        }\n",
              "      </script>\n",
              "    </div>\n",
              "  </div>\n",
              "  "
            ]
          },
          "metadata": {},
          "execution_count": 9
        }
      ],
      "source": [
        "df.head()"
      ]
    },
    {
      "cell_type": "markdown",
      "source": [
        "It **Prints top 5 rows by default**\n",
        "\n",
        "We can also **pass in number of rows we want to see** in `head()`\n",
        "\n"
      ],
      "metadata": {
        "id": "yCAZ946NgRCg"
      }
    },
    {
      "cell_type": "code",
      "execution_count": null,
      "metadata": {
        "colab": {
          "base_uri": "https://localhost:8080/",
          "height": 676
        },
        "id": "7d9a0e5f",
        "outputId": "2f5d5930-76d9-4acb-bb04-0dd8ff3ddc75",
        "scrolled": true
      },
      "outputs": [
        {
          "output_type": "execute_result",
          "data": {
            "text/plain": [
              "        country  year  population continent  life_exp      gdp_cap\n",
              "0   Afghanistan  1952     8425333      Asia    28.801   779.445314\n",
              "1   Afghanistan  1957     9240934      Asia    30.332   820.853030\n",
              "2   Afghanistan  1962    10267083      Asia    31.997   853.100710\n",
              "3   Afghanistan  1967    11537966      Asia    34.020   836.197138\n",
              "4   Afghanistan  1972    13079460      Asia    36.088   739.981106\n",
              "5   Afghanistan  1977    14880372      Asia    38.438   786.113360\n",
              "6   Afghanistan  1982    12881816      Asia    39.854   978.011439\n",
              "7   Afghanistan  1987    13867957      Asia    40.822   852.395945\n",
              "8   Afghanistan  1992    16317921      Asia    41.674   649.341395\n",
              "9   Afghanistan  1997    22227415      Asia    41.763   635.341351\n",
              "10  Afghanistan  2002    25268405      Asia    42.129   726.734055\n",
              "11  Afghanistan  2007    31889923      Asia    43.828   974.580338\n",
              "12      Albania  1952     1282697    Europe    55.230  1601.056136\n",
              "13      Albania  1957     1476505    Europe    59.280  1942.284244\n",
              "14      Albania  1962     1728137    Europe    64.820  2312.888958\n",
              "15      Albania  1967     1984060    Europe    66.220  2760.196931\n",
              "16      Albania  1972     2263554    Europe    67.690  3313.422188\n",
              "17      Albania  1977     2509048    Europe    68.930  3533.003910\n",
              "18      Albania  1982     2780097    Europe    70.420  3630.880722\n",
              "19      Albania  1987     3075321    Europe    72.000  3738.932735"
            ],
            "text/html": [
              "\n",
              "  <div id=\"df-ca82c4dd-3e5e-4e9b-aa71-871d6f24d5e2\">\n",
              "    <div class=\"colab-df-container\">\n",
              "      <div>\n",
              "<style scoped>\n",
              "    .dataframe tbody tr th:only-of-type {\n",
              "        vertical-align: middle;\n",
              "    }\n",
              "\n",
              "    .dataframe tbody tr th {\n",
              "        vertical-align: top;\n",
              "    }\n",
              "\n",
              "    .dataframe thead th {\n",
              "        text-align: right;\n",
              "    }\n",
              "</style>\n",
              "<table border=\"1\" class=\"dataframe\">\n",
              "  <thead>\n",
              "    <tr style=\"text-align: right;\">\n",
              "      <th></th>\n",
              "      <th>country</th>\n",
              "      <th>year</th>\n",
              "      <th>population</th>\n",
              "      <th>continent</th>\n",
              "      <th>life_exp</th>\n",
              "      <th>gdp_cap</th>\n",
              "    </tr>\n",
              "  </thead>\n",
              "  <tbody>\n",
              "    <tr>\n",
              "      <th>0</th>\n",
              "      <td>Afghanistan</td>\n",
              "      <td>1952</td>\n",
              "      <td>8425333</td>\n",
              "      <td>Asia</td>\n",
              "      <td>28.801</td>\n",
              "      <td>779.445314</td>\n",
              "    </tr>\n",
              "    <tr>\n",
              "      <th>1</th>\n",
              "      <td>Afghanistan</td>\n",
              "      <td>1957</td>\n",
              "      <td>9240934</td>\n",
              "      <td>Asia</td>\n",
              "      <td>30.332</td>\n",
              "      <td>820.853030</td>\n",
              "    </tr>\n",
              "    <tr>\n",
              "      <th>2</th>\n",
              "      <td>Afghanistan</td>\n",
              "      <td>1962</td>\n",
              "      <td>10267083</td>\n",
              "      <td>Asia</td>\n",
              "      <td>31.997</td>\n",
              "      <td>853.100710</td>\n",
              "    </tr>\n",
              "    <tr>\n",
              "      <th>3</th>\n",
              "      <td>Afghanistan</td>\n",
              "      <td>1967</td>\n",
              "      <td>11537966</td>\n",
              "      <td>Asia</td>\n",
              "      <td>34.020</td>\n",
              "      <td>836.197138</td>\n",
              "    </tr>\n",
              "    <tr>\n",
              "      <th>4</th>\n",
              "      <td>Afghanistan</td>\n",
              "      <td>1972</td>\n",
              "      <td>13079460</td>\n",
              "      <td>Asia</td>\n",
              "      <td>36.088</td>\n",
              "      <td>739.981106</td>\n",
              "    </tr>\n",
              "    <tr>\n",
              "      <th>5</th>\n",
              "      <td>Afghanistan</td>\n",
              "      <td>1977</td>\n",
              "      <td>14880372</td>\n",
              "      <td>Asia</td>\n",
              "      <td>38.438</td>\n",
              "      <td>786.113360</td>\n",
              "    </tr>\n",
              "    <tr>\n",
              "      <th>6</th>\n",
              "      <td>Afghanistan</td>\n",
              "      <td>1982</td>\n",
              "      <td>12881816</td>\n",
              "      <td>Asia</td>\n",
              "      <td>39.854</td>\n",
              "      <td>978.011439</td>\n",
              "    </tr>\n",
              "    <tr>\n",
              "      <th>7</th>\n",
              "      <td>Afghanistan</td>\n",
              "      <td>1987</td>\n",
              "      <td>13867957</td>\n",
              "      <td>Asia</td>\n",
              "      <td>40.822</td>\n",
              "      <td>852.395945</td>\n",
              "    </tr>\n",
              "    <tr>\n",
              "      <th>8</th>\n",
              "      <td>Afghanistan</td>\n",
              "      <td>1992</td>\n",
              "      <td>16317921</td>\n",
              "      <td>Asia</td>\n",
              "      <td>41.674</td>\n",
              "      <td>649.341395</td>\n",
              "    </tr>\n",
              "    <tr>\n",
              "      <th>9</th>\n",
              "      <td>Afghanistan</td>\n",
              "      <td>1997</td>\n",
              "      <td>22227415</td>\n",
              "      <td>Asia</td>\n",
              "      <td>41.763</td>\n",
              "      <td>635.341351</td>\n",
              "    </tr>\n",
              "    <tr>\n",
              "      <th>10</th>\n",
              "      <td>Afghanistan</td>\n",
              "      <td>2002</td>\n",
              "      <td>25268405</td>\n",
              "      <td>Asia</td>\n",
              "      <td>42.129</td>\n",
              "      <td>726.734055</td>\n",
              "    </tr>\n",
              "    <tr>\n",
              "      <th>11</th>\n",
              "      <td>Afghanistan</td>\n",
              "      <td>2007</td>\n",
              "      <td>31889923</td>\n",
              "      <td>Asia</td>\n",
              "      <td>43.828</td>\n",
              "      <td>974.580338</td>\n",
              "    </tr>\n",
              "    <tr>\n",
              "      <th>12</th>\n",
              "      <td>Albania</td>\n",
              "      <td>1952</td>\n",
              "      <td>1282697</td>\n",
              "      <td>Europe</td>\n",
              "      <td>55.230</td>\n",
              "      <td>1601.056136</td>\n",
              "    </tr>\n",
              "    <tr>\n",
              "      <th>13</th>\n",
              "      <td>Albania</td>\n",
              "      <td>1957</td>\n",
              "      <td>1476505</td>\n",
              "      <td>Europe</td>\n",
              "      <td>59.280</td>\n",
              "      <td>1942.284244</td>\n",
              "    </tr>\n",
              "    <tr>\n",
              "      <th>14</th>\n",
              "      <td>Albania</td>\n",
              "      <td>1962</td>\n",
              "      <td>1728137</td>\n",
              "      <td>Europe</td>\n",
              "      <td>64.820</td>\n",
              "      <td>2312.888958</td>\n",
              "    </tr>\n",
              "    <tr>\n",
              "      <th>15</th>\n",
              "      <td>Albania</td>\n",
              "      <td>1967</td>\n",
              "      <td>1984060</td>\n",
              "      <td>Europe</td>\n",
              "      <td>66.220</td>\n",
              "      <td>2760.196931</td>\n",
              "    </tr>\n",
              "    <tr>\n",
              "      <th>16</th>\n",
              "      <td>Albania</td>\n",
              "      <td>1972</td>\n",
              "      <td>2263554</td>\n",
              "      <td>Europe</td>\n",
              "      <td>67.690</td>\n",
              "      <td>3313.422188</td>\n",
              "    </tr>\n",
              "    <tr>\n",
              "      <th>17</th>\n",
              "      <td>Albania</td>\n",
              "      <td>1977</td>\n",
              "      <td>2509048</td>\n",
              "      <td>Europe</td>\n",
              "      <td>68.930</td>\n",
              "      <td>3533.003910</td>\n",
              "    </tr>\n",
              "    <tr>\n",
              "      <th>18</th>\n",
              "      <td>Albania</td>\n",
              "      <td>1982</td>\n",
              "      <td>2780097</td>\n",
              "      <td>Europe</td>\n",
              "      <td>70.420</td>\n",
              "      <td>3630.880722</td>\n",
              "    </tr>\n",
              "    <tr>\n",
              "      <th>19</th>\n",
              "      <td>Albania</td>\n",
              "      <td>1987</td>\n",
              "      <td>3075321</td>\n",
              "      <td>Europe</td>\n",
              "      <td>72.000</td>\n",
              "      <td>3738.932735</td>\n",
              "    </tr>\n",
              "  </tbody>\n",
              "</table>\n",
              "</div>\n",
              "      <button class=\"colab-df-convert\" onclick=\"convertToInteractive('df-ca82c4dd-3e5e-4e9b-aa71-871d6f24d5e2')\"\n",
              "              title=\"Convert this dataframe to an interactive table.\"\n",
              "              style=\"display:none;\">\n",
              "        \n",
              "  <svg xmlns=\"http://www.w3.org/2000/svg\" height=\"24px\"viewBox=\"0 0 24 24\"\n",
              "       width=\"24px\">\n",
              "    <path d=\"M0 0h24v24H0V0z\" fill=\"none\"/>\n",
              "    <path d=\"M18.56 5.44l.94 2.06.94-2.06 2.06-.94-2.06-.94-.94-2.06-.94 2.06-2.06.94zm-11 1L8.5 8.5l.94-2.06 2.06-.94-2.06-.94L8.5 2.5l-.94 2.06-2.06.94zm10 10l.94 2.06.94-2.06 2.06-.94-2.06-.94-.94-2.06-.94 2.06-2.06.94z\"/><path d=\"M17.41 7.96l-1.37-1.37c-.4-.4-.92-.59-1.43-.59-.52 0-1.04.2-1.43.59L10.3 9.45l-7.72 7.72c-.78.78-.78 2.05 0 2.83L4 21.41c.39.39.9.59 1.41.59.51 0 1.02-.2 1.41-.59l7.78-7.78 2.81-2.81c.8-.78.8-2.07 0-2.86zM5.41 20L4 18.59l7.72-7.72 1.47 1.35L5.41 20z\"/>\n",
              "  </svg>\n",
              "      </button>\n",
              "      \n",
              "  <style>\n",
              "    .colab-df-container {\n",
              "      display:flex;\n",
              "      flex-wrap:wrap;\n",
              "      gap: 12px;\n",
              "    }\n",
              "\n",
              "    .colab-df-convert {\n",
              "      background-color: #E8F0FE;\n",
              "      border: none;\n",
              "      border-radius: 50%;\n",
              "      cursor: pointer;\n",
              "      display: none;\n",
              "      fill: #1967D2;\n",
              "      height: 32px;\n",
              "      padding: 0 0 0 0;\n",
              "      width: 32px;\n",
              "    }\n",
              "\n",
              "    .colab-df-convert:hover {\n",
              "      background-color: #E2EBFA;\n",
              "      box-shadow: 0px 1px 2px rgba(60, 64, 67, 0.3), 0px 1px 3px 1px rgba(60, 64, 67, 0.15);\n",
              "      fill: #174EA6;\n",
              "    }\n",
              "\n",
              "    [theme=dark] .colab-df-convert {\n",
              "      background-color: #3B4455;\n",
              "      fill: #D2E3FC;\n",
              "    }\n",
              "\n",
              "    [theme=dark] .colab-df-convert:hover {\n",
              "      background-color: #434B5C;\n",
              "      box-shadow: 0px 1px 3px 1px rgba(0, 0, 0, 0.15);\n",
              "      filter: drop-shadow(0px 1px 2px rgba(0, 0, 0, 0.3));\n",
              "      fill: #FFFFFF;\n",
              "    }\n",
              "  </style>\n",
              "\n",
              "      <script>\n",
              "        const buttonEl =\n",
              "          document.querySelector('#df-ca82c4dd-3e5e-4e9b-aa71-871d6f24d5e2 button.colab-df-convert');\n",
              "        buttonEl.style.display =\n",
              "          google.colab.kernel.accessAllowed ? 'block' : 'none';\n",
              "\n",
              "        async function convertToInteractive(key) {\n",
              "          const element = document.querySelector('#df-ca82c4dd-3e5e-4e9b-aa71-871d6f24d5e2');\n",
              "          const dataTable =\n",
              "            await google.colab.kernel.invokeFunction('convertToInteractive',\n",
              "                                                     [key], {});\n",
              "          if (!dataTable) return;\n",
              "\n",
              "          const docLinkHtml = 'Like what you see? Visit the ' +\n",
              "            '<a target=\"_blank\" href=https://colab.research.google.com/notebooks/data_table.ipynb>data table notebook</a>'\n",
              "            + ' to learn more about interactive tables.';\n",
              "          element.innerHTML = '';\n",
              "          dataTable['output_type'] = 'display_data';\n",
              "          await google.colab.output.renderOutput(dataTable, element);\n",
              "          const docLink = document.createElement('div');\n",
              "          docLink.innerHTML = docLinkHtml;\n",
              "          element.appendChild(docLink);\n",
              "        }\n",
              "      </script>\n",
              "    </div>\n",
              "  </div>\n",
              "  "
            ]
          },
          "metadata": {},
          "execution_count": 10
        }
      ],
      "source": [
        "df.head(20)"
      ]
    },
    {
      "cell_type": "markdown",
      "metadata": {
        "id": "d5652cb7"
      },
      "source": [
        "#### Similarly what if we want to see the last 20 rows ?"
      ]
    },
    {
      "cell_type": "code",
      "execution_count": null,
      "metadata": {
        "colab": {
          "base_uri": "https://localhost:8080/",
          "height": 676
        },
        "id": "ee819ae4",
        "outputId": "3960c2b4-6e58-4f30-f49c-a9377c08db4c"
      },
      "outputs": [
        {
          "output_type": "execute_result",
          "data": {
            "text/plain": [
              "       country  year  population continent  life_exp      gdp_cap\n",
              "1684    Zambia  1972     4506497    Africa    50.107  1773.498265\n",
              "1685    Zambia  1977     5216550    Africa    51.386  1588.688299\n",
              "1686    Zambia  1982     6100407    Africa    51.821  1408.678565\n",
              "1687    Zambia  1987     7272406    Africa    50.821  1213.315116\n",
              "1688    Zambia  1992     8381163    Africa    46.100  1210.884633\n",
              "1689    Zambia  1997     9417789    Africa    40.238  1071.353818\n",
              "1690    Zambia  2002    10595811    Africa    39.193  1071.613938\n",
              "1691    Zambia  2007    11746035    Africa    42.384  1271.211593\n",
              "1692  Zimbabwe  1952     3080907    Africa    48.451   406.884115\n",
              "1693  Zimbabwe  1957     3646340    Africa    50.469   518.764268\n",
              "1694  Zimbabwe  1962     4277736    Africa    52.358   527.272182\n",
              "1695  Zimbabwe  1967     4995432    Africa    53.995   569.795071\n",
              "1696  Zimbabwe  1972     5861135    Africa    55.635   799.362176\n",
              "1697  Zimbabwe  1977     6642107    Africa    57.674   685.587682\n",
              "1698  Zimbabwe  1982     7636524    Africa    60.363   788.855041\n",
              "1699  Zimbabwe  1987     9216418    Africa    62.351   706.157306\n",
              "1700  Zimbabwe  1992    10704340    Africa    60.377   693.420786\n",
              "1701  Zimbabwe  1997    11404948    Africa    46.809   792.449960\n",
              "1702  Zimbabwe  2002    11926563    Africa    39.989   672.038623\n",
              "1703  Zimbabwe  2007    12311143    Africa    43.487   469.709298"
            ],
            "text/html": [
              "\n",
              "  <div id=\"df-de77d3ba-7b8a-4f6c-aa83-ea0a52bd3456\">\n",
              "    <div class=\"colab-df-container\">\n",
              "      <div>\n",
              "<style scoped>\n",
              "    .dataframe tbody tr th:only-of-type {\n",
              "        vertical-align: middle;\n",
              "    }\n",
              "\n",
              "    .dataframe tbody tr th {\n",
              "        vertical-align: top;\n",
              "    }\n",
              "\n",
              "    .dataframe thead th {\n",
              "        text-align: right;\n",
              "    }\n",
              "</style>\n",
              "<table border=\"1\" class=\"dataframe\">\n",
              "  <thead>\n",
              "    <tr style=\"text-align: right;\">\n",
              "      <th></th>\n",
              "      <th>country</th>\n",
              "      <th>year</th>\n",
              "      <th>population</th>\n",
              "      <th>continent</th>\n",
              "      <th>life_exp</th>\n",
              "      <th>gdp_cap</th>\n",
              "    </tr>\n",
              "  </thead>\n",
              "  <tbody>\n",
              "    <tr>\n",
              "      <th>1684</th>\n",
              "      <td>Zambia</td>\n",
              "      <td>1972</td>\n",
              "      <td>4506497</td>\n",
              "      <td>Africa</td>\n",
              "      <td>50.107</td>\n",
              "      <td>1773.498265</td>\n",
              "    </tr>\n",
              "    <tr>\n",
              "      <th>1685</th>\n",
              "      <td>Zambia</td>\n",
              "      <td>1977</td>\n",
              "      <td>5216550</td>\n",
              "      <td>Africa</td>\n",
              "      <td>51.386</td>\n",
              "      <td>1588.688299</td>\n",
              "    </tr>\n",
              "    <tr>\n",
              "      <th>1686</th>\n",
              "      <td>Zambia</td>\n",
              "      <td>1982</td>\n",
              "      <td>6100407</td>\n",
              "      <td>Africa</td>\n",
              "      <td>51.821</td>\n",
              "      <td>1408.678565</td>\n",
              "    </tr>\n",
              "    <tr>\n",
              "      <th>1687</th>\n",
              "      <td>Zambia</td>\n",
              "      <td>1987</td>\n",
              "      <td>7272406</td>\n",
              "      <td>Africa</td>\n",
              "      <td>50.821</td>\n",
              "      <td>1213.315116</td>\n",
              "    </tr>\n",
              "    <tr>\n",
              "      <th>1688</th>\n",
              "      <td>Zambia</td>\n",
              "      <td>1992</td>\n",
              "      <td>8381163</td>\n",
              "      <td>Africa</td>\n",
              "      <td>46.100</td>\n",
              "      <td>1210.884633</td>\n",
              "    </tr>\n",
              "    <tr>\n",
              "      <th>1689</th>\n",
              "      <td>Zambia</td>\n",
              "      <td>1997</td>\n",
              "      <td>9417789</td>\n",
              "      <td>Africa</td>\n",
              "      <td>40.238</td>\n",
              "      <td>1071.353818</td>\n",
              "    </tr>\n",
              "    <tr>\n",
              "      <th>1690</th>\n",
              "      <td>Zambia</td>\n",
              "      <td>2002</td>\n",
              "      <td>10595811</td>\n",
              "      <td>Africa</td>\n",
              "      <td>39.193</td>\n",
              "      <td>1071.613938</td>\n",
              "    </tr>\n",
              "    <tr>\n",
              "      <th>1691</th>\n",
              "      <td>Zambia</td>\n",
              "      <td>2007</td>\n",
              "      <td>11746035</td>\n",
              "      <td>Africa</td>\n",
              "      <td>42.384</td>\n",
              "      <td>1271.211593</td>\n",
              "    </tr>\n",
              "    <tr>\n",
              "      <th>1692</th>\n",
              "      <td>Zimbabwe</td>\n",
              "      <td>1952</td>\n",
              "      <td>3080907</td>\n",
              "      <td>Africa</td>\n",
              "      <td>48.451</td>\n",
              "      <td>406.884115</td>\n",
              "    </tr>\n",
              "    <tr>\n",
              "      <th>1693</th>\n",
              "      <td>Zimbabwe</td>\n",
              "      <td>1957</td>\n",
              "      <td>3646340</td>\n",
              "      <td>Africa</td>\n",
              "      <td>50.469</td>\n",
              "      <td>518.764268</td>\n",
              "    </tr>\n",
              "    <tr>\n",
              "      <th>1694</th>\n",
              "      <td>Zimbabwe</td>\n",
              "      <td>1962</td>\n",
              "      <td>4277736</td>\n",
              "      <td>Africa</td>\n",
              "      <td>52.358</td>\n",
              "      <td>527.272182</td>\n",
              "    </tr>\n",
              "    <tr>\n",
              "      <th>1695</th>\n",
              "      <td>Zimbabwe</td>\n",
              "      <td>1967</td>\n",
              "      <td>4995432</td>\n",
              "      <td>Africa</td>\n",
              "      <td>53.995</td>\n",
              "      <td>569.795071</td>\n",
              "    </tr>\n",
              "    <tr>\n",
              "      <th>1696</th>\n",
              "      <td>Zimbabwe</td>\n",
              "      <td>1972</td>\n",
              "      <td>5861135</td>\n",
              "      <td>Africa</td>\n",
              "      <td>55.635</td>\n",
              "      <td>799.362176</td>\n",
              "    </tr>\n",
              "    <tr>\n",
              "      <th>1697</th>\n",
              "      <td>Zimbabwe</td>\n",
              "      <td>1977</td>\n",
              "      <td>6642107</td>\n",
              "      <td>Africa</td>\n",
              "      <td>57.674</td>\n",
              "      <td>685.587682</td>\n",
              "    </tr>\n",
              "    <tr>\n",
              "      <th>1698</th>\n",
              "      <td>Zimbabwe</td>\n",
              "      <td>1982</td>\n",
              "      <td>7636524</td>\n",
              "      <td>Africa</td>\n",
              "      <td>60.363</td>\n",
              "      <td>788.855041</td>\n",
              "    </tr>\n",
              "    <tr>\n",
              "      <th>1699</th>\n",
              "      <td>Zimbabwe</td>\n",
              "      <td>1987</td>\n",
              "      <td>9216418</td>\n",
              "      <td>Africa</td>\n",
              "      <td>62.351</td>\n",
              "      <td>706.157306</td>\n",
              "    </tr>\n",
              "    <tr>\n",
              "      <th>1700</th>\n",
              "      <td>Zimbabwe</td>\n",
              "      <td>1992</td>\n",
              "      <td>10704340</td>\n",
              "      <td>Africa</td>\n",
              "      <td>60.377</td>\n",
              "      <td>693.420786</td>\n",
              "    </tr>\n",
              "    <tr>\n",
              "      <th>1701</th>\n",
              "      <td>Zimbabwe</td>\n",
              "      <td>1997</td>\n",
              "      <td>11404948</td>\n",
              "      <td>Africa</td>\n",
              "      <td>46.809</td>\n",
              "      <td>792.449960</td>\n",
              "    </tr>\n",
              "    <tr>\n",
              "      <th>1702</th>\n",
              "      <td>Zimbabwe</td>\n",
              "      <td>2002</td>\n",
              "      <td>11926563</td>\n",
              "      <td>Africa</td>\n",
              "      <td>39.989</td>\n",
              "      <td>672.038623</td>\n",
              "    </tr>\n",
              "    <tr>\n",
              "      <th>1703</th>\n",
              "      <td>Zimbabwe</td>\n",
              "      <td>2007</td>\n",
              "      <td>12311143</td>\n",
              "      <td>Africa</td>\n",
              "      <td>43.487</td>\n",
              "      <td>469.709298</td>\n",
              "    </tr>\n",
              "  </tbody>\n",
              "</table>\n",
              "</div>\n",
              "      <button class=\"colab-df-convert\" onclick=\"convertToInteractive('df-de77d3ba-7b8a-4f6c-aa83-ea0a52bd3456')\"\n",
              "              title=\"Convert this dataframe to an interactive table.\"\n",
              "              style=\"display:none;\">\n",
              "        \n",
              "  <svg xmlns=\"http://www.w3.org/2000/svg\" height=\"24px\"viewBox=\"0 0 24 24\"\n",
              "       width=\"24px\">\n",
              "    <path d=\"M0 0h24v24H0V0z\" fill=\"none\"/>\n",
              "    <path d=\"M18.56 5.44l.94 2.06.94-2.06 2.06-.94-2.06-.94-.94-2.06-.94 2.06-2.06.94zm-11 1L8.5 8.5l.94-2.06 2.06-.94-2.06-.94L8.5 2.5l-.94 2.06-2.06.94zm10 10l.94 2.06.94-2.06 2.06-.94-2.06-.94-.94-2.06-.94 2.06-2.06.94z\"/><path d=\"M17.41 7.96l-1.37-1.37c-.4-.4-.92-.59-1.43-.59-.52 0-1.04.2-1.43.59L10.3 9.45l-7.72 7.72c-.78.78-.78 2.05 0 2.83L4 21.41c.39.39.9.59 1.41.59.51 0 1.02-.2 1.41-.59l7.78-7.78 2.81-2.81c.8-.78.8-2.07 0-2.86zM5.41 20L4 18.59l7.72-7.72 1.47 1.35L5.41 20z\"/>\n",
              "  </svg>\n",
              "      </button>\n",
              "      \n",
              "  <style>\n",
              "    .colab-df-container {\n",
              "      display:flex;\n",
              "      flex-wrap:wrap;\n",
              "      gap: 12px;\n",
              "    }\n",
              "\n",
              "    .colab-df-convert {\n",
              "      background-color: #E8F0FE;\n",
              "      border: none;\n",
              "      border-radius: 50%;\n",
              "      cursor: pointer;\n",
              "      display: none;\n",
              "      fill: #1967D2;\n",
              "      height: 32px;\n",
              "      padding: 0 0 0 0;\n",
              "      width: 32px;\n",
              "    }\n",
              "\n",
              "    .colab-df-convert:hover {\n",
              "      background-color: #E2EBFA;\n",
              "      box-shadow: 0px 1px 2px rgba(60, 64, 67, 0.3), 0px 1px 3px 1px rgba(60, 64, 67, 0.15);\n",
              "      fill: #174EA6;\n",
              "    }\n",
              "\n",
              "    [theme=dark] .colab-df-convert {\n",
              "      background-color: #3B4455;\n",
              "      fill: #D2E3FC;\n",
              "    }\n",
              "\n",
              "    [theme=dark] .colab-df-convert:hover {\n",
              "      background-color: #434B5C;\n",
              "      box-shadow: 0px 1px 3px 1px rgba(0, 0, 0, 0.15);\n",
              "      filter: drop-shadow(0px 1px 2px rgba(0, 0, 0, 0.3));\n",
              "      fill: #FFFFFF;\n",
              "    }\n",
              "  </style>\n",
              "\n",
              "      <script>\n",
              "        const buttonEl =\n",
              "          document.querySelector('#df-de77d3ba-7b8a-4f6c-aa83-ea0a52bd3456 button.colab-df-convert');\n",
              "        buttonEl.style.display =\n",
              "          google.colab.kernel.accessAllowed ? 'block' : 'none';\n",
              "\n",
              "        async function convertToInteractive(key) {\n",
              "          const element = document.querySelector('#df-de77d3ba-7b8a-4f6c-aa83-ea0a52bd3456');\n",
              "          const dataTable =\n",
              "            await google.colab.kernel.invokeFunction('convertToInteractive',\n",
              "                                                     [key], {});\n",
              "          if (!dataTable) return;\n",
              "\n",
              "          const docLinkHtml = 'Like what you see? Visit the ' +\n",
              "            '<a target=\"_blank\" href=https://colab.research.google.com/notebooks/data_table.ipynb>data table notebook</a>'\n",
              "            + ' to learn more about interactive tables.';\n",
              "          element.innerHTML = '';\n",
              "          dataTable['output_type'] = 'display_data';\n",
              "          await google.colab.output.renderOutput(dataTable, element);\n",
              "          const docLink = document.createElement('div');\n",
              "          docLink.innerHTML = docLinkHtml;\n",
              "          element.appendChild(docLink);\n",
              "        }\n",
              "      </script>\n",
              "    </div>\n",
              "  </div>\n",
              "  "
            ]
          },
          "metadata": {},
          "execution_count": 11
        }
      ],
      "source": [
        "df.tail(20) #Similar to head"
      ]
    },
    {
      "cell_type": "markdown",
      "metadata": {
        "id": "8b950997"
      },
      "source": [
        "#### How can we find the shape of the dataframe?"
      ]
    },
    {
      "cell_type": "code",
      "execution_count": null,
      "metadata": {
        "colab": {
          "base_uri": "https://localhost:8080/"
        },
        "id": "76bc0189",
        "outputId": "aa985f7f-6059-4862-ebfc-9a439058c2a9"
      },
      "outputs": [
        {
          "output_type": "execute_result",
          "data": {
            "text/plain": [
              "(1704, 6)"
            ]
          },
          "metadata": {},
          "execution_count": 12
        }
      ],
      "source": [
        "df.shape"
      ]
    },
    {
      "cell_type": "markdown",
      "metadata": {
        "id": "c82daf62"
      },
      "source": [
        "Similar to Numpy, it gives **No. of Rows and Columns** -- **Dimensions**\n",
        "\n",
        "Now we know how to do some basic operations on dataframes\n",
        "\n"
      ]
    },
    {
      "cell_type": "markdown",
      "source": [
        "But what if we aren't loading a dataset, but want to create our own.\n",
        "\n",
        "Let's take a subset of the original dataset"
      ],
      "metadata": {
        "id": "y_a1wO4Odxh4"
      }
    },
    {
      "cell_type": "code",
      "source": [
        "df.head(3) # We take the first 3 rows to create our dataframe"
      ],
      "metadata": {
        "colab": {
          "base_uri": "https://localhost:8080/",
          "height": 143
        },
        "id": "tIKyhI3KdfBe",
        "outputId": "6be9dc4e-88ee-48b9-9fc2-de085fc279ab"
      },
      "execution_count": null,
      "outputs": [
        {
          "output_type": "execute_result",
          "data": {
            "text/plain": [
              "       country  year  population continent  life_exp     gdp_cap\n",
              "0  Afghanistan  1952     8425333      Asia    28.801  779.445314\n",
              "1  Afghanistan  1957     9240934      Asia    30.332  820.853030\n",
              "2  Afghanistan  1962    10267083      Asia    31.997  853.100710"
            ],
            "text/html": [
              "\n",
              "  <div id=\"df-d789142e-b219-4c58-8f2c-51225d0834e2\">\n",
              "    <div class=\"colab-df-container\">\n",
              "      <div>\n",
              "<style scoped>\n",
              "    .dataframe tbody tr th:only-of-type {\n",
              "        vertical-align: middle;\n",
              "    }\n",
              "\n",
              "    .dataframe tbody tr th {\n",
              "        vertical-align: top;\n",
              "    }\n",
              "\n",
              "    .dataframe thead th {\n",
              "        text-align: right;\n",
              "    }\n",
              "</style>\n",
              "<table border=\"1\" class=\"dataframe\">\n",
              "  <thead>\n",
              "    <tr style=\"text-align: right;\">\n",
              "      <th></th>\n",
              "      <th>country</th>\n",
              "      <th>year</th>\n",
              "      <th>population</th>\n",
              "      <th>continent</th>\n",
              "      <th>life_exp</th>\n",
              "      <th>gdp_cap</th>\n",
              "    </tr>\n",
              "  </thead>\n",
              "  <tbody>\n",
              "    <tr>\n",
              "      <th>0</th>\n",
              "      <td>Afghanistan</td>\n",
              "      <td>1952</td>\n",
              "      <td>8425333</td>\n",
              "      <td>Asia</td>\n",
              "      <td>28.801</td>\n",
              "      <td>779.445314</td>\n",
              "    </tr>\n",
              "    <tr>\n",
              "      <th>1</th>\n",
              "      <td>Afghanistan</td>\n",
              "      <td>1957</td>\n",
              "      <td>9240934</td>\n",
              "      <td>Asia</td>\n",
              "      <td>30.332</td>\n",
              "      <td>820.853030</td>\n",
              "    </tr>\n",
              "    <tr>\n",
              "      <th>2</th>\n",
              "      <td>Afghanistan</td>\n",
              "      <td>1962</td>\n",
              "      <td>10267083</td>\n",
              "      <td>Asia</td>\n",
              "      <td>31.997</td>\n",
              "      <td>853.100710</td>\n",
              "    </tr>\n",
              "  </tbody>\n",
              "</table>\n",
              "</div>\n",
              "      <button class=\"colab-df-convert\" onclick=\"convertToInteractive('df-d789142e-b219-4c58-8f2c-51225d0834e2')\"\n",
              "              title=\"Convert this dataframe to an interactive table.\"\n",
              "              style=\"display:none;\">\n",
              "        \n",
              "  <svg xmlns=\"http://www.w3.org/2000/svg\" height=\"24px\"viewBox=\"0 0 24 24\"\n",
              "       width=\"24px\">\n",
              "    <path d=\"M0 0h24v24H0V0z\" fill=\"none\"/>\n",
              "    <path d=\"M18.56 5.44l.94 2.06.94-2.06 2.06-.94-2.06-.94-.94-2.06-.94 2.06-2.06.94zm-11 1L8.5 8.5l.94-2.06 2.06-.94-2.06-.94L8.5 2.5l-.94 2.06-2.06.94zm10 10l.94 2.06.94-2.06 2.06-.94-2.06-.94-.94-2.06-.94 2.06-2.06.94z\"/><path d=\"M17.41 7.96l-1.37-1.37c-.4-.4-.92-.59-1.43-.59-.52 0-1.04.2-1.43.59L10.3 9.45l-7.72 7.72c-.78.78-.78 2.05 0 2.83L4 21.41c.39.39.9.59 1.41.59.51 0 1.02-.2 1.41-.59l7.78-7.78 2.81-2.81c.8-.78.8-2.07 0-2.86zM5.41 20L4 18.59l7.72-7.72 1.47 1.35L5.41 20z\"/>\n",
              "  </svg>\n",
              "      </button>\n",
              "      \n",
              "  <style>\n",
              "    .colab-df-container {\n",
              "      display:flex;\n",
              "      flex-wrap:wrap;\n",
              "      gap: 12px;\n",
              "    }\n",
              "\n",
              "    .colab-df-convert {\n",
              "      background-color: #E8F0FE;\n",
              "      border: none;\n",
              "      border-radius: 50%;\n",
              "      cursor: pointer;\n",
              "      display: none;\n",
              "      fill: #1967D2;\n",
              "      height: 32px;\n",
              "      padding: 0 0 0 0;\n",
              "      width: 32px;\n",
              "    }\n",
              "\n",
              "    .colab-df-convert:hover {\n",
              "      background-color: #E2EBFA;\n",
              "      box-shadow: 0px 1px 2px rgba(60, 64, 67, 0.3), 0px 1px 3px 1px rgba(60, 64, 67, 0.15);\n",
              "      fill: #174EA6;\n",
              "    }\n",
              "\n",
              "    [theme=dark] .colab-df-convert {\n",
              "      background-color: #3B4455;\n",
              "      fill: #D2E3FC;\n",
              "    }\n",
              "\n",
              "    [theme=dark] .colab-df-convert:hover {\n",
              "      background-color: #434B5C;\n",
              "      box-shadow: 0px 1px 3px 1px rgba(0, 0, 0, 0.15);\n",
              "      filter: drop-shadow(0px 1px 2px rgba(0, 0, 0, 0.3));\n",
              "      fill: #FFFFFF;\n",
              "    }\n",
              "  </style>\n",
              "\n",
              "      <script>\n",
              "        const buttonEl =\n",
              "          document.querySelector('#df-d789142e-b219-4c58-8f2c-51225d0834e2 button.colab-df-convert');\n",
              "        buttonEl.style.display =\n",
              "          google.colab.kernel.accessAllowed ? 'block' : 'none';\n",
              "\n",
              "        async function convertToInteractive(key) {\n",
              "          const element = document.querySelector('#df-d789142e-b219-4c58-8f2c-51225d0834e2');\n",
              "          const dataTable =\n",
              "            await google.colab.kernel.invokeFunction('convertToInteractive',\n",
              "                                                     [key], {});\n",
              "          if (!dataTable) return;\n",
              "\n",
              "          const docLinkHtml = 'Like what you see? Visit the ' +\n",
              "            '<a target=\"_blank\" href=https://colab.research.google.com/notebooks/data_table.ipynb>data table notebook</a>'\n",
              "            + ' to learn more about interactive tables.';\n",
              "          element.innerHTML = '';\n",
              "          dataTable['output_type'] = 'display_data';\n",
              "          await google.colab.output.renderOutput(dataTable, element);\n",
              "          const docLink = document.createElement('div');\n",
              "          docLink.innerHTML = docLinkHtml;\n",
              "          element.appendChild(docLink);\n",
              "        }\n",
              "      </script>\n",
              "    </div>\n",
              "  </div>\n",
              "  "
            ]
          },
          "metadata": {},
          "execution_count": 13
        }
      ]
    },
    {
      "cell_type": "markdown",
      "source": [
        "## How can we create a DataFrame from scratch?\n"
      ],
      "metadata": {
        "id": "odm8qc_e8sfs"
      }
    },
    {
      "cell_type": "markdown",
      "source": [
        "### Approach 1: Row-oriented\n",
        "\n",
        "\n",
        "- It takes **2 arguments** - Because DataFrame is **2-dimensional** \n",
        "    - A **list of rows**\n",
        "      - Each **row** is packed in a **list `[]`**\n",
        "      - All rows are packed in an **outside list `[[]]`** - To **pass a list of rows**\n",
        "    - A **list of column names/labels**"
      ],
      "metadata": {
        "id": "I2QPL89HIHX6"
      }
    },
    {
      "cell_type": "code",
      "execution_count": null,
      "metadata": {
        "colab": {
          "base_uri": "https://localhost:8080/",
          "height": 143
        },
        "id": "9ce9b1f1",
        "outputId": "04e0afe7-c57f-459c-99f8-b3c28d95e3c6"
      },
      "outputs": [
        {
          "output_type": "execute_result",
          "data": {
            "text/plain": [
              "       country  year  population continent  life_exp     gdp_cap\n",
              "0  Afghanistan  1952     8425333      Asia    28.801  779.445314\n",
              "1  Afghanistan  1957     9240934      Asia    30.332  820.853030\n",
              "2  Afghanistan  1962   102267083      Asia    31.997  853.100710"
            ],
            "text/html": [
              "\n",
              "  <div id=\"df-d88c7457-48fb-4ebd-b432-5494cda44d8f\">\n",
              "    <div class=\"colab-df-container\">\n",
              "      <div>\n",
              "<style scoped>\n",
              "    .dataframe tbody tr th:only-of-type {\n",
              "        vertical-align: middle;\n",
              "    }\n",
              "\n",
              "    .dataframe tbody tr th {\n",
              "        vertical-align: top;\n",
              "    }\n",
              "\n",
              "    .dataframe thead th {\n",
              "        text-align: right;\n",
              "    }\n",
              "</style>\n",
              "<table border=\"1\" class=\"dataframe\">\n",
              "  <thead>\n",
              "    <tr style=\"text-align: right;\">\n",
              "      <th></th>\n",
              "      <th>country</th>\n",
              "      <th>year</th>\n",
              "      <th>population</th>\n",
              "      <th>continent</th>\n",
              "      <th>life_exp</th>\n",
              "      <th>gdp_cap</th>\n",
              "    </tr>\n",
              "  </thead>\n",
              "  <tbody>\n",
              "    <tr>\n",
              "      <th>0</th>\n",
              "      <td>Afghanistan</td>\n",
              "      <td>1952</td>\n",
              "      <td>8425333</td>\n",
              "      <td>Asia</td>\n",
              "      <td>28.801</td>\n",
              "      <td>779.445314</td>\n",
              "    </tr>\n",
              "    <tr>\n",
              "      <th>1</th>\n",
              "      <td>Afghanistan</td>\n",
              "      <td>1957</td>\n",
              "      <td>9240934</td>\n",
              "      <td>Asia</td>\n",
              "      <td>30.332</td>\n",
              "      <td>820.853030</td>\n",
              "    </tr>\n",
              "    <tr>\n",
              "      <th>2</th>\n",
              "      <td>Afghanistan</td>\n",
              "      <td>1962</td>\n",
              "      <td>102267083</td>\n",
              "      <td>Asia</td>\n",
              "      <td>31.997</td>\n",
              "      <td>853.100710</td>\n",
              "    </tr>\n",
              "  </tbody>\n",
              "</table>\n",
              "</div>\n",
              "      <button class=\"colab-df-convert\" onclick=\"convertToInteractive('df-d88c7457-48fb-4ebd-b432-5494cda44d8f')\"\n",
              "              title=\"Convert this dataframe to an interactive table.\"\n",
              "              style=\"display:none;\">\n",
              "        \n",
              "  <svg xmlns=\"http://www.w3.org/2000/svg\" height=\"24px\"viewBox=\"0 0 24 24\"\n",
              "       width=\"24px\">\n",
              "    <path d=\"M0 0h24v24H0V0z\" fill=\"none\"/>\n",
              "    <path d=\"M18.56 5.44l.94 2.06.94-2.06 2.06-.94-2.06-.94-.94-2.06-.94 2.06-2.06.94zm-11 1L8.5 8.5l.94-2.06 2.06-.94-2.06-.94L8.5 2.5l-.94 2.06-2.06.94zm10 10l.94 2.06.94-2.06 2.06-.94-2.06-.94-.94-2.06-.94 2.06-2.06.94z\"/><path d=\"M17.41 7.96l-1.37-1.37c-.4-.4-.92-.59-1.43-.59-.52 0-1.04.2-1.43.59L10.3 9.45l-7.72 7.72c-.78.78-.78 2.05 0 2.83L4 21.41c.39.39.9.59 1.41.59.51 0 1.02-.2 1.41-.59l7.78-7.78 2.81-2.81c.8-.78.8-2.07 0-2.86zM5.41 20L4 18.59l7.72-7.72 1.47 1.35L5.41 20z\"/>\n",
              "  </svg>\n",
              "      </button>\n",
              "      \n",
              "  <style>\n",
              "    .colab-df-container {\n",
              "      display:flex;\n",
              "      flex-wrap:wrap;\n",
              "      gap: 12px;\n",
              "    }\n",
              "\n",
              "    .colab-df-convert {\n",
              "      background-color: #E8F0FE;\n",
              "      border: none;\n",
              "      border-radius: 50%;\n",
              "      cursor: pointer;\n",
              "      display: none;\n",
              "      fill: #1967D2;\n",
              "      height: 32px;\n",
              "      padding: 0 0 0 0;\n",
              "      width: 32px;\n",
              "    }\n",
              "\n",
              "    .colab-df-convert:hover {\n",
              "      background-color: #E2EBFA;\n",
              "      box-shadow: 0px 1px 2px rgba(60, 64, 67, 0.3), 0px 1px 3px 1px rgba(60, 64, 67, 0.15);\n",
              "      fill: #174EA6;\n",
              "    }\n",
              "\n",
              "    [theme=dark] .colab-df-convert {\n",
              "      background-color: #3B4455;\n",
              "      fill: #D2E3FC;\n",
              "    }\n",
              "\n",
              "    [theme=dark] .colab-df-convert:hover {\n",
              "      background-color: #434B5C;\n",
              "      box-shadow: 0px 1px 3px 1px rgba(0, 0, 0, 0.15);\n",
              "      filter: drop-shadow(0px 1px 2px rgba(0, 0, 0, 0.3));\n",
              "      fill: #FFFFFF;\n",
              "    }\n",
              "  </style>\n",
              "\n",
              "      <script>\n",
              "        const buttonEl =\n",
              "          document.querySelector('#df-d88c7457-48fb-4ebd-b432-5494cda44d8f button.colab-df-convert');\n",
              "        buttonEl.style.display =\n",
              "          google.colab.kernel.accessAllowed ? 'block' : 'none';\n",
              "\n",
              "        async function convertToInteractive(key) {\n",
              "          const element = document.querySelector('#df-d88c7457-48fb-4ebd-b432-5494cda44d8f');\n",
              "          const dataTable =\n",
              "            await google.colab.kernel.invokeFunction('convertToInteractive',\n",
              "                                                     [key], {});\n",
              "          if (!dataTable) return;\n",
              "\n",
              "          const docLinkHtml = 'Like what you see? Visit the ' +\n",
              "            '<a target=\"_blank\" href=https://colab.research.google.com/notebooks/data_table.ipynb>data table notebook</a>'\n",
              "            + ' to learn more about interactive tables.';\n",
              "          element.innerHTML = '';\n",
              "          dataTable['output_type'] = 'display_data';\n",
              "          await google.colab.output.renderOutput(dataTable, element);\n",
              "          const docLink = document.createElement('div');\n",
              "          docLink.innerHTML = docLinkHtml;\n",
              "          element.appendChild(docLink);\n",
              "        }\n",
              "      </script>\n",
              "    </div>\n",
              "  </div>\n",
              "  "
            ]
          },
          "metadata": {},
          "execution_count": 14
        }
      ],
      "source": [
        "pd.DataFrame([['Afghanistan',1952, 8425333, 'Asia', 28.801, 779.445314 ],\n",
        "              ['Afghanistan',1957, 9240934, 'Asia', 30.332, 820.853030 ],\n",
        "              ['Afghanistan',1962, 102267083, 'Asia', 31.997, 853.100710 ]], \n",
        "             columns=['country','year','population','continent','life_exp','gdp_cap'])"
      ]
    },
    {
      "cell_type": "markdown",
      "metadata": {
        "id": "930b3671"
      },
      "source": [
        "#### Can you create a single row dataframe? "
      ]
    },
    {
      "cell_type": "code",
      "execution_count": null,
      "metadata": {
        "colab": {
          "base_uri": "https://localhost:8080/",
          "height": 359
        },
        "id": "94e0cb39",
        "outputId": "469b9b8d-b5bb-4d0d-bd89-bdb313fe1168"
      },
      "outputs": [
        {
          "output_type": "error",
          "ename": "ValueError",
          "evalue": "ignored",
          "traceback": [
            "\u001b[0;31m---------------------------------------------------------------------------\u001b[0m",
            "\u001b[0;31mValueError\u001b[0m                                Traceback (most recent call last)",
            "\u001b[0;32m<ipython-input-16-09f06f4e094e>\u001b[0m in \u001b[0;36m<module>\u001b[0;34m\u001b[0m\n\u001b[1;32m      1\u001b[0m pd.DataFrame(['Afghanistan',1952, 8425333, 'Asia', 28.801, 779.445314 ], \n\u001b[0;32m----> 2\u001b[0;31m              columns=['country','year','population','continent','life_exp','gdp_cap'])\n\u001b[0m",
            "\u001b[0;32m/usr/local/lib/python3.7/dist-packages/pandas/core/frame.py\u001b[0m in \u001b[0;36m__init__\u001b[0;34m(self, data, index, columns, dtype, copy)\u001b[0m\n\u001b[1;32m    715\u001b[0m                         \u001b[0mdtype\u001b[0m\u001b[0;34m=\u001b[0m\u001b[0mdtype\u001b[0m\u001b[0;34m,\u001b[0m\u001b[0;34m\u001b[0m\u001b[0;34m\u001b[0m\u001b[0m\n\u001b[1;32m    716\u001b[0m                         \u001b[0mcopy\u001b[0m\u001b[0;34m=\u001b[0m\u001b[0mcopy\u001b[0m\u001b[0;34m,\u001b[0m\u001b[0;34m\u001b[0m\u001b[0;34m\u001b[0m\u001b[0m\n\u001b[0;32m--> 717\u001b[0;31m                         \u001b[0mtyp\u001b[0m\u001b[0;34m=\u001b[0m\u001b[0mmanager\u001b[0m\u001b[0;34m,\u001b[0m\u001b[0;34m\u001b[0m\u001b[0;34m\u001b[0m\u001b[0m\n\u001b[0m\u001b[1;32m    718\u001b[0m                     )\n\u001b[1;32m    719\u001b[0m             \u001b[0;32melse\u001b[0m\u001b[0;34m:\u001b[0m\u001b[0;34m\u001b[0m\u001b[0;34m\u001b[0m\u001b[0m\n",
            "\u001b[0;32m/usr/local/lib/python3.7/dist-packages/pandas/core/internals/construction.py\u001b[0m in \u001b[0;36mndarray_to_mgr\u001b[0;34m(values, index, columns, dtype, copy, typ)\u001b[0m\n\u001b[1;32m    322\u001b[0m     )\n\u001b[1;32m    323\u001b[0m \u001b[0;34m\u001b[0m\u001b[0m\n\u001b[0;32m--> 324\u001b[0;31m     \u001b[0m_check_values_indices_shape_match\u001b[0m\u001b[0;34m(\u001b[0m\u001b[0mvalues\u001b[0m\u001b[0;34m,\u001b[0m \u001b[0mindex\u001b[0m\u001b[0;34m,\u001b[0m \u001b[0mcolumns\u001b[0m\u001b[0;34m)\u001b[0m\u001b[0;34m\u001b[0m\u001b[0;34m\u001b[0m\u001b[0m\n\u001b[0m\u001b[1;32m    325\u001b[0m \u001b[0;34m\u001b[0m\u001b[0m\n\u001b[1;32m    326\u001b[0m     \u001b[0;32mif\u001b[0m \u001b[0mtyp\u001b[0m \u001b[0;34m==\u001b[0m \u001b[0;34m\"array\"\u001b[0m\u001b[0;34m:\u001b[0m\u001b[0;34m\u001b[0m\u001b[0;34m\u001b[0m\u001b[0m\n",
            "\u001b[0;32m/usr/local/lib/python3.7/dist-packages/pandas/core/internals/construction.py\u001b[0m in \u001b[0;36m_check_values_indices_shape_match\u001b[0;34m(values, index, columns)\u001b[0m\n\u001b[1;32m    391\u001b[0m         \u001b[0mpassed\u001b[0m \u001b[0;34m=\u001b[0m \u001b[0mvalues\u001b[0m\u001b[0;34m.\u001b[0m\u001b[0mshape\u001b[0m\u001b[0;34m\u001b[0m\u001b[0;34m\u001b[0m\u001b[0m\n\u001b[1;32m    392\u001b[0m         \u001b[0mimplied\u001b[0m \u001b[0;34m=\u001b[0m \u001b[0;34m(\u001b[0m\u001b[0mlen\u001b[0m\u001b[0;34m(\u001b[0m\u001b[0mindex\u001b[0m\u001b[0;34m)\u001b[0m\u001b[0;34m,\u001b[0m \u001b[0mlen\u001b[0m\u001b[0;34m(\u001b[0m\u001b[0mcolumns\u001b[0m\u001b[0;34m)\u001b[0m\u001b[0;34m)\u001b[0m\u001b[0;34m\u001b[0m\u001b[0;34m\u001b[0m\u001b[0m\n\u001b[0;32m--> 393\u001b[0;31m         \u001b[0;32mraise\u001b[0m \u001b[0mValueError\u001b[0m\u001b[0;34m(\u001b[0m\u001b[0;34mf\"Shape of passed values is {passed}, indices imply {implied}\"\u001b[0m\u001b[0;34m)\u001b[0m\u001b[0;34m\u001b[0m\u001b[0;34m\u001b[0m\u001b[0m\n\u001b[0m\u001b[1;32m    394\u001b[0m \u001b[0;34m\u001b[0m\u001b[0m\n\u001b[1;32m    395\u001b[0m \u001b[0;34m\u001b[0m\u001b[0m\n",
            "\u001b[0;31mValueError\u001b[0m: Shape of passed values is (6, 1), indices imply (6, 6)"
          ]
        }
      ],
      "source": [
        "pd.DataFrame(['Afghanistan',1952, 8425333, 'Asia', 28.801, 779.445314 ], \n",
        "             columns=['country','year','population','continent','life_exp','gdp_cap'])"
      ]
    },
    {
      "cell_type": "markdown",
      "metadata": {
        "id": "97a94ee9"
      },
      "source": [
        "#### Why did this give an error?\n",
        "\n",
        "\n",
        "- Because we passed in a **list of values**\n",
        "\n",
        "\n",
        "- `DataFrame()` expects a **list of rows**"
      ]
    },
    {
      "cell_type": "code",
      "execution_count": null,
      "metadata": {
        "id": "4475857a",
        "colab": {
          "base_uri": "https://localhost:8080/",
          "height": 81
        },
        "outputId": "9512c92d-d4b3-4923-b438-800a03cc8837"
      },
      "outputs": [
        {
          "output_type": "execute_result",
          "data": {
            "text/plain": [
              "       country  year  population continent  life_exp     gdp_cap\n",
              "0  Afghanistan  1952     8425333      Asia    28.801  779.445314"
            ],
            "text/html": [
              "\n",
              "  <div id=\"df-2dd032fd-eb0c-4172-8629-b047db851d01\">\n",
              "    <div class=\"colab-df-container\">\n",
              "      <div>\n",
              "<style scoped>\n",
              "    .dataframe tbody tr th:only-of-type {\n",
              "        vertical-align: middle;\n",
              "    }\n",
              "\n",
              "    .dataframe tbody tr th {\n",
              "        vertical-align: top;\n",
              "    }\n",
              "\n",
              "    .dataframe thead th {\n",
              "        text-align: right;\n",
              "    }\n",
              "</style>\n",
              "<table border=\"1\" class=\"dataframe\">\n",
              "  <thead>\n",
              "    <tr style=\"text-align: right;\">\n",
              "      <th></th>\n",
              "      <th>country</th>\n",
              "      <th>year</th>\n",
              "      <th>population</th>\n",
              "      <th>continent</th>\n",
              "      <th>life_exp</th>\n",
              "      <th>gdp_cap</th>\n",
              "    </tr>\n",
              "  </thead>\n",
              "  <tbody>\n",
              "    <tr>\n",
              "      <th>0</th>\n",
              "      <td>Afghanistan</td>\n",
              "      <td>1952</td>\n",
              "      <td>8425333</td>\n",
              "      <td>Asia</td>\n",
              "      <td>28.801</td>\n",
              "      <td>779.445314</td>\n",
              "    </tr>\n",
              "  </tbody>\n",
              "</table>\n",
              "</div>\n",
              "      <button class=\"colab-df-convert\" onclick=\"convertToInteractive('df-2dd032fd-eb0c-4172-8629-b047db851d01')\"\n",
              "              title=\"Convert this dataframe to an interactive table.\"\n",
              "              style=\"display:none;\">\n",
              "        \n",
              "  <svg xmlns=\"http://www.w3.org/2000/svg\" height=\"24px\"viewBox=\"0 0 24 24\"\n",
              "       width=\"24px\">\n",
              "    <path d=\"M0 0h24v24H0V0z\" fill=\"none\"/>\n",
              "    <path d=\"M18.56 5.44l.94 2.06.94-2.06 2.06-.94-2.06-.94-.94-2.06-.94 2.06-2.06.94zm-11 1L8.5 8.5l.94-2.06 2.06-.94-2.06-.94L8.5 2.5l-.94 2.06-2.06.94zm10 10l.94 2.06.94-2.06 2.06-.94-2.06-.94-.94-2.06-.94 2.06-2.06.94z\"/><path d=\"M17.41 7.96l-1.37-1.37c-.4-.4-.92-.59-1.43-.59-.52 0-1.04.2-1.43.59L10.3 9.45l-7.72 7.72c-.78.78-.78 2.05 0 2.83L4 21.41c.39.39.9.59 1.41.59.51 0 1.02-.2 1.41-.59l7.78-7.78 2.81-2.81c.8-.78.8-2.07 0-2.86zM5.41 20L4 18.59l7.72-7.72 1.47 1.35L5.41 20z\"/>\n",
              "  </svg>\n",
              "      </button>\n",
              "      \n",
              "  <style>\n",
              "    .colab-df-container {\n",
              "      display:flex;\n",
              "      flex-wrap:wrap;\n",
              "      gap: 12px;\n",
              "    }\n",
              "\n",
              "    .colab-df-convert {\n",
              "      background-color: #E8F0FE;\n",
              "      border: none;\n",
              "      border-radius: 50%;\n",
              "      cursor: pointer;\n",
              "      display: none;\n",
              "      fill: #1967D2;\n",
              "      height: 32px;\n",
              "      padding: 0 0 0 0;\n",
              "      width: 32px;\n",
              "    }\n",
              "\n",
              "    .colab-df-convert:hover {\n",
              "      background-color: #E2EBFA;\n",
              "      box-shadow: 0px 1px 2px rgba(60, 64, 67, 0.3), 0px 1px 3px 1px rgba(60, 64, 67, 0.15);\n",
              "      fill: #174EA6;\n",
              "    }\n",
              "\n",
              "    [theme=dark] .colab-df-convert {\n",
              "      background-color: #3B4455;\n",
              "      fill: #D2E3FC;\n",
              "    }\n",
              "\n",
              "    [theme=dark] .colab-df-convert:hover {\n",
              "      background-color: #434B5C;\n",
              "      box-shadow: 0px 1px 3px 1px rgba(0, 0, 0, 0.15);\n",
              "      filter: drop-shadow(0px 1px 2px rgba(0, 0, 0, 0.3));\n",
              "      fill: #FFFFFF;\n",
              "    }\n",
              "  </style>\n",
              "\n",
              "      <script>\n",
              "        const buttonEl =\n",
              "          document.querySelector('#df-2dd032fd-eb0c-4172-8629-b047db851d01 button.colab-df-convert');\n",
              "        buttonEl.style.display =\n",
              "          google.colab.kernel.accessAllowed ? 'block' : 'none';\n",
              "\n",
              "        async function convertToInteractive(key) {\n",
              "          const element = document.querySelector('#df-2dd032fd-eb0c-4172-8629-b047db851d01');\n",
              "          const dataTable =\n",
              "            await google.colab.kernel.invokeFunction('convertToInteractive',\n",
              "                                                     [key], {});\n",
              "          if (!dataTable) return;\n",
              "\n",
              "          const docLinkHtml = 'Like what you see? Visit the ' +\n",
              "            '<a target=\"_blank\" href=https://colab.research.google.com/notebooks/data_table.ipynb>data table notebook</a>'\n",
              "            + ' to learn more about interactive tables.';\n",
              "          element.innerHTML = '';\n",
              "          dataTable['output_type'] = 'display_data';\n",
              "          await google.colab.output.renderOutput(dataTable, element);\n",
              "          const docLink = document.createElement('div');\n",
              "          docLink.innerHTML = docLinkHtml;\n",
              "          element.appendChild(docLink);\n",
              "        }\n",
              "      </script>\n",
              "    </div>\n",
              "  </div>\n",
              "  "
            ]
          },
          "metadata": {},
          "execution_count": 17
        }
      ],
      "source": [
        "pd.DataFrame([['Afghanistan',1952, 8425333, 'Asia', 28.801, 779.445314 ]], \n",
        "             columns=['country','year','population','continent','life_exp','gdp_cap'])"
      ]
    },
    {
      "cell_type": "markdown",
      "metadata": {
        "id": "da408bd4"
      },
      "source": [
        "### Approach 2: Column-oriented\n"
      ]
    },
    {
      "cell_type": "code",
      "execution_count": null,
      "metadata": {
        "id": "41b64736",
        "colab": {
          "base_uri": "https://localhost:8080/",
          "height": 112
        },
        "outputId": "3269c148-8e4f-4338-dce8-b38f06966cf5"
      },
      "outputs": [
        {
          "output_type": "execute_result",
          "data": {
            "text/plain": [
              "       country  year  population continent  life_exp     gdp_cap\n",
              "0  Afghanistan  1952      842533      Asia    28.801  779.445314\n",
              "1  Afghanistan  1957     9240934      Asia    30.332  820.853030"
            ],
            "text/html": [
              "\n",
              "  <div id=\"df-83870cf6-e2aa-484f-82de-bab5760684ba\">\n",
              "    <div class=\"colab-df-container\">\n",
              "      <div>\n",
              "<style scoped>\n",
              "    .dataframe tbody tr th:only-of-type {\n",
              "        vertical-align: middle;\n",
              "    }\n",
              "\n",
              "    .dataframe tbody tr th {\n",
              "        vertical-align: top;\n",
              "    }\n",
              "\n",
              "    .dataframe thead th {\n",
              "        text-align: right;\n",
              "    }\n",
              "</style>\n",
              "<table border=\"1\" class=\"dataframe\">\n",
              "  <thead>\n",
              "    <tr style=\"text-align: right;\">\n",
              "      <th></th>\n",
              "      <th>country</th>\n",
              "      <th>year</th>\n",
              "      <th>population</th>\n",
              "      <th>continent</th>\n",
              "      <th>life_exp</th>\n",
              "      <th>gdp_cap</th>\n",
              "    </tr>\n",
              "  </thead>\n",
              "  <tbody>\n",
              "    <tr>\n",
              "      <th>0</th>\n",
              "      <td>Afghanistan</td>\n",
              "      <td>1952</td>\n",
              "      <td>842533</td>\n",
              "      <td>Asia</td>\n",
              "      <td>28.801</td>\n",
              "      <td>779.445314</td>\n",
              "    </tr>\n",
              "    <tr>\n",
              "      <th>1</th>\n",
              "      <td>Afghanistan</td>\n",
              "      <td>1957</td>\n",
              "      <td>9240934</td>\n",
              "      <td>Asia</td>\n",
              "      <td>30.332</td>\n",
              "      <td>820.853030</td>\n",
              "    </tr>\n",
              "  </tbody>\n",
              "</table>\n",
              "</div>\n",
              "      <button class=\"colab-df-convert\" onclick=\"convertToInteractive('df-83870cf6-e2aa-484f-82de-bab5760684ba')\"\n",
              "              title=\"Convert this dataframe to an interactive table.\"\n",
              "              style=\"display:none;\">\n",
              "        \n",
              "  <svg xmlns=\"http://www.w3.org/2000/svg\" height=\"24px\"viewBox=\"0 0 24 24\"\n",
              "       width=\"24px\">\n",
              "    <path d=\"M0 0h24v24H0V0z\" fill=\"none\"/>\n",
              "    <path d=\"M18.56 5.44l.94 2.06.94-2.06 2.06-.94-2.06-.94-.94-2.06-.94 2.06-2.06.94zm-11 1L8.5 8.5l.94-2.06 2.06-.94-2.06-.94L8.5 2.5l-.94 2.06-2.06.94zm10 10l.94 2.06.94-2.06 2.06-.94-2.06-.94-.94-2.06-.94 2.06-2.06.94z\"/><path d=\"M17.41 7.96l-1.37-1.37c-.4-.4-.92-.59-1.43-.59-.52 0-1.04.2-1.43.59L10.3 9.45l-7.72 7.72c-.78.78-.78 2.05 0 2.83L4 21.41c.39.39.9.59 1.41.59.51 0 1.02-.2 1.41-.59l7.78-7.78 2.81-2.81c.8-.78.8-2.07 0-2.86zM5.41 20L4 18.59l7.72-7.72 1.47 1.35L5.41 20z\"/>\n",
              "  </svg>\n",
              "      </button>\n",
              "      \n",
              "  <style>\n",
              "    .colab-df-container {\n",
              "      display:flex;\n",
              "      flex-wrap:wrap;\n",
              "      gap: 12px;\n",
              "    }\n",
              "\n",
              "    .colab-df-convert {\n",
              "      background-color: #E8F0FE;\n",
              "      border: none;\n",
              "      border-radius: 50%;\n",
              "      cursor: pointer;\n",
              "      display: none;\n",
              "      fill: #1967D2;\n",
              "      height: 32px;\n",
              "      padding: 0 0 0 0;\n",
              "      width: 32px;\n",
              "    }\n",
              "\n",
              "    .colab-df-convert:hover {\n",
              "      background-color: #E2EBFA;\n",
              "      box-shadow: 0px 1px 2px rgba(60, 64, 67, 0.3), 0px 1px 3px 1px rgba(60, 64, 67, 0.15);\n",
              "      fill: #174EA6;\n",
              "    }\n",
              "\n",
              "    [theme=dark] .colab-df-convert {\n",
              "      background-color: #3B4455;\n",
              "      fill: #D2E3FC;\n",
              "    }\n",
              "\n",
              "    [theme=dark] .colab-df-convert:hover {\n",
              "      background-color: #434B5C;\n",
              "      box-shadow: 0px 1px 3px 1px rgba(0, 0, 0, 0.15);\n",
              "      filter: drop-shadow(0px 1px 2px rgba(0, 0, 0, 0.3));\n",
              "      fill: #FFFFFF;\n",
              "    }\n",
              "  </style>\n",
              "\n",
              "      <script>\n",
              "        const buttonEl =\n",
              "          document.querySelector('#df-83870cf6-e2aa-484f-82de-bab5760684ba button.colab-df-convert');\n",
              "        buttonEl.style.display =\n",
              "          google.colab.kernel.accessAllowed ? 'block' : 'none';\n",
              "\n",
              "        async function convertToInteractive(key) {\n",
              "          const element = document.querySelector('#df-83870cf6-e2aa-484f-82de-bab5760684ba');\n",
              "          const dataTable =\n",
              "            await google.colab.kernel.invokeFunction('convertToInteractive',\n",
              "                                                     [key], {});\n",
              "          if (!dataTable) return;\n",
              "\n",
              "          const docLinkHtml = 'Like what you see? Visit the ' +\n",
              "            '<a target=\"_blank\" href=https://colab.research.google.com/notebooks/data_table.ipynb>data table notebook</a>'\n",
              "            + ' to learn more about interactive tables.';\n",
              "          element.innerHTML = '';\n",
              "          dataTable['output_type'] = 'display_data';\n",
              "          await google.colab.output.renderOutput(dataTable, element);\n",
              "          const docLink = document.createElement('div');\n",
              "          docLink.innerHTML = docLinkHtml;\n",
              "          element.appendChild(docLink);\n",
              "        }\n",
              "      </script>\n",
              "    </div>\n",
              "  </div>\n",
              "  "
            ]
          },
          "metadata": {},
          "execution_count": 18
        }
      ],
      "source": [
        "pd.DataFrame({'country':['Afghanistan', 'Afghanistan'], 'year':[1952,1957],\n",
        "              'population':[842533, 9240934], 'continent':['Asia', 'Asia'],\n",
        "              'life_exp':[28.801, 30.332], 'gdp_cap':[779.445314, 820.853030]})"
      ]
    },
    {
      "cell_type": "markdown",
      "source": [
        "We **pass the data** as a **dictionary**\n",
        "\n",
        "- **Key** is the **Column Name/Label**\n",
        "\n",
        "\n",
        "- **Value** is the **list of values column-wise**\n"
      ],
      "metadata": {
        "id": "f4rPpIyCIzbU"
      }
    },
    {
      "cell_type": "markdown",
      "metadata": {
        "id": "hX2wWkcifQpA"
      },
      "source": [
        "We now have a basic idea about the dataset and creating rows and columns\n",
        "\n",
        "\n",
        "What kind of **other operations** can we perform on the dataframe?\n",
        "\n",
        "Thinking from database perspective:\n",
        "- Adding data\n",
        "- Removing data\n",
        "- Updating/Modifying data\n",
        "\n",
        "and so on"
      ]
    },
    {
      "cell_type": "markdown",
      "source": [
        "## Basic operations on columns\n"
      ],
      "metadata": {
        "id": "gRuDu4ZUt64i"
      }
    },
    {
      "cell_type": "markdown",
      "source": [
        "\n",
        "We can see that our dataset has 6 cols\n",
        "\n",
        "#### But what if our dataset has 20 cols ? ... or 100 cols ? We can't see ther names in **one go**.\n",
        "\n",
        "#### How can we get the names of all these cols ?\n",
        "\n",
        "We can do it in two ways:\n",
        "  1. df.columns\n",
        "  2. df.keys\n",
        "\n"
      ],
      "metadata": {
        "id": "dEXf4nuEVs3r"
      }
    },
    {
      "cell_type": "code",
      "execution_count": null,
      "metadata": {
        "id": "fef4fd24",
        "colab": {
          "base_uri": "https://localhost:8080/"
        },
        "outputId": "b310e1f1-fc4c-4d9f-de50-f60547cc2d82"
      },
      "outputs": [
        {
          "output_type": "execute_result",
          "data": {
            "text/plain": [
              "Index(['country', 'year', 'population', 'continent', 'life_exp', 'gdp_cap'], dtype='object')"
            ]
          },
          "metadata": {},
          "execution_count": 19
        }
      ],
      "source": [
        "df.columns  # using attribute `columns` of dataframe"
      ]
    },
    {
      "cell_type": "code",
      "execution_count": null,
      "metadata": {
        "id": "b7a14fa0",
        "colab": {
          "base_uri": "https://localhost:8080/"
        },
        "outputId": "7dce50e1-2ec6-452d-b6f1-04f5f0f43852"
      },
      "outputs": [
        {
          "output_type": "execute_result",
          "data": {
            "text/plain": [
              "Index(['country', 'year', 'population', 'continent', 'life_exp', 'gdp_cap'], dtype='object')"
            ]
          },
          "metadata": {},
          "execution_count": 20
        }
      ],
      "source": [
        "df.keys()  # using method keys() of dataframe"
      ]
    },
    {
      "cell_type": "markdown",
      "source": [
        "Note:\n",
        "\n",
        "- Here, `Index` is a type of pandas class used to store the `address` of the series/dataframe\n",
        "\n",
        "- It is an Immutable sequence used for indexing and alignment.\n",
        "\n",
        "\n",
        "\n"
      ],
      "metadata": {
        "id": "AeIyOXazVjnI"
      }
    },
    {
      "cell_type": "markdown",
      "source": [
        "<!-- #### Now how can we access a `key` of this dataframe?\n",
        "\n",
        "Let's try to access the values in `country` column\n",
        "\n",
        "Now that we have the list of keys, how can we use it to access a column? -->"
      ],
      "metadata": {
        "id": "XmTKaaUBQQq6"
      }
    },
    {
      "cell_type": "code",
      "execution_count": null,
      "metadata": {
        "id": "b2d5e4da"
      },
      "outputs": [],
      "source": [
        "# df['country'].head()  # Gives values in Top 5 rows pertaining to the key"
      ]
    },
    {
      "cell_type": "markdown",
      "metadata": {
        "id": "67ca3597"
      },
      "source": [
        "Pandas DataFrame and Series are specialised dictionary\n",
        "\n",
        "#### But what is so \"special\" about this dictionary?\n",
        "\n",
        "It can take multiple keys\n"
      ]
    },
    {
      "cell_type": "code",
      "execution_count": null,
      "metadata": {
        "id": "21a35bd2"
      },
      "outputs": [],
      "source": [
        "df[['country', 'life_exp']].head() "
      ]
    },
    {
      "cell_type": "markdown",
      "source": [
        "And what if we pass a single column name?"
      ],
      "metadata": {
        "id": "4jzZWYFBgEkY"
      }
    },
    {
      "cell_type": "code",
      "source": [
        "df[['country']].head() "
      ],
      "metadata": {
        "id": "pIp1zTtSgIdl"
      },
      "execution_count": null,
      "outputs": []
    },
    {
      "cell_type": "markdown",
      "source": [
        "Note:\n",
        "\n",
        "Notice how this output type is different from our earlier output using `df['country']`\n",
        "\n",
        "==> `['country']` gives series while `[['country']]` gives dataframe"
      ],
      "metadata": {
        "id": "wyLOWJCEsty7"
      }
    },
    {
      "cell_type": "markdown",
      "metadata": {
        "id": "Lw59Tu-DQOLu"
      },
      "source": [
        "Now that we know how to access columns, lets answer some questions\n",
        "\n",
        "### How can we find the countries that have been surveyed ?\n",
        "\n",
        "We can find the unique vals in the `country` col\n",
        "\n",
        "#### How can we find unique values in a column?"
      ]
    },
    {
      "cell_type": "code",
      "execution_count": null,
      "metadata": {
        "id": "0Yfy1XjMQ3F7"
      },
      "outputs": [],
      "source": [
        "df['country'].unique()"
      ]
    },
    {
      "cell_type": "markdown",
      "metadata": {
        "id": "wrppgTHzSByt"
      },
      "source": [
        "#### Now what if you also want to check the count of each country in the dataframe?\n"
      ]
    },
    {
      "cell_type": "code",
      "execution_count": null,
      "metadata": {
        "id": "HAm69U_7SQcN"
      },
      "outputs": [],
      "source": [
        "df['country'].value_counts()"
      ]
    },
    {
      "cell_type": "markdown",
      "metadata": {
        "id": "4PwBJlrnSXMG"
      },
      "source": [
        "Note: \n",
        "\n",
        "`value_counts()` shows the output in **decreasing order of frequency**"
      ]
    },
    {
      "cell_type": "markdown",
      "metadata": {
        "id": "KrDUjADzjAzH"
      },
      "source": [
        "### What if we want to change the name of a column ?"
      ]
    },
    {
      "cell_type": "markdown",
      "source": [
        "We can rename the column by:\n",
        "- passing the dictionary with `old_name:new_name` pair\n",
        "- specifying `axis=1`"
      ],
      "metadata": {
        "id": "xRCXuOkhnbg-"
      }
    },
    {
      "cell_type": "code",
      "execution_count": null,
      "metadata": {
        "id": "nZ6Gj0rajH3r"
      },
      "outputs": [],
      "source": [
        "df.rename({\"population\": \"Population\", \"country\":\"Country\" }, axis = 1)"
      ]
    },
    {
      "cell_type": "markdown",
      "source": [
        "Alternatively, we can also rename the column without using `axis`\n",
        "- by using the `column` parameter\n",
        "\n"
      ],
      "metadata": {
        "id": "NOln3-u6rqUw"
      }
    },
    {
      "cell_type": "code",
      "source": [
        "df.rename(columns={\"country\":\"Country\"})"
      ],
      "metadata": {
        "id": "WfDt7M1xrpvA"
      },
      "execution_count": null,
      "outputs": []
    },
    {
      "cell_type": "markdown",
      "metadata": {
        "id": "ZyNzniDVjWvs"
      },
      "source": [
        "We can set it inplace by setting the `inplace` argument = True"
      ]
    },
    {
      "cell_type": "code",
      "execution_count": null,
      "metadata": {
        "id": "UHZ54n1fjvLx"
      },
      "outputs": [],
      "source": [
        "df.rename({\"country\": \"Country\"}, axis = 1, inplace = True)\n",
        "df"
      ]
    },
    {
      "cell_type": "markdown",
      "source": [
        "**Note**\n",
        "- .rename has default value of axis=0\n",
        "- If two columns have the **same name**, then `df['column']` will display both columns"
      ],
      "metadata": {
        "id": "N19wqCqaC5j4"
      }
    },
    {
      "cell_type": "markdown",
      "metadata": {
        "id": "CpFaqi3-mLDS"
      },
      "source": [
        "Now lets try another way of accessing column vals"
      ]
    },
    {
      "cell_type": "code",
      "execution_count": null,
      "metadata": {
        "id": "uqZzZVLmmRtj"
      },
      "outputs": [],
      "source": [
        "df.Country"
      ]
    },
    {
      "cell_type": "markdown",
      "metadata": {
        "id": "y-w0mVH3md7i"
      },
      "source": [
        "This however doesn't work everytime\n",
        "\n",
        "#### What do you think could be the problems with using attribute style for accessing the columns?\n",
        "\n",
        "**Problems** such as\n",
        "- if the column names are **not strings**\n",
        "  - Starting with **number**: E.g., ```2nd```\n",
        "  - Contains a **space**: E.g., ```Roll Number```\n",
        "- or if the column names conflict with **methods of the DataFrame**\n",
        "  - E.g. ```shape``` \n",
        "\n",
        "It is generally better to avoid this type of accessing columns"
      ]
    },
    {
      "cell_type": "markdown",
      "metadata": {
        "id": "fddec50c"
      },
      "source": [
        "#### Are all the columns in our data necessary?\n",
        "  \n",
        "  - We already know the continents in which each country lies\n",
        "  - So we don't need this column\n"
      ]
    },
    {
      "cell_type": "markdown",
      "source": [
        "### How can we delete cols in pandas dataframe ?\n"
      ],
      "metadata": {
        "id": "1yAclO-ldPLi"
      }
    },
    {
      "cell_type": "code",
      "execution_count": null,
      "metadata": {
        "id": "a97ff28d",
        "scrolled": true
      },
      "outputs": [],
      "source": [
        "df.drop('continent', axis=1)"
      ]
    },
    {
      "cell_type": "markdown",
      "source": [
        "The `drop` function takes two parameters:\n",
        "  - The column name \n",
        "  - The axis\n",
        "  \n",
        "By default the value of `axis` is 0\n",
        "\n"
      ],
      "metadata": {
        "id": "59IWb-btpVcj"
      }
    },
    {
      "cell_type": "markdown",
      "source": [
        "An alternative to the above approach is using the \"columns\" parameter as we did in rename"
      ],
      "metadata": {
        "id": "RIGk1xDywkDo"
      }
    },
    {
      "cell_type": "code",
      "source": [
        "df.drop(columns=['continent'])"
      ],
      "metadata": {
        "id": "NMTWb41kwstw"
      },
      "execution_count": null,
      "outputs": []
    },
    {
      "cell_type": "markdown",
      "metadata": {
        "id": "a83c8258"
      },
      "source": [
        "As you can see, **column `contintent` is dropped**\n",
        "\n",
        "#### Has the column permanently been deleted?"
      ]
    },
    {
      "cell_type": "code",
      "execution_count": null,
      "metadata": {
        "id": "499c5e54",
        "scrolled": true
      },
      "outputs": [],
      "source": [
        "df.head()"
      ]
    },
    {
      "cell_type": "markdown",
      "metadata": {
        "id": "3b7ef5c0"
      },
      "source": [
        "NO, the **column `continent` is still there**\n",
        "\n",
        "**Do you see what's happening here?**\n",
        "\n",
        "We only got a **view of dataframe with column `continent` dropped**\n",
        "\n",
        "#### How can we permanently drop the column?\n",
        "\n",
        "We can either **re-assign** it\n",
        "- `df = df.drop('continent', axis=1)`\n",
        "\n",
        "  OR\n",
        "    \n",
        "- We can **set parameter `inplace=True`**\n",
        "    \n",
        "By **default, `inplace=False`**"
      ]
    },
    {
      "cell_type": "code",
      "execution_count": null,
      "metadata": {
        "id": "0787f6de"
      },
      "outputs": [],
      "source": [
        "df.drop('continent', axis=1, inplace=True)"
      ]
    },
    {
      "cell_type": "code",
      "execution_count": null,
      "metadata": {
        "id": "0c62f9e5",
        "scrolled": true
      },
      "outputs": [],
      "source": [
        "df.head() #we print the head to check"
      ]
    },
    {
      "cell_type": "markdown",
      "metadata": {
        "id": "f29c7c10"
      },
      "source": [
        "Now we can see the column `continent` is permanently dropped"
      ]
    },
    {
      "cell_type": "code",
      "source": [
        "df.drop(df.columns[-3], axis=1)"
      ],
      "metadata": {
        "id": "T7VrJDB_8JD_"
      },
      "execution_count": null,
      "outputs": []
    },
    {
      "cell_type": "markdown",
      "metadata": {
        "id": "tGp2zFb4LRWK"
      },
      "source": [
        "### Now similarly, what if we want to create a new column?\n",
        "\n",
        "We can either\n",
        "- use values from **existing columns** \n",
        "\n",
        "OR \n",
        "- create our **own values**\n",
        "\n",
        "#### How to create a column using values from an existing column?"
      ]
    },
    {
      "cell_type": "code",
      "source": [
        "df[\"year+7\"] = df[\"year\"] + 7\n",
        "df.head()"
      ],
      "metadata": {
        "id": "TcuGYJaD7nY-"
      },
      "execution_count": null,
      "outputs": []
    },
    {
      "cell_type": "markdown",
      "source": [
        "As we see, a new column `year+7` is created from the column `year`\n",
        "\n",
        "We can also use values from two columns to form a new column\n",
        "\n",
        "#### Which two columns can we use to create a new column `gdp`?"
      ],
      "metadata": {
        "id": "0vNRpIKq7v-l"
      }
    },
    {
      "cell_type": "code",
      "source": [
        "df['gdp']=df['gdp_cap'] * df['population']\n",
        "df.head()"
      ],
      "metadata": {
        "id": "Lpmi2gl_8pni"
      },
      "execution_count": null,
      "outputs": []
    },
    {
      "cell_type": "markdown",
      "metadata": {
        "id": "28e4ca6c"
      },
      "source": [
        "#### As you can see\n",
        "\n",
        "- An **additional column** has been **created**\n",
        "\n",
        "- **Values** in this column are **product of respective values in `gdp_cap` and `population`**\n",
        "\n",
        "\n",
        "#### What other operations we can use?\n",
        "\n",
        "Subtraction, Addition, etc."
      ]
    },
    {
      "cell_type": "markdown",
      "metadata": {
        "id": "3563bab2"
      },
      "source": [
        "### How can we create a new column from our own values?\n",
        "\n",
        "- We can **create a list**\n",
        "\n",
        "OR\n",
        "\n",
        "- We can **create a Pandas Series** from a list/numpy array for our new column"
      ]
    },
    {
      "cell_type": "code",
      "execution_count": null,
      "metadata": {
        "id": "0863d49f"
      },
      "outputs": [],
      "source": [
        "df[\"Own\"] = [i for i in range(1704)]  # count of these values should be correct\n",
        "df"
      ]
    },
    {
      "cell_type": "markdown",
      "metadata": {
        "id": "DNE1iifMh8Fn"
      },
      "source": [
        "Now that we know how to create new cols lets see some basic ops on rows\n",
        "\n",
        "Before that lets drop the newly created cols\n"
      ]
    },
    {
      "cell_type": "code",
      "execution_count": null,
      "metadata": {
        "id": "WZUi4Bd5Mu8z"
      },
      "outputs": [],
      "source": [
        "df.drop(columns=[\"Own\",'gdp', 'year+7'], axis = 1, inplace = True)\n",
        "df"
      ]
    },
    {
      "cell_type": "markdown",
      "metadata": {
        "id": "pWjf1JPfMuae"
      },
      "source": [
        "## Working with Rows\n",
        "\n",
        "First, lets learn how to access the rows\n",
        "\n",
        "#### What if we want to access any particular row (say first row)?\n",
        "\n",
        "Let's first see for one column\n",
        "\n",
        "Later, we can generalise the same for the entire dataframe\n"
      ]
    },
    {
      "cell_type": "code",
      "execution_count": null,
      "metadata": {
        "id": "oz_0gCAzi_a4"
      },
      "outputs": [],
      "source": [
        "ser = df[\"Country\"]\n",
        "ser"
      ]
    },
    {
      "cell_type": "markdown",
      "metadata": {
        "id": "W1nzJgFbjUGq"
      },
      "source": [
        "We can simply use its indices much like we do in a numpy array\n",
        "\n",
        "So, how will be then access the first element (or say first row)?"
      ]
    },
    {
      "cell_type": "code",
      "execution_count": null,
      "metadata": {
        "id": "ddp3QpeijE2O"
      },
      "outputs": [],
      "source": [
        "ser[0]"
      ]
    },
    {
      "cell_type": "markdown",
      "metadata": {
        "id": "h1GA0Ch7ijX5"
      },
      "source": [
        "#### And what about accessing a subset of rows (say 6th:15th) ?"
      ]
    },
    {
      "cell_type": "code",
      "execution_count": null,
      "metadata": {
        "id": "f1962e2d"
      },
      "outputs": [],
      "source": [
        "ser[5:14]"
      ]
    },
    {
      "cell_type": "markdown",
      "metadata": {
        "id": "spl_vULRjdfD"
      },
      "source": [
        "This is known as slicing\n",
        "\n",
        "Let's do the same for the dataframe now"
      ]
    },
    {
      "cell_type": "markdown",
      "source": [
        "#### So how can we access a row in a dataframe?"
      ],
      "metadata": {
        "id": "lkx2-fFm83EJ"
      }
    },
    {
      "cell_type": "code",
      "source": [
        "df[0]"
      ],
      "metadata": {
        "id": "OC8A_goR87w1"
      },
      "execution_count": null,
      "outputs": []
    },
    {
      "cell_type": "markdown",
      "source": [
        "Notice, that this syntax is exactly same as how we tried accessing a column\n",
        "\n",
        "===> `df[x]` looks for column with name `x`\n",
        "\n",
        "#### How can we access a slice of rows in the dataframe?"
      ],
      "metadata": {
        "id": "Juc0pzaV8--q"
      }
    },
    {
      "cell_type": "code",
      "source": [
        "df[5:15]"
      ],
      "metadata": {
        "id": "MLJMxmJd9CZ2"
      },
      "execution_count": null,
      "outputs": []
    },
    {
      "cell_type": "markdown",
      "source": [
        "Woah, so the slicing works\n",
        "\n",
        "===> Indexing looks only for column labels \\\n",
        "===> Slicing works for row labels"
      ],
      "metadata": {
        "id": "zqeJnT3W9EeK"
      }
    },
    {
      "cell_type": "markdown",
      "metadata": {
        "id": "SMqBhO-TWXck"
      },
      "source": [
        "#### Just like columns, do rows also have labels?\n",
        "\n",
        "**YES**\n",
        "\n",
        "Notice the indexes in bold against each row\n",
        "\n",
        "Lets see how can we access these indexes"
      ]
    },
    {
      "cell_type": "code",
      "source": [
        "df.index.values"
      ],
      "metadata": {
        "id": "xYBR-LaBqrJK"
      },
      "execution_count": null,
      "outputs": []
    },
    {
      "cell_type": "markdown",
      "source": [
        "#### Can we change row labels (like we did for columns)?\n",
        "\n",
        "What if we want to start indexing from 1 (instead of 0)?"
      ],
      "metadata": {
        "id": "NKf7RXzKqtHN"
      }
    },
    {
      "cell_type": "code",
      "execution_count": null,
      "metadata": {
        "id": "VFdQ3tnrduSD"
      },
      "outputs": [],
      "source": [
        "df.index = list(range(1, df.shape[0]+1)) # create a list of indexes of same length\n",
        "df"
      ]
    },
    {
      "cell_type": "markdown",
      "metadata": {
        "id": "KRvlAf3jXJdJ"
      },
      "source": [
        "As you can see the indexing is now starting from 1 instead of 0.\n"
      ]
    },
    {
      "cell_type": "markdown",
      "source": [
        "### Explicit and Implicit Indices\n"
      ],
      "metadata": {
        "id": "Op-Y6CVxq6kf"
      }
    },
    {
      "cell_type": "markdown",
      "metadata": {
        "id": "FGg4WTmCXboA"
      },
      "source": [
        "#### What are these row labels/indices exactly ?\n",
        "  \n",
        "- They can be called identifiers of a particular row\n",
        "  \n",
        "- Specifically known as **explicit indices**\n",
        "\n",
        "#### Additionally, can series/dataframes can also use python style indexing?\n",
        "\n",
        "**YES** \n",
        "\n",
        "The python style indices are known as **implicit indices**\n",
        "\n",
        "\n",
        "#### How can we access explicit index of a particular row?\n",
        "  - Using df.index[]\n",
        "  - Takes **impicit index** of row to give its explicit index\n"
      ]
    },
    {
      "cell_type": "code",
      "execution_count": null,
      "metadata": {
        "id": "bTs1fUw_cQD4"
      },
      "outputs": [],
      "source": [
        "df.index[1] #Implicit index 1 gave explicit index 2"
      ]
    },
    {
      "cell_type": "markdown",
      "metadata": {
        "id": "O4n6oCYcaq4m"
      },
      "source": [
        "#### But why not use just implicit indexing ?\n",
        "\n",
        "Explicit indices can be changed to any value of any datatype\n",
        "  - Eg: Explicit Index of 1st row can be changed to `First`\n",
        "  - Or, something like a floating point value, say `1.0`\n",
        "\n"
      ]
    },
    {
      "cell_type": "code",
      "source": [
        "df.index = np.arange(1, df.shape[0]+1, dtype='float')\n",
        "df"
      ],
      "metadata": {
        "id": "0ho8N7FA_EbA"
      },
      "execution_count": null,
      "outputs": []
    },
    {
      "cell_type": "markdown",
      "source": [
        "As we can see, the indices are floating point values now"
      ],
      "metadata": {
        "id": "JmjIqmw4_mVg"
      }
    },
    {
      "cell_type": "markdown",
      "metadata": {
        "id": "xGmJ2hOeYlqN"
      },
      "source": [
        "Now to understand string indices, let's take a small subset of our original dataframe\n"
      ]
    },
    {
      "cell_type": "code",
      "execution_count": null,
      "metadata": {
        "id": "Cx1bQvINb7ZX"
      },
      "outputs": [],
      "source": [
        "sample = df.head()\n",
        "sample"
      ]
    },
    {
      "cell_type": "markdown",
      "source": [
        "#### Now what if we want to use string indices?"
      ],
      "metadata": {
        "id": "L3OX91yd_xfd"
      }
    },
    {
      "cell_type": "code",
      "source": [
        "sample.index = ['a', 'b', 'c', 'd', 'e']\n",
        "sample"
      ],
      "metadata": {
        "id": "DAqad31F_3yI"
      },
      "execution_count": null,
      "outputs": []
    },
    {
      "cell_type": "markdown",
      "source": [
        "This shows us we can use almost anything as our explicit index"
      ],
      "metadata": {
        "id": "ovndHSEG_7Pd"
      }
    },
    {
      "cell_type": "markdown",
      "source": [
        "### Now how can we reset our indices back to integers?\n"
      ],
      "metadata": {
        "id": "ZpID1xmdUu11"
      }
    },
    {
      "cell_type": "code",
      "source": [
        "df.reset_index()"
      ],
      "metadata": {
        "id": "cIqgMU70UsjT"
      },
      "execution_count": null,
      "outputs": []
    },
    {
      "cell_type": "markdown",
      "source": [
        "Notice it's creating a new column `index`\n",
        "\n",
        "#### How can we reset our index without creating this new column?"
      ],
      "metadata": {
        "id": "EEoLueqIoJvD"
      }
    },
    {
      "cell_type": "code",
      "source": [
        "df.reset_index(drop=True) # By using drop=True we can prevent creation of a new column"
      ],
      "metadata": {
        "id": "7qb4MYM8ox_K"
      },
      "execution_count": null,
      "outputs": []
    },
    {
      "cell_type": "markdown",
      "source": [
        "Great, now let's do this in place"
      ],
      "metadata": {
        "id": "bFfMNl4No7sF"
      }
    },
    {
      "cell_type": "code",
      "source": [
        "df.reset_index(drop=True, inplace=True)"
      ],
      "metadata": {
        "id": "d6z965iDo_Hk"
      },
      "execution_count": null,
      "outputs": []
    },
    {
      "cell_type": "markdown",
      "source": [
        "### loc and iloc"
      ],
      "metadata": {
        "id": "AcEKEl8crlqb"
      }
    },
    {
      "cell_type": "markdown",
      "metadata": {
        "id": "EA62JkBRj7kv"
      },
      "source": [
        "Now to summarize:\n",
        "  - **Indexing in Series** uses **explicit index**\n",
        "  - **Slicing** however uses **implicit index**\n",
        "\n",
        "This can be a cause for confusion\n",
        "\n",
        "To avoid this pandas provides special indexers\n",
        "\n",
        "Lets look at them one by one\n",
        "\n",
        "#### **1. loc**\n",
        "\n",
        "Allows indexing and slicing that always references the explicit index"
      ]
    },
    {
      "cell_type": "code",
      "execution_count": null,
      "metadata": {
        "id": "ws088QT2kjnS"
      },
      "outputs": [],
      "source": [
        "df.loc[1]"
      ]
    },
    {
      "cell_type": "code",
      "execution_count": null,
      "metadata": {
        "id": "g9c38e2Nkm-G"
      },
      "outputs": [],
      "source": [
        "df.loc[1:3]"
      ]
    },
    {
      "cell_type": "markdown",
      "metadata": {
        "id": "9447d2bf"
      },
      "source": [
        "#### Did you notice something strange here?\n",
        "\n",
        "- The **range is inclusive** of **end point** for `loc`\n",
        "\n",
        "- **Row with Label 3** is **included** in the result\n"
      ]
    },
    {
      "cell_type": "markdown",
      "source": [
        "**Quiz 4**\n",
        "```\n",
        "For the given series:\n",
        "\n",
        "demo = pd.Series(['a', 'b', 'c', 'd', 'e'], index=[1, 5, 3, 7, 3])\n",
        "\n",
        "What would demo.loc [1:3] return?\n",
        "\n",
        "a. First 3 elements\n",
        "\n",
        "b. First 5 elements\n",
        "\n",
        "c. Error\n",
        "\n",
        "Ans: Error, since not unique label, pandas will not be able to get the right range to slice the series\n"
      ],
      "metadata": {
        "id": "3xDGtl5cFpJS"
      }
    },
    {
      "cell_type": "markdown",
      "metadata": {
        "id": "99rHQWPhktQ4"
      },
      "source": [
        "#### **2. iloc**\n",
        "\n",
        "Allows indexing and slicing that always references the implicit Python-style index"
      ]
    },
    {
      "cell_type": "code",
      "execution_count": null,
      "metadata": {
        "id": "VGHOfUqLkxle"
      },
      "outputs": [],
      "source": [
        "df.iloc[1]"
      ]
    },
    {
      "cell_type": "markdown",
      "metadata": {
        "id": "emHO1CEGliI8"
      },
      "source": [
        "#### Now will `iloc` also consider the range inclusive?"
      ]
    },
    {
      "cell_type": "code",
      "execution_count": null,
      "metadata": {
        "id": "kV3gPk7Akz2J"
      },
      "outputs": [],
      "source": [
        "df.iloc[0:2]"
      ]
    },
    {
      "cell_type": "markdown",
      "metadata": {
        "id": "a435f5ab"
      },
      "source": [
        "**NO**\n",
        "\n",
        "Because **`iloc` works with implicit Python-style indices**\n",
        "\n",
        "\n",
        "\n"
      ]
    },
    {
      "cell_type": "markdown",
      "source": [
        "#### It is important to know about these conceptual differences\n",
        "\n",
        "Not just b/w `loc` and `iloc`, but in general while working in DS and ML"
      ],
      "metadata": {
        "id": "7jQCdb4OBcar"
      }
    },
    {
      "cell_type": "markdown",
      "metadata": {
        "id": "g_pNv2Cmk7Nd"
      },
      "source": [
        "#### Which one should we use ?\n",
        "  - Generally explicit indexing is considered to be better than implicit\n",
        "  - But it is recommended to always use both loc and iloc to avoid any confusions"
      ]
    },
    {
      "cell_type": "markdown",
      "metadata": {
        "id": "d6b373d6"
      },
      "source": [
        "#### What if we want to access multiple non-consecutive rows at same time ?\n",
        "\n",
        "For eg: rows 1, 10, 100\n"
      ]
    },
    {
      "cell_type": "code",
      "execution_count": null,
      "metadata": {
        "id": "2a8b28ba"
      },
      "outputs": [],
      "source": [
        "df.iloc[[1, 10, 100]]"
      ]
    },
    {
      "cell_type": "markdown",
      "source": [
        "As we see, We can just **pack the indices in `[]`** and pass it in `loc` or `iloc`"
      ],
      "metadata": {
        "id": "l8NHFVD6pX0D"
      }
    },
    {
      "cell_type": "markdown",
      "metadata": {
        "id": "119dc9fd"
      },
      "source": [
        "#### What about negative index?\n",
        "\n",
        "#### Which would work between `iloc` and `loc`?"
      ]
    },
    {
      "cell_type": "code",
      "execution_count": null,
      "metadata": {
        "id": "53c8c073"
      },
      "outputs": [],
      "source": [
        "df.iloc[-1]\n",
        "\n",
        "# Works and gives last row in dataframe"
      ]
    },
    {
      "cell_type": "code",
      "execution_count": null,
      "metadata": {
        "id": "9180ffd6",
        "scrolled": true
      },
      "outputs": [],
      "source": [
        "df.loc[-1]\n",
        "\n",
        "# Does NOT work"
      ]
    },
    {
      "cell_type": "markdown",
      "metadata": {
        "id": "2b3294e7"
      },
      "source": [
        "#### So, why did `iloc[-1]` worked, but `loc[-1]` didn't?\n",
        "\n",
        "- Because **`iloc` works with positional indices, while `loc` with assigned labels**\n",
        "- [-1] here points to the **row at last position** in iloc\n"
      ]
    },
    {
      "cell_type": "markdown",
      "metadata": {
        "id": "gOGpECFWgJsH"
      },
      "source": [
        "#### Can we use one of the columns as row index?"
      ]
    },
    {
      "cell_type": "code",
      "execution_count": null,
      "metadata": {
        "id": "HwHjYd5Rgwnl"
      },
      "outputs": [],
      "source": [
        "temp = df.set_index(\"Country\")\n",
        "temp"
      ]
    },
    {
      "cell_type": "markdown",
      "metadata": {
        "id": "qgDNwkrgf4El"
      },
      "source": [
        "#### Now what would the row corresponding to index `Afghanistan` give?"
      ]
    },
    {
      "cell_type": "code",
      "execution_count": null,
      "metadata": {
        "id": "Wni76OJZge2M"
      },
      "outputs": [],
      "source": [
        "temp.loc['Afghanistan']"
      ]
    },
    {
      "cell_type": "markdown",
      "metadata": {
        "id": "SD5yVmgygxqj"
      },
      "source": [
        "As you can see we got the rows all having index `Afghanistan`"
      ]
    },
    {
      "cell_type": "markdown",
      "source": [
        "Generally it is advisable to keep unique indices, but it is also use-case dependent"
      ],
      "metadata": {
        "id": "-Uz6zK98Pp_n"
      }
    },
    {
      "cell_type": "markdown",
      "metadata": {
        "id": "-hN3euqLVjB6"
      },
      "source": [
        "### Now how can we add a row to our dataframe?\n",
        "\n",
        "There are multiple ways to do this:\n",
        "\n",
        "- `append()`\n",
        "- `loc/iloc`\n",
        "\n",
        "#### How can we do add a row using the **append()** method?\n",
        "\n"
      ]
    },
    {
      "cell_type": "code",
      "execution_count": null,
      "metadata": {
        "id": "bIUaXbuwWOpA"
      },
      "outputs": [],
      "source": [
        "new_row = {'Country': 'India', 'year': 2000,'life_exp':37.08,'population':13500000,'gdp_cap':900.23}\n",
        "df.append(new_row)"
      ]
    },
    {
      "cell_type": "markdown",
      "source": [
        "Why are we getting an error here?\n",
        "\n",
        "Its' saying the `ignore_index()` parameter needs to be set to True"
      ],
      "metadata": {
        "id": "3pDLW19MqHwZ"
      }
    },
    {
      "cell_type": "code",
      "source": [
        "new_row = {'Country': 'India', 'year': 2000,'life_exp':37.08,'population':13500000,'gdp_cap':900.23}\n",
        "df = df.append(new_row, ignore_index=True)\n",
        "df"
      ],
      "metadata": {
        "id": "CG_LTYFNqR2p"
      },
      "execution_count": null,
      "outputs": []
    },
    {
      "cell_type": "markdown",
      "metadata": {
        "id": "v44DpSsuX11Z"
      },
      "source": [
        "Perfect! So now our row is added at the bottom of the dataframe\n",
        "\n",
        "\n",
        "**But Please Note that:**\n",
        "\n",
        "- `append()` doesn't mutate the the dataframe.\n",
        "\n",
        "- It does not change the DataFrame, but returns a new DataFrame with the row appended."
      ]
    },
    {
      "cell_type": "markdown",
      "metadata": {
        "id": "P6xzAeBTX0bu"
      },
      "source": [
        "Another method would be by **using loc:**\n",
        "\n",
        "We will need to provide the position at which we will add the new row\n",
        "\n",
        "#### What do you think this positional value would be?\n",
        "\n"
      ]
    },
    {
      "cell_type": "code",
      "execution_count": null,
      "metadata": {
        "id": "LbyZbS6-9eaA"
      },
      "outputs": [],
      "source": [
        "df.loc[len(df.index)] = ['India',2000 ,13500000,37.08,900.23]  # len(df.index) since we will add at the last row"
      ]
    },
    {
      "cell_type": "code",
      "execution_count": null,
      "metadata": {
        "id": "gd-Ak65TANdx"
      },
      "outputs": [],
      "source": [
        "df"
      ]
    },
    {
      "cell_type": "markdown",
      "metadata": {
        "id": "OvMjunClCHJh"
      },
      "source": [
        "The new row was added but the data has been duplicated\n",
        "\n",
        "####What you can infer from last two duplicate rows ?\n",
        "\n",
        "Dataframe allow us to feed duplicate rows in the data"
      ]
    },
    {
      "cell_type": "markdown",
      "metadata": {
        "id": "UDzPKS1M_Tjm"
      },
      "source": [
        "####Now, can we also **use iloc**?\n",
        "\n",
        "Adding a row at a specific index position will replace the existing row at that position."
      ]
    },
    {
      "cell_type": "code",
      "source": [
        "df.iloc[len(df.index)-1] = ['India', 2000,13500000,37.08,900.23] \n",
        "df"
      ],
      "metadata": {
        "id": "ft9UFeVoZAjc"
      },
      "execution_count": null,
      "outputs": []
    },
    {
      "cell_type": "markdown",
      "source": [
        "#### What if we try to add the row with a new index?"
      ],
      "metadata": {
        "id": "8Smeb2lJZKmA"
      }
    },
    {
      "cell_type": "code",
      "execution_count": null,
      "metadata": {
        "id": "xjelf0yp_s4P"
      },
      "outputs": [],
      "source": [
        "df.iloc[len(df.index)] = ['India', 2000,13500000,37.08,900.23] "
      ]
    },
    {
      "cell_type": "markdown",
      "metadata": {
        "id": "OG4H-4PcBqz1"
      },
      "source": [
        "####Why we are getting error ?\n",
        "\n",
        "For using iloc to add a row, the dataframe must already have a row in that position. \n",
        "\n",
        "If a row is not available, you’ll see this IndexError\n",
        "\n",
        "\n",
        "**Please Note:**\n",
        "\n",
        "* When using the `loc[]` attribute, it’s not mandatory that a row already exists with a specific label. \n",
        "\n"
      ]
    },
    {
      "cell_type": "markdown",
      "metadata": {
        "id": "cb0a2bc3"
      },
      "source": [
        "### Now what if we want to delete a row ?"
      ]
    },
    {
      "cell_type": "markdown",
      "source": [
        "Use df.drop()\n",
        "\n",
        "If you remember we specified axis=1 for columns\n",
        "\n",
        "We can modify this for rows\n",
        "- We can use `axis=0` for rows\n",
        "\n",
        "#### Does `drop()` method uses positional indices or labels?\n",
        "\n",
        "#### What do you think by looking at code for deleting column?\n",
        "\n",
        "- We had to specify column title\n",
        "\n",
        "- So **`drop()` uses labels**, NOT positional indices"
      ],
      "metadata": {
        "id": "vNN2HT9DvTmk"
      }
    },
    {
      "cell_type": "code",
      "execution_count": null,
      "metadata": {
        "id": "4542e992"
      },
      "outputs": [],
      "source": [
        "# Let's drop row with label 3\n",
        "df = df.drop(3, axis=0)\n",
        "df"
      ]
    },
    {
      "cell_type": "markdown",
      "metadata": {
        "id": "0cb942e6"
      },
      "source": [
        "Now we see that **row with label 3 is deleted**\n",
        "\n",
        "We now have **rows with labels 0, 1, 2, 4, 5, ...**\n",
        "\n",
        "#### Now `df.loc[4]` and `df.iloc[4]` will give different rows"
      ]
    },
    {
      "cell_type": "code",
      "execution_count": null,
      "metadata": {
        "id": "b3f2105f"
      },
      "outputs": [],
      "source": [
        "df.loc[4] # The 4th row is printed"
      ]
    },
    {
      "cell_type": "code",
      "execution_count": null,
      "metadata": {
        "id": "81659cf8",
        "scrolled": true
      },
      "outputs": [],
      "source": [
        "df.iloc[4] # The 5th row is printed"
      ]
    },
    {
      "cell_type": "markdown",
      "source": [
        "#### And hww can we drop multiple rows?"
      ],
      "metadata": {
        "id": "y5n2aKZnA7Ej"
      }
    },
    {
      "cell_type": "code",
      "source": [
        "df.drop([1, 2, 4], axis=0) # drops rows with labels 1, 2, 4"
      ],
      "metadata": {
        "id": "Zpnxq0fNI67c"
      },
      "execution_count": null,
      "outputs": []
    },
    {
      "cell_type": "markdown",
      "source": [
        "Let's reset our indices now"
      ],
      "metadata": {
        "id": "bhbcIuFvvtm_"
      }
    },
    {
      "cell_type": "code",
      "source": [
        "df.reset_index(drop=True,inplace=True) # Since we removed a row earlier, we reset our indices"
      ],
      "metadata": {
        "id": "zaJUH3FJbRVa"
      },
      "execution_count": null,
      "outputs": []
    },
    {
      "cell_type": "markdown",
      "metadata": {
        "id": "rSPjTVgwAP0Q"
      },
      "source": [
        "Now if you remember, the last two rows were duplicates.\n",
        "\n",
        "### How can we deal with these duplicate rows?\n",
        "\n",
        "Let's create some more duplicate rows to understand this\n",
        "\n"
      ]
    },
    {
      "cell_type": "code",
      "source": [
        "df.loc[len(df.index)] = ['India',2000,13500000,37.08,900.23] \n",
        "df.loc[len(df.index)] = ['Sri Lanka',2022 ,130000000,80.00,500.00] \n",
        "df.loc[len(df.index)] = ['Sri Lanka',2022 ,130000000,80.00,500.00] \n",
        "df.loc[len(df.index)] = ['India',2000 ,13500000,80.00,900.23] \n",
        "df"
      ],
      "metadata": {
        "id": "osuxujav0pmG"
      },
      "execution_count": null,
      "outputs": []
    },
    {
      "cell_type": "markdown",
      "source": [
        "#### Now how can we check for duplicate rows?\n",
        "\n",
        "Use `duplicated()` method on the DataFrame\n"
      ],
      "metadata": {
        "id": "rh6-Tx5i0uck"
      }
    },
    {
      "cell_type": "code",
      "execution_count": null,
      "metadata": {
        "id": "IzsXLBVghl0b"
      },
      "outputs": [],
      "source": [
        "df.duplicated()"
      ]
    },
    {
      "cell_type": "markdown",
      "source": [
        "\n",
        "It outputs True if an entire row is identical to a previous row."
      ],
      "metadata": {
        "id": "eodcI8mZr2Br"
      }
    },
    {
      "cell_type": "markdown",
      "metadata": {
        "id": "7um1UEQThvqH"
      },
      "source": [
        "However, it is not practical to see a list of True and False\n",
        "\n",
        "We can Pandas `loc` data selector to extract those duplicate rows"
      ]
    },
    {
      "cell_type": "code",
      "execution_count": null,
      "metadata": {
        "id": "Zlaoa2LZfJVE"
      },
      "outputs": [],
      "source": [
        "# Extract duplicate rows\n",
        "df.loc[df.duplicated(), :]"
      ]
    },
    {
      "cell_type": "markdown",
      "metadata": {
        "id": "Ug2nrZndhNxm"
      },
      "source": [
        "The first argument **df.duplicated()** will find the duplicate rows\n",
        "\n",
        "The second argument `:` will display all columns"
      ]
    },
    {
      "cell_type": "markdown",
      "metadata": {
        "id": "_ACoKT7sfINn"
      },
      "source": [
        "#### Now how can we remove these **duplicate rows** ?\n",
        "\n",
        "We can use `drop_duplicates()` of Pandas for this\n",
        "\n"
      ]
    },
    {
      "cell_type": "code",
      "source": [
        "df.drop_duplicates()"
      ],
      "metadata": {
        "id": "iY5FtTRgwLYw"
      },
      "execution_count": null,
      "outputs": []
    },
    {
      "cell_type": "markdown",
      "source": [
        "#### But how can we decide among all duplicate rows which ones we want to keep ?\n",
        "\n",
        "Here we can use argument **keep**: \n",
        "\n",
        "This Controls how to consider duplicate value. \n",
        "\n",
        "It has only three distinct value \n",
        "- `first`\n",
        "- `last`\n",
        "- `False`\n",
        "\n",
        "The default is ‘first’. \n",
        "\n",
        "If `first`, this considers first value as unique and rest of the same values as duplicate."
      ],
      "metadata": {
        "id": "lsDiMbBZwIF6"
      }
    },
    {
      "cell_type": "code",
      "source": [
        "df.drop_duplicates(keep='first')"
      ],
      "metadata": {
        "id": "4ewSRw6q3Is4"
      },
      "execution_count": null,
      "outputs": []
    },
    {
      "cell_type": "markdown",
      "source": [
        "If `last`, This considers last value as unique and rest of the same values as duplicate."
      ],
      "metadata": {
        "id": "wzyPesPMwh0q"
      }
    },
    {
      "cell_type": "code",
      "source": [
        "df.drop_duplicates(keep='last')"
      ],
      "metadata": {
        "id": "cbrtswel3MrN"
      },
      "execution_count": null,
      "outputs": []
    },
    {
      "cell_type": "markdown",
      "source": [
        "If `False`, this considers all of the same values as duplicates."
      ],
      "metadata": {
        "id": "Lj5pjy0KwjzR"
      }
    },
    {
      "cell_type": "code",
      "source": [
        "df.drop_duplicates(keep=False)"
      ],
      "metadata": {
        "id": "RrG6WYM23Qbj"
      },
      "execution_count": null,
      "outputs": []
    },
    {
      "cell_type": "markdown",
      "metadata": {
        "id": "0X4x-jUGIz5x"
      },
      "source": [
        "#### What if you want to look for duplicacy only for a few columns?\n",
        "\n",
        "We can use the argument subset to mention the list of columns which we want to use."
      ]
    },
    {
      "cell_type": "code",
      "source": [
        "df.drop_duplicates(subset=['Country'],keep='first')"
      ],
      "metadata": {
        "id": "WQduvjgloI6p"
      },
      "execution_count": null,
      "outputs": []
    }
  ]
}