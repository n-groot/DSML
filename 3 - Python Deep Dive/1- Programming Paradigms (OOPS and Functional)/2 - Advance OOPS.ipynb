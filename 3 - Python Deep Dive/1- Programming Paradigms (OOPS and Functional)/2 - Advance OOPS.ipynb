{
 "cells": [
  {
   "cell_type": "code",
   "execution_count": 1,
   "id": "97b3b5c1",
   "metadata": {},
   "outputs": [],
   "source": [
    "class A:\n",
    "    def __init__(self, a, b):\n",
    "        self.a = a\n",
    "        self.b = b"
   ]
  },
  {
   "cell_type": "code",
   "execution_count": 3,
   "id": "f33c0373",
   "metadata": {},
   "outputs": [],
   "source": [
    "# Dunders - Magic Methods"
   ]
  },
  {
   "cell_type": "code",
   "execution_count": 9,
   "id": "79e80ecc",
   "metadata": {},
   "outputs": [],
   "source": [
    "class Car:\n",
    "    def __init__(self, name, milaege):\n",
    "        self.name = name\n",
    "        self.milaege = milaege"
   ]
  },
  {
   "cell_type": "code",
   "execution_count": 10,
   "id": "2755f120",
   "metadata": {},
   "outputs": [],
   "source": [
    "c1 = Car(\"Nexon\", 12)\n",
    "c2 = Car(\"Altroz\", 15)"
   ]
  },
  {
   "cell_type": "code",
   "execution_count": 11,
   "id": "522573ab",
   "metadata": {},
   "outputs": [
    {
     "name": "stdout",
     "output_type": "stream",
     "text": [
      "<__main__.Car object at 0x7fc3108d5610>\n"
     ]
    }
   ],
   "source": [
    "print(c1)\n",
    "# Name -> Milaege"
   ]
  },
  {
   "cell_type": "code",
   "execution_count": 12,
   "id": "945ac5e2",
   "metadata": {},
   "outputs": [
    {
     "name": "stdout",
     "output_type": "stream",
     "text": [
      "<function random at 0x7fc31045b5e0>\n"
     ]
    }
   ],
   "source": [
    "def random():\n",
    "    return \"random\"\n",
    "\n",
    "print(random)"
   ]
  },
  {
   "cell_type": "code",
   "execution_count": 13,
   "id": "9ca5218e",
   "metadata": {},
   "outputs": [],
   "source": [
    "# Printing is a behaviour in python\n",
    "# We are going to tweak that behaviour (customize) for objects of our custom class"
   ]
  },
  {
   "cell_type": "code",
   "execution_count": 47,
   "id": "73bcd1d1",
   "metadata": {},
   "outputs": [],
   "source": [
    "class Car:\n",
    "    def __init__(self, name, milaege):\n",
    "        self.name = name\n",
    "        self.milaege = milaege\n",
    "    \n",
    "    # whenever an object is printed\n",
    "    def __str__(self):\n",
    "        return f\"{self.name} -> {self.milaege}\"\n",
    "    \n",
    "    def __add__(self, other):\n",
    "        return self.milaege + other.milaege\n",
    "    \n",
    "    def __lt__(self, other):\n",
    "        return self.milaege < other.milaege\n",
    "    \n",
    "    def __call__(self):\n",
    "        print(\"I WAS CALLED\")"
   ]
  },
  {
   "cell_type": "code",
   "execution_count": 48,
   "id": "d9906256",
   "metadata": {},
   "outputs": [],
   "source": [
    "c1 = Car(\"Nexon\", 12)\n",
    "c2 = Car(\"Altroz\", 15)"
   ]
  },
  {
   "cell_type": "code",
   "execution_count": 49,
   "id": "0929f914",
   "metadata": {},
   "outputs": [
    {
     "name": "stdout",
     "output_type": "stream",
     "text": [
      "Nexon -> 12\n"
     ]
    }
   ],
   "source": [
    "print(c1)"
   ]
  },
  {
   "cell_type": "code",
   "execution_count": 50,
   "id": "e21e089a",
   "metadata": {},
   "outputs": [
    {
     "data": {
      "text/plain": [
       "27"
      ]
     },
     "execution_count": 50,
     "metadata": {},
     "output_type": "execute_result"
    }
   ],
   "source": [
    "c1 + c2\n",
    "# Car.__add__(c1, c2)"
   ]
  },
  {
   "cell_type": "code",
   "execution_count": 51,
   "id": "a10b46d4",
   "metadata": {},
   "outputs": [],
   "source": [
    "# HOMEWORK - \n",
    "# Use this add method to add 3 cars"
   ]
  },
  {
   "cell_type": "code",
   "execution_count": 52,
   "id": "d620ed4d",
   "metadata": {},
   "outputs": [],
   "source": [
    "# c1 + c2 + Car(\"BMW\", 10)"
   ]
  },
  {
   "cell_type": "code",
   "execution_count": 53,
   "id": "cea242e3",
   "metadata": {},
   "outputs": [
    {
     "data": {
      "text/plain": [
       "True"
      ]
     },
     "execution_count": 53,
     "metadata": {},
     "output_type": "execute_result"
    }
   ],
   "source": [
    "c1 < c2"
   ]
  },
  {
   "cell_type": "code",
   "execution_count": 54,
   "id": "dc4191a3",
   "metadata": {},
   "outputs": [
    {
     "name": "stdout",
     "output_type": "stream",
     "text": [
      "I WAS CALLED\n"
     ]
    }
   ],
   "source": [
    "c1()"
   ]
  },
  {
   "cell_type": "code",
   "execution_count": 55,
   "id": "34df7a06",
   "metadata": {},
   "outputs": [
    {
     "name": "stdout",
     "output_type": "stream",
     "text": [
      "I WAS CALLED\n"
     ]
    }
   ],
   "source": [
    "c2()"
   ]
  },
  {
   "cell_type": "code",
   "execution_count": 56,
   "id": "a2202f35",
   "metadata": {},
   "outputs": [],
   "source": [
    "# Start class names with capital lettes or we use camel case\n",
    "class SchoolMember:\n",
    "    def __init__(self, name):\n",
    "        self.name = name\n",
    "        \n",
    "class Student(SchoolMember):\n",
    "    def __init__(self, name, grade):\n",
    "        self.grade = grade\n",
    "        \n",
    "class Staff(SchoolMember):\n",
    "    def __init__(self, name, salary):\n",
    "        self.salary = salary\n",
    "        \n",
    "class Teacher(Staff):\n",
    "    def __init__(self, name, salary, subject):\n",
    "        self.subject = subject"
   ]
  },
  {
   "cell_type": "code",
   "execution_count": 57,
   "id": "af6df740",
   "metadata": {},
   "outputs": [],
   "source": [
    "s1 = Student(\"Krishna\", \"A\")"
   ]
  },
  {
   "cell_type": "code",
   "execution_count": 58,
   "id": "e96d170d",
   "metadata": {},
   "outputs": [
    {
     "data": {
      "text/plain": [
       "__main__.Student"
      ]
     },
     "execution_count": 58,
     "metadata": {},
     "output_type": "execute_result"
    }
   ],
   "source": [
    "type(s1)"
   ]
  },
  {
   "cell_type": "code",
   "execution_count": 59,
   "id": "503ef92b",
   "metadata": {},
   "outputs": [
    {
     "data": {
      "text/plain": [
       "'A'"
      ]
     },
     "execution_count": 59,
     "metadata": {},
     "output_type": "execute_result"
    }
   ],
   "source": [
    "s1.grade"
   ]
  },
  {
   "cell_type": "code",
   "execution_count": 60,
   "id": "0236ae3b",
   "metadata": {},
   "outputs": [
    {
     "ename": "AttributeError",
     "evalue": "'Student' object has no attribute 'name'",
     "output_type": "error",
     "traceback": [
      "\u001b[0;31m---------------------------------------------------------------------------\u001b[0m",
      "\u001b[0;31mAttributeError\u001b[0m                            Traceback (most recent call last)",
      "\u001b[0;32m/var/folders/nn/c52y0d3j0gq59dpsswchkt2r0000gn/T/ipykernel_16651/2835019485.py\u001b[0m in \u001b[0;36m<module>\u001b[0;34m\u001b[0m\n\u001b[0;32m----> 1\u001b[0;31m \u001b[0ms1\u001b[0m\u001b[0;34m.\u001b[0m\u001b[0mname\u001b[0m\u001b[0;34m\u001b[0m\u001b[0;34m\u001b[0m\u001b[0m\n\u001b[0m",
      "\u001b[0;31mAttributeError\u001b[0m: 'Student' object has no attribute 'name'"
     ]
    }
   ],
   "source": [
    "s1.name"
   ]
  },
  {
   "cell_type": "code",
   "execution_count": 61,
   "id": "fc73d17e",
   "metadata": {},
   "outputs": [],
   "source": [
    "class A:\n",
    "    def __init__(self, a, b):\n",
    "        self.a = a\n",
    "        self.b = b"
   ]
  },
  {
   "cell_type": "code",
   "execution_count": 62,
   "id": "d4e50353",
   "metadata": {},
   "outputs": [
    {
     "ename": "TypeError",
     "evalue": "__init__() missing 2 required positional arguments: 'a' and 'b'",
     "output_type": "error",
     "traceback": [
      "\u001b[0;31m---------------------------------------------------------------------------\u001b[0m",
      "\u001b[0;31mTypeError\u001b[0m                                 Traceback (most recent call last)",
      "\u001b[0;32m/var/folders/nn/c52y0d3j0gq59dpsswchkt2r0000gn/T/ipykernel_16651/1934065993.py\u001b[0m in \u001b[0;36m<module>\u001b[0;34m\u001b[0m\n\u001b[0;32m----> 1\u001b[0;31m \u001b[0ma\u001b[0m \u001b[0;34m=\u001b[0m \u001b[0mA\u001b[0m\u001b[0;34m(\u001b[0m\u001b[0;34m)\u001b[0m\u001b[0;34m\u001b[0m\u001b[0;34m\u001b[0m\u001b[0m\n\u001b[0m",
      "\u001b[0;31mTypeError\u001b[0m: __init__() missing 2 required positional arguments: 'a' and 'b'"
     ]
    }
   ],
   "source": [
    "a = A()"
   ]
  },
  {
   "cell_type": "code",
   "execution_count": 71,
   "id": "ae0e5301",
   "metadata": {},
   "outputs": [],
   "source": [
    "# Start class names with capital lettes or we use camel case\n",
    "class SchoolMember:\n",
    "    def __init__(self, name):\n",
    "        self.name = name\n",
    "        \n",
    "class Student(SchoolMember):\n",
    "    def __init__(self, name, grade):\n",
    "        # SchoolMember.__init__(self, name)\n",
    "        super().__init__(name)\n",
    "        # super automatically corresponds to the direct parent class\n",
    "        self.grade = grade\n",
    "        \n",
    "class Staff(SchoolMember):\n",
    "    def __init__(self, name, salary):\n",
    "        super().__init__(name)\n",
    "        self.salary = salary\n",
    "        \n",
    "class Teacher(Staff):\n",
    "    def __init__(self, name, salary, subject):\n",
    "        super().__init__(name, salary)\n",
    "        self.subject = subject"
   ]
  },
  {
   "cell_type": "code",
   "execution_count": 72,
   "id": "16eca875",
   "metadata": {},
   "outputs": [],
   "source": [
    "s1 = Student(\"Sharath\", \"A\")"
   ]
  },
  {
   "cell_type": "code",
   "execution_count": 73,
   "id": "b022d918",
   "metadata": {},
   "outputs": [
    {
     "data": {
      "text/plain": [
       "'A'"
      ]
     },
     "execution_count": 73,
     "metadata": {},
     "output_type": "execute_result"
    }
   ],
   "source": [
    "s1.grade"
   ]
  },
  {
   "cell_type": "code",
   "execution_count": 74,
   "id": "0d326db6",
   "metadata": {},
   "outputs": [],
   "source": [
    "s1.name = \"Random\""
   ]
  },
  {
   "cell_type": "code",
   "execution_count": 70,
   "id": "7abf3ef7",
   "metadata": {},
   "outputs": [
    {
     "data": {
      "text/plain": [
       "'Random'"
      ]
     },
     "execution_count": 70,
     "metadata": {},
     "output_type": "execute_result"
    }
   ],
   "source": [
    "s1.name"
   ]
  },
  {
   "cell_type": "code",
   "execution_count": 75,
   "id": "5f4f2f44",
   "metadata": {},
   "outputs": [],
   "source": [
    "t1 = Teacher(\"Bipin\", 10, \"Python\")"
   ]
  },
  {
   "cell_type": "code",
   "execution_count": 76,
   "id": "83115cd6",
   "metadata": {},
   "outputs": [
    {
     "data": {
      "text/plain": [
       "'Bipin'"
      ]
     },
     "execution_count": 76,
     "metadata": {},
     "output_type": "execute_result"
    }
   ],
   "source": [
    "t1.name"
   ]
  },
  {
   "cell_type": "code",
   "execution_count": 77,
   "id": "310da9ac",
   "metadata": {},
   "outputs": [
    {
     "data": {
      "text/plain": [
       "10"
      ]
     },
     "execution_count": 77,
     "metadata": {},
     "output_type": "execute_result"
    }
   ],
   "source": [
    "t1.salary"
   ]
  },
  {
   "cell_type": "code",
   "execution_count": 78,
   "id": "ff37f2b0",
   "metadata": {},
   "outputs": [
    {
     "data": {
      "text/plain": [
       "'Python'"
      ]
     },
     "execution_count": 78,
     "metadata": {},
     "output_type": "execute_result"
    }
   ],
   "source": [
    "t1.subject"
   ]
  },
  {
   "cell_type": "code",
   "execution_count": 7,
   "id": "fd93e540",
   "metadata": {},
   "outputs": [],
   "source": [
    "class BankAccount:\n",
    "    def __init__(self, balance):\n",
    "        self.balance = balance\n",
    "        \n",
    "    def withdrawl(self, amount):\n",
    "        self.balance -= amount\n",
    "        \n",
    "    def deposit(self, amount):\n",
    "        self.balance += amount"
   ]
  },
  {
   "cell_type": "code",
   "execution_count": 8,
   "id": "2fc85dcb",
   "metadata": {},
   "outputs": [],
   "source": [
    "b1 = BankAccount(10000)"
   ]
  },
  {
   "cell_type": "code",
   "execution_count": 9,
   "id": "f7f3c232",
   "metadata": {},
   "outputs": [],
   "source": [
    "b1.deposit(5000)"
   ]
  },
  {
   "cell_type": "code",
   "execution_count": 10,
   "id": "5a47873c",
   "metadata": {},
   "outputs": [
    {
     "data": {
      "text/plain": [
       "15000"
      ]
     },
     "execution_count": 10,
     "metadata": {},
     "output_type": "execute_result"
    }
   ],
   "source": [
    "b1.balance"
   ]
  },
  {
   "cell_type": "code",
   "execution_count": 11,
   "id": "bdf090b1",
   "metadata": {},
   "outputs": [],
   "source": [
    "b1.withdrawl(15000)"
   ]
  },
  {
   "cell_type": "code",
   "execution_count": 12,
   "id": "18898905",
   "metadata": {},
   "outputs": [
    {
     "data": {
      "text/plain": [
       "0"
      ]
     },
     "execution_count": 12,
     "metadata": {},
     "output_type": "execute_result"
    }
   ],
   "source": [
    "b1.balance"
   ]
  },
  {
   "cell_type": "code",
   "execution_count": 13,
   "id": "e47382cd",
   "metadata": {},
   "outputs": [],
   "source": [
    "b1.balance = 23456789854323456789987654345678909876543"
   ]
  },
  {
   "cell_type": "code",
   "execution_count": 14,
   "id": "382d6c2c",
   "metadata": {},
   "outputs": [
    {
     "data": {
      "text/plain": [
       "23456789854323456789987654345678909876543"
      ]
     },
     "execution_count": 14,
     "metadata": {},
     "output_type": "execute_result"
    }
   ],
   "source": [
    "b1.balance"
   ]
  },
  {
   "cell_type": "code",
   "execution_count": 15,
   "id": "43074178",
   "metadata": {},
   "outputs": [],
   "source": [
    "# Private Properties\n",
    "# - will be accessible within the class\n",
    "# - will not be accessible outside the class definition\n"
   ]
  },
  {
   "cell_type": "code",
   "execution_count": 25,
   "id": "446a1fea",
   "metadata": {},
   "outputs": [],
   "source": [
    "class BankAccount:\n",
    "    def __init__(self, balance):\n",
    "        self.__balance = balance\n",
    "        \n",
    "    # Setter\n",
    "    def withdraw(self, amount):\n",
    "        self.__balance -= amount\n",
    "        \n",
    "    def deposit(self, amount):\n",
    "        self.__balance += amount\n",
    "        \n",
    "    # Getter\n",
    "    def check_balance(self):\n",
    "        return self.__balance"
   ]
  },
  {
   "cell_type": "code",
   "execution_count": 26,
   "id": "bf40ac57",
   "metadata": {},
   "outputs": [],
   "source": [
    "b1 = BankAccount(10000)"
   ]
  },
  {
   "cell_type": "code",
   "execution_count": 27,
   "id": "ec86fbd5",
   "metadata": {},
   "outputs": [
    {
     "ename": "AttributeError",
     "evalue": "'BankAccount' object has no attribute '__balance'",
     "output_type": "error",
     "traceback": [
      "\u001b[0;31m---------------------------------------------------------------------------\u001b[0m",
      "\u001b[0;31mAttributeError\u001b[0m                            Traceback (most recent call last)",
      "\u001b[0;32m/var/folders/nn/c52y0d3j0gq59dpsswchkt2r0000gn/T/ipykernel_17375/2775405839.py\u001b[0m in \u001b[0;36m<module>\u001b[0;34m\u001b[0m\n\u001b[0;32m----> 1\u001b[0;31m \u001b[0mb1\u001b[0m\u001b[0;34m.\u001b[0m\u001b[0m__balance\u001b[0m\u001b[0;34m\u001b[0m\u001b[0;34m\u001b[0m\u001b[0m\n\u001b[0m",
      "\u001b[0;31mAttributeError\u001b[0m: 'BankAccount' object has no attribute '__balance'"
     ]
    }
   ],
   "source": [
    "b1.__balance"
   ]
  },
  {
   "cell_type": "code",
   "execution_count": 28,
   "id": "609a34ab",
   "metadata": {},
   "outputs": [],
   "source": [
    "b1.deposit(10000)"
   ]
  },
  {
   "cell_type": "code",
   "execution_count": 29,
   "id": "65d29d5d",
   "metadata": {},
   "outputs": [],
   "source": [
    "b1.withdraw(5000)"
   ]
  },
  {
   "cell_type": "code",
   "execution_count": 30,
   "id": "c346b38c",
   "metadata": {},
   "outputs": [
    {
     "data": {
      "text/plain": [
       "15000"
      ]
     },
     "execution_count": 30,
     "metadata": {},
     "output_type": "execute_result"
    }
   ],
   "source": [
    "b1.check_balance()"
   ]
  },
  {
   "cell_type": "code",
   "execution_count": null,
   "id": "d64d8d45",
   "metadata": {},
   "outputs": [],
   "source": [
    "b1.__balance"
   ]
  },
  {
   "cell_type": "code",
   "execution_count": 37,
   "id": "85424e93",
   "metadata": {},
   "outputs": [],
   "source": [
    "b1._BankAccount__balance = 159854568765456789876545678765678\n",
    "# Name Mangling"
   ]
  },
  {
   "cell_type": "code",
   "execution_count": 33,
   "id": "3d31b46f",
   "metadata": {},
   "outputs": [
    {
     "data": {
      "text/plain": [
       "159854568765456789876545678765678"
      ]
     },
     "execution_count": 33,
     "metadata": {},
     "output_type": "execute_result"
    }
   ],
   "source": [
    "b1.check_balance()"
   ]
  },
  {
   "cell_type": "code",
   "execution_count": 34,
   "id": "aa981a26",
   "metadata": {},
   "outputs": [
    {
     "data": {
      "text/plain": [
       "['_BankAccount__balance',\n",
       " '__class__',\n",
       " '__delattr__',\n",
       " '__dict__',\n",
       " '__dir__',\n",
       " '__doc__',\n",
       " '__eq__',\n",
       " '__format__',\n",
       " '__ge__',\n",
       " '__getattribute__',\n",
       " '__gt__',\n",
       " '__hash__',\n",
       " '__init__',\n",
       " '__init_subclass__',\n",
       " '__le__',\n",
       " '__lt__',\n",
       " '__module__',\n",
       " '__ne__',\n",
       " '__new__',\n",
       " '__reduce__',\n",
       " '__reduce_ex__',\n",
       " '__repr__',\n",
       " '__setattr__',\n",
       " '__sizeof__',\n",
       " '__str__',\n",
       " '__subclasshook__',\n",
       " '__weakref__',\n",
       " 'check_balance',\n",
       " 'deposit',\n",
       " 'withdraw']"
      ]
     },
     "execution_count": 34,
     "metadata": {},
     "output_type": "execute_result"
    }
   ],
   "source": [
    "dir(b1)"
   ]
  },
  {
   "cell_type": "code",
   "execution_count": 35,
   "id": "938da6b3",
   "metadata": {},
   "outputs": [],
   "source": [
    "b1.__balance = \"random balance\""
   ]
  },
  {
   "cell_type": "code",
   "execution_count": 36,
   "id": "f0b6bec3",
   "metadata": {},
   "outputs": [
    {
     "data": {
      "text/plain": [
       "['_BankAccount__balance',\n",
       " '__balance',\n",
       " '__class__',\n",
       " '__delattr__',\n",
       " '__dict__',\n",
       " '__dir__',\n",
       " '__doc__',\n",
       " '__eq__',\n",
       " '__format__',\n",
       " '__ge__',\n",
       " '__getattribute__',\n",
       " '__gt__',\n",
       " '__hash__',\n",
       " '__init__',\n",
       " '__init_subclass__',\n",
       " '__le__',\n",
       " '__lt__',\n",
       " '__module__',\n",
       " '__ne__',\n",
       " '__new__',\n",
       " '__reduce__',\n",
       " '__reduce_ex__',\n",
       " '__repr__',\n",
       " '__setattr__',\n",
       " '__sizeof__',\n",
       " '__str__',\n",
       " '__subclasshook__',\n",
       " '__weakref__',\n",
       " 'check_balance',\n",
       " 'deposit',\n",
       " 'withdraw']"
      ]
     },
     "execution_count": 36,
     "metadata": {},
     "output_type": "execute_result"
    }
   ],
   "source": [
    "dir(b1)"
   ]
  },
  {
   "cell_type": "code",
   "execution_count": 41,
   "id": "ea9ea616",
   "metadata": {},
   "outputs": [
    {
     "name": "stdout",
     "output_type": "stream",
     "text": [
      "Roll: 34 ,Marks: A Age: 17\n"
     ]
    }
   ],
   "source": [
    "class Student:\n",
    "    def __init__(self,roll,marks):\n",
    "        self.roll = roll\n",
    "        self.marks= marks\n",
    "\n",
    "    def display(self):\n",
    "        return f\"Roll: {self.roll} ,Marks: {self.marks}\"\n",
    "\n",
    "student1= Student(34,'A')\n",
    "student1.age=17\n",
    "print(student1.display(), 'Age:',student1.age)"
   ]
  },
  {
   "cell_type": "markdown",
   "id": "e0cd16c4",
   "metadata": {},
   "source": [
    "## Multiple Inheritence"
   ]
  },
  {
   "cell_type": "code",
   "execution_count": 13,
   "id": "9e726c33",
   "metadata": {},
   "outputs": [],
   "source": [
    "class A:\n",
    "    def __init__(self, a):\n",
    "        self.a = a\n",
    "\n",
    "class B:\n",
    "    def __init__(self, b):\n",
    "        self.b = b\n",
    "\n",
    "# C inherits from both A and B\n",
    "class C(A, B):\n",
    "    def __init__(self, a, b, c):\n",
    "        # Assumption 1\n",
    "        # super().__init__(a, b)\n",
    "        \n",
    "        # Assumption 2\n",
    "        # super().__init__(a)\n",
    "        # super().__init__(b)\n",
    "        \n",
    "        # Assumption 3\n",
    "        A.__init__(self, a)\n",
    "        B.__init__(self, b)\n",
    "        self.c = c"
   ]
  },
  {
   "cell_type": "code",
   "execution_count": 9,
   "id": "e1c340b7",
   "metadata": {},
   "outputs": [],
   "source": [
    "c1 = C(1,2,3)"
   ]
  },
  {
   "cell_type": "code",
   "execution_count": 12,
   "id": "f899021f",
   "metadata": {},
   "outputs": [
    {
     "data": {
      "text/plain": [
       "3"
      ]
     },
     "execution_count": 12,
     "metadata": {},
     "output_type": "execute_result"
    }
   ],
   "source": [
    "c1.c"
   ]
  },
  {
   "cell_type": "code",
   "execution_count": 14,
   "id": "a38c30c6",
   "metadata": {},
   "outputs": [],
   "source": [
    "# HOMEWORK\n",
    "# Find out a way to use super in case of multiple inheritence"
   ]
  },
  {
   "cell_type": "code",
   "execution_count": 15,
   "id": "da448762",
   "metadata": {},
   "outputs": [],
   "source": [
    "# Method Resolution Order"
   ]
  },
  {
   "cell_type": "code",
   "execution_count": 36,
   "id": "9b84d9e6",
   "metadata": {},
   "outputs": [],
   "source": [
    "class A:\n",
    "    x = 10\n",
    "\n",
    "class B(A):\n",
    "    pass\n",
    "\n",
    "class C(B):\n",
    "    pass\n",
    "    \n",
    "class D(A):\n",
    "    x = 5\n",
    "\n",
    "class E(C, D):\n",
    "    pass\n",
    "\n",
    "# E -> C -> B -> D -> A"
   ]
  },
  {
   "cell_type": "code",
   "execution_count": 37,
   "id": "e8a136c8",
   "metadata": {},
   "outputs": [],
   "source": [
    "e1 = E()"
   ]
  },
  {
   "cell_type": "code",
   "execution_count": 38,
   "id": "2131f1fe",
   "metadata": {},
   "outputs": [
    {
     "data": {
      "text/plain": [
       "5"
      ]
     },
     "execution_count": 38,
     "metadata": {},
     "output_type": "execute_result"
    }
   ],
   "source": [
    "e1.x"
   ]
  },
  {
   "cell_type": "code",
   "execution_count": 25,
   "id": "fb9f8687",
   "metadata": {},
   "outputs": [
    {
     "data": {
      "text/plain": [
       "(__main__.E, __main__.C, __main__.B, __main__.D, __main__.A, object)"
      ]
     },
     "execution_count": 25,
     "metadata": {},
     "output_type": "execute_result"
    }
   ],
   "source": [
    "E.__mro__"
   ]
  },
  {
   "cell_type": "code",
   "execution_count": 40,
   "id": "17c52f9c",
   "metadata": {},
   "outputs": [
    {
     "name": "stdout",
     "output_type": "stream",
     "text": [
      "<__main__.A object at 0x7f84e1282c10>\n"
     ]
    }
   ],
   "source": [
    "class A:\n",
    "    x = []\n",
    "    \n",
    "    def __init__(self):\n",
    "        self.x.append(0)\n",
    "\n",
    "A()\n",
    "\n",
    "obj = A()\n",
    "\n",
    "if A():\n",
    "    print(A())"
   ]
  },
  {
   "cell_type": "code",
   "execution_count": 41,
   "id": "2ad1904c",
   "metadata": {},
   "outputs": [
    {
     "data": {
      "text/plain": [
       "[0, 0, 0, 0]"
      ]
     },
     "execution_count": 41,
     "metadata": {},
     "output_type": "execute_result"
    }
   ],
   "source": [
    "A.x"
   ]
  },
  {
   "cell_type": "code",
   "execution_count": 42,
   "id": "97cfd61b",
   "metadata": {},
   "outputs": [
    {
     "ename": "NameError",
     "evalue": "name 'count' is not defined",
     "output_type": "error",
     "traceback": [
      "\u001b[0;31m---------------------------------------------------------------------------\u001b[0m",
      "\u001b[0;31mNameError\u001b[0m                                 Traceback (most recent call last)",
      "\u001b[0;32m/var/folders/nn/c52y0d3j0gq59dpsswchkt2r0000gn/T/ipykernel_29095/1754808752.py\u001b[0m in \u001b[0;36m<module>\u001b[0;34m\u001b[0m\n\u001b[1;32m      4\u001b[0m         \u001b[0mself\u001b[0m\u001b[0;34m.\u001b[0m\u001b[0mcount\u001b[0m \u001b[0;34m=\u001b[0m \u001b[0mcount\u001b[0m \u001b[0;34m+\u001b[0m \u001b[0;36m1\u001b[0m\u001b[0;34m\u001b[0m\u001b[0;34m\u001b[0m\u001b[0m\n\u001b[1;32m      5\u001b[0m \u001b[0;34m\u001b[0m\u001b[0m\n\u001b[0;32m----> 6\u001b[0;31m \u001b[0mc\u001b[0m \u001b[0;34m=\u001b[0m \u001b[0mCounter\u001b[0m\u001b[0;34m(\u001b[0m\u001b[0;34m)\u001b[0m\u001b[0;34m\u001b[0m\u001b[0;34m\u001b[0m\u001b[0m\n\u001b[0m\u001b[1;32m      7\u001b[0m \u001b[0mprint\u001b[0m\u001b[0;34m(\u001b[0m\u001b[0mc\u001b[0m\u001b[0;34m.\u001b[0m\u001b[0mcount\u001b[0m\u001b[0;34m)\u001b[0m\u001b[0;34m\u001b[0m\u001b[0;34m\u001b[0m\u001b[0m\n",
      "\u001b[0;32m/var/folders/nn/c52y0d3j0gq59dpsswchkt2r0000gn/T/ipykernel_29095/1754808752.py\u001b[0m in \u001b[0;36m__init__\u001b[0;34m(self)\u001b[0m\n\u001b[1;32m      2\u001b[0m     \u001b[0;32mdef\u001b[0m \u001b[0m__init__\u001b[0m\u001b[0;34m(\u001b[0m\u001b[0mself\u001b[0m\u001b[0;34m)\u001b[0m\u001b[0;34m:\u001b[0m\u001b[0;34m\u001b[0m\u001b[0;34m\u001b[0m\u001b[0m\n\u001b[1;32m      3\u001b[0m         \u001b[0mself\u001b[0m\u001b[0;34m.\u001b[0m\u001b[0mcount\u001b[0m \u001b[0;34m=\u001b[0m \u001b[0;36m5\u001b[0m\u001b[0;34m\u001b[0m\u001b[0;34m\u001b[0m\u001b[0m\n\u001b[0;32m----> 4\u001b[0;31m         \u001b[0mself\u001b[0m\u001b[0;34m.\u001b[0m\u001b[0mcount\u001b[0m \u001b[0;34m=\u001b[0m \u001b[0mcount\u001b[0m \u001b[0;34m+\u001b[0m \u001b[0;36m1\u001b[0m\u001b[0;34m\u001b[0m\u001b[0;34m\u001b[0m\u001b[0m\n\u001b[0m\u001b[1;32m      5\u001b[0m \u001b[0;34m\u001b[0m\u001b[0m\n\u001b[1;32m      6\u001b[0m \u001b[0mc\u001b[0m \u001b[0;34m=\u001b[0m \u001b[0mCounter\u001b[0m\u001b[0;34m(\u001b[0m\u001b[0;34m)\u001b[0m\u001b[0;34m\u001b[0m\u001b[0;34m\u001b[0m\u001b[0m\n",
      "\u001b[0;31mNameError\u001b[0m: name 'count' is not defined"
     ]
    }
   ],
   "source": [
    "class Counter:\n",
    "    def __init__(self):\n",
    "        self.count = 5\n",
    "        self.count = count + 1\n",
    "\n",
    "c = Counter()\n",
    "print(c.count)"
   ]
  },
  {
   "cell_type": "code",
   "execution_count": 43,
   "id": "1473b9b2",
   "metadata": {},
   "outputs": [
    {
     "name": "stdout",
     "output_type": "stream",
     "text": [
      "Is it possible?\n"
     ]
    }
   ],
   "source": [
    "class Random:\n",
    "    def __init__(self, a = \"Is it possible?\"):\n",
    "        self.a = a\n",
    " \n",
    "    def display(self):\n",
    "        print(self.a)\n",
    "        \n",
    "r = Random()\n",
    "r.display()"
   ]
  },
  {
   "cell_type": "code",
   "execution_count": 44,
   "id": "7a7e57ce",
   "metadata": {},
   "outputs": [
    {
     "name": "stdout",
     "output_type": "stream",
     "text": [
      "I do something!\n",
      "I also do something!\n"
     ]
    }
   ],
   "source": [
    "class A:\n",
    "    def do_something(self):\n",
    "        print(\"I do something!\")\n",
    "\n",
    "class B(A):\n",
    "    def do_something(self):\n",
    "        super().do_something()\n",
    "        print(\"I also do something!\")\n",
    "\n",
    "b = B()\n",
    "b.do_something()"
   ]
  },
  {
   "cell_type": "code",
   "execution_count": 49,
   "id": "ae5db1a0",
   "metadata": {},
   "outputs": [],
   "source": [
    "class A:\n",
    "    random = \"I am random\"\n",
    "    \n",
    "    def update_value(self):\n",
    "        self.random = \"something new\""
   ]
  },
  {
   "cell_type": "code",
   "execution_count": 50,
   "id": "af73f57f",
   "metadata": {},
   "outputs": [],
   "source": [
    "a = A()"
   ]
  },
  {
   "cell_type": "code",
   "execution_count": 51,
   "id": "9013a593",
   "metadata": {},
   "outputs": [
    {
     "data": {
      "text/plain": [
       "'I am random'"
      ]
     },
     "execution_count": 51,
     "metadata": {},
     "output_type": "execute_result"
    }
   ],
   "source": [
    "a.random"
   ]
  },
  {
   "cell_type": "code",
   "execution_count": 52,
   "id": "c71caff5",
   "metadata": {},
   "outputs": [],
   "source": [
    "a.update_value()"
   ]
  },
  {
   "cell_type": "code",
   "execution_count": 54,
   "id": "375b0c46",
   "metadata": {},
   "outputs": [
    {
     "data": {
      "text/plain": [
       "'something new'"
      ]
     },
     "execution_count": 54,
     "metadata": {},
     "output_type": "execute_result"
    }
   ],
   "source": [
    "a.random"
   ]
  },
  {
   "cell_type": "code",
   "execution_count": 55,
   "id": "1de61842",
   "metadata": {},
   "outputs": [
    {
     "data": {
      "text/plain": [
       "'I am random'"
      ]
     },
     "execution_count": 55,
     "metadata": {},
     "output_type": "execute_result"
    }
   ],
   "source": [
    "A.random"
   ]
  },
  {
   "cell_type": "code",
   "execution_count": 56,
   "id": "3c8df166",
   "metadata": {},
   "outputs": [],
   "source": [
    "class A:\n",
    "    random = []\n",
    "    \n",
    "    def update_value(self):\n",
    "        self.random.append(1)"
   ]
  },
  {
   "cell_type": "code",
   "execution_count": 57,
   "id": "e48d965a",
   "metadata": {},
   "outputs": [],
   "source": [
    "a = A()"
   ]
  },
  {
   "cell_type": "code",
   "execution_count": 58,
   "id": "99962c00",
   "metadata": {},
   "outputs": [
    {
     "data": {
      "text/plain": [
       "[]"
      ]
     },
     "execution_count": 58,
     "metadata": {},
     "output_type": "execute_result"
    }
   ],
   "source": [
    "a.random"
   ]
  },
  {
   "cell_type": "code",
   "execution_count": 59,
   "id": "63b6cee0",
   "metadata": {},
   "outputs": [
    {
     "data": {
      "text/plain": [
       "[]"
      ]
     },
     "execution_count": 59,
     "metadata": {},
     "output_type": "execute_result"
    }
   ],
   "source": [
    "A.random"
   ]
  },
  {
   "cell_type": "code",
   "execution_count": 60,
   "id": "94d7c0ef",
   "metadata": {},
   "outputs": [],
   "source": [
    "a.update_value()"
   ]
  },
  {
   "cell_type": "code",
   "execution_count": 61,
   "id": "18b7a4e9",
   "metadata": {},
   "outputs": [
    {
     "data": {
      "text/plain": [
       "[1]"
      ]
     },
     "execution_count": 61,
     "metadata": {},
     "output_type": "execute_result"
    }
   ],
   "source": [
    "a.random"
   ]
  },
  {
   "cell_type": "code",
   "execution_count": 62,
   "id": "102eeef0",
   "metadata": {},
   "outputs": [
    {
     "data": {
      "text/plain": [
       "[1]"
      ]
     },
     "execution_count": 62,
     "metadata": {},
     "output_type": "execute_result"
    }
   ],
   "source": [
    "A.random"
   ]
  },
  {
   "cell_type": "code",
   "execution_count": 63,
   "id": "84aab5ee",
   "metadata": {},
   "outputs": [],
   "source": [
    "class A:\n",
    "    pass\n",
    "\n",
    "class B:\n",
    "    def __init__(self):\n",
    "        super().__init__"
   ]
  },
  {
   "cell_type": "code",
   "execution_count": 66,
   "id": "c214e0a0",
   "metadata": {},
   "outputs": [
    {
     "name": "stdout",
     "output_type": "stream",
     "text": [
      "<__main__.A object at 0x7f84f016cbe0>\n"
     ]
    }
   ],
   "source": [
    "class A:\n",
    "    pass\n",
    "\n",
    "A()\n",
    "\n",
    "obj1 = A()\n",
    "\n",
    "if A():\n",
    "    print(A())"
   ]
  },
  {
   "cell_type": "code",
   "execution_count": null,
   "id": "a4b4b67a",
   "metadata": {},
   "outputs": [],
   "source": []
  }
 ],
 "metadata": {
  "kernelspec": {
   "display_name": "Python 3 (ipykernel)",
   "language": "python",
   "name": "python3"
  },
  "language_info": {
   "codemirror_mode": {
    "name": "ipython",
    "version": 3
   },
   "file_extension": ".py",
   "mimetype": "text/x-python",
   "name": "python",
   "nbconvert_exporter": "python",
   "pygments_lexer": "ipython3",
   "version": "3.9.5"
  }
 },
 "nbformat": 4,
 "nbformat_minor": 5
}
