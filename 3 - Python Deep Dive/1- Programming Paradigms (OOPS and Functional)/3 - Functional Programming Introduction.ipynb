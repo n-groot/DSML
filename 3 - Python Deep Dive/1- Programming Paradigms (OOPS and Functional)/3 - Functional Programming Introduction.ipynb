{
 "cells": [
  {
   "cell_type": "code",
   "execution_count": 1,
   "id": "b65989c4",
   "metadata": {},
   "outputs": [],
   "source": [
    "def square_number(a):\n",
    "    return a**2"
   ]
  },
  {
   "cell_type": "code",
   "execution_count": 2,
   "id": "79a4b867",
   "metadata": {},
   "outputs": [],
   "source": [
    "square = lambda x: x**2"
   ]
  },
  {
   "cell_type": "code",
   "execution_count": 3,
   "id": "08bb76ca",
   "metadata": {},
   "outputs": [
    {
     "data": {
      "text/plain": [
       "16"
      ]
     },
     "execution_count": 3,
     "metadata": {},
     "output_type": "execute_result"
    }
   ],
   "source": [
    "square(4)"
   ]
  },
  {
   "cell_type": "code",
   "execution_count": 6,
   "id": "3d9886d1",
   "metadata": {},
   "outputs": [
    {
     "data": {
      "text/plain": [
       "8"
      ]
     },
     "execution_count": 6,
     "metadata": {},
     "output_type": "execute_result"
    }
   ],
   "source": [
    "(lambda x: x**3)(2)\n",
    "# Lambda functions are also known as anonumous functions"
   ]
  },
  {
   "cell_type": "code",
   "execution_count": 8,
   "id": "10fea37e",
   "metadata": {},
   "outputs": [
    {
     "data": {
      "text/plain": [
       "0"
      ]
     },
     "execution_count": 8,
     "metadata": {},
     "output_type": "execute_result"
    }
   ],
   "source": [
    "# if condition:\n",
    "#     x\n",
    "# else:\n",
    "#     y\n",
    "\n",
    "# x if condition else y -> Ternary Operator\n",
    "\n",
    "(lambda x: x if x > 5 else 0)(4)"
   ]
  },
  {
   "cell_type": "code",
   "execution_count": 9,
   "id": "b51cf097",
   "metadata": {},
   "outputs": [],
   "source": [
    "a = [1,5,7,8,0,2,3,5]"
   ]
  },
  {
   "cell_type": "code",
   "execution_count": 12,
   "id": "c601dbe6",
   "metadata": {},
   "outputs": [],
   "source": [
    "sorted_a = sorted(a)"
   ]
  },
  {
   "cell_type": "code",
   "execution_count": 13,
   "id": "097d699a",
   "metadata": {},
   "outputs": [
    {
     "data": {
      "text/plain": [
       "[1, 5, 7, 8, 0, 2, 3, 5]"
      ]
     },
     "execution_count": 13,
     "metadata": {},
     "output_type": "execute_result"
    }
   ],
   "source": [
    "a"
   ]
  },
  {
   "cell_type": "code",
   "execution_count": 14,
   "id": "b1a88496",
   "metadata": {},
   "outputs": [
    {
     "data": {
      "text/plain": [
       "[0, 1, 2, 3, 5, 5, 7, 8]"
      ]
     },
     "execution_count": 14,
     "metadata": {},
     "output_type": "execute_result"
    }
   ],
   "source": [
    "sorted_a"
   ]
  },
  {
   "cell_type": "code",
   "execution_count": 22,
   "id": "e92dbfc8",
   "metadata": {},
   "outputs": [],
   "source": [
    "get_value = lambda x: x[\"marks\"]"
   ]
  },
  {
   "cell_type": "code",
   "execution_count": 18,
   "id": "26ec8362",
   "metadata": {},
   "outputs": [],
   "source": [
    "students = [\n",
    "    {\"name\": \"A\", \"marks\": 50},\n",
    "    {\"name\": \"B\", \"marks\": 100},\n",
    "    {\"name\": \"C\", \"marks\": 40},\n",
    "    {\"name\": \"D\", \"marks\": 70},\n",
    "    {\"name\": \"E\", \"marks\": 60},\n",
    "]"
   ]
  },
  {
   "cell_type": "code",
   "execution_count": 25,
   "id": "720085e9",
   "metadata": {},
   "outputs": [
    {
     "ename": "TypeError",
     "evalue": "'>' not supported between instances of 'dict' and 'dict'",
     "output_type": "error",
     "traceback": [
      "\u001b[0;31m---------------------------------------------------------------------------\u001b[0m",
      "\u001b[0;31mTypeError\u001b[0m                                 Traceback (most recent call last)",
      "\u001b[0;32m/var/folders/nn/c52y0d3j0gq59dpsswchkt2r0000gn/T/ipykernel_29535/1391904454.py\u001b[0m in \u001b[0;36m<module>\u001b[0;34m\u001b[0m\n\u001b[0;32m----> 1\u001b[0;31m \u001b[0mstudents\u001b[0m\u001b[0;34m[\u001b[0m\u001b[0;36m0\u001b[0m\u001b[0;34m]\u001b[0m \u001b[0;34m>\u001b[0m \u001b[0mstudents\u001b[0m\u001b[0;34m[\u001b[0m\u001b[0;36m1\u001b[0m\u001b[0;34m]\u001b[0m\u001b[0;34m\u001b[0m\u001b[0;34m\u001b[0m\u001b[0m\n\u001b[0m",
      "\u001b[0;31mTypeError\u001b[0m: '>' not supported between instances of 'dict' and 'dict'"
     ]
    }
   ],
   "source": [
    "students[0] > students[1]"
   ]
  },
  {
   "cell_type": "code",
   "execution_count": 23,
   "id": "e7577bad",
   "metadata": {},
   "outputs": [
    {
     "data": {
      "text/plain": [
       "50"
      ]
     },
     "execution_count": 23,
     "metadata": {},
     "output_type": "execute_result"
    }
   ],
   "source": [
    "get_value(students[0])"
   ]
  },
  {
   "cell_type": "code",
   "execution_count": 24,
   "id": "23d3a367",
   "metadata": {
    "scrolled": true
   },
   "outputs": [
    {
     "data": {
      "text/plain": [
       "100"
      ]
     },
     "execution_count": 24,
     "metadata": {},
     "output_type": "execute_result"
    }
   ],
   "source": [
    "get_value(students[1])"
   ]
  },
  {
   "cell_type": "code",
   "execution_count": 26,
   "id": "659c53a1",
   "metadata": {},
   "outputs": [
    {
     "data": {
      "text/plain": [
       "False"
      ]
     },
     "execution_count": 26,
     "metadata": {},
     "output_type": "execute_result"
    }
   ],
   "source": [
    "get_value(students[0]) > get_value(students[1])"
   ]
  },
  {
   "cell_type": "code",
   "execution_count": 19,
   "id": "09a3e46e",
   "metadata": {},
   "outputs": [
    {
     "ename": "TypeError",
     "evalue": "'<' not supported between instances of 'dict' and 'dict'",
     "output_type": "error",
     "traceback": [
      "\u001b[0;31m---------------------------------------------------------------------------\u001b[0m",
      "\u001b[0;31mTypeError\u001b[0m                                 Traceback (most recent call last)",
      "\u001b[0;32m/var/folders/nn/c52y0d3j0gq59dpsswchkt2r0000gn/T/ipykernel_29535/645918957.py\u001b[0m in \u001b[0;36m<module>\u001b[0;34m\u001b[0m\n\u001b[0;32m----> 1\u001b[0;31m \u001b[0msorted\u001b[0m\u001b[0;34m(\u001b[0m\u001b[0mstudents\u001b[0m\u001b[0;34m)\u001b[0m\u001b[0;34m\u001b[0m\u001b[0;34m\u001b[0m\u001b[0m\n\u001b[0m",
      "\u001b[0;31mTypeError\u001b[0m: '<' not supported between instances of 'dict' and 'dict'"
     ]
    }
   ],
   "source": [
    "sorted(students)"
   ]
  },
  {
   "cell_type": "code",
   "execution_count": 32,
   "id": "05111426",
   "metadata": {},
   "outputs": [
    {
     "data": {
      "text/plain": [
       "[{'name': 'E', 'marks': 60},\n",
       " {'name': 'D', 'marks': 70},\n",
       " {'name': 'C', 'marks': 40},\n",
       " {'name': 'B', 'marks': 100},\n",
       " {'name': 'A', 'marks': 50}]"
      ]
     },
     "execution_count": 32,
     "metadata": {},
     "output_type": "execute_result"
    }
   ],
   "source": [
    "sorted(students, key = lambda x: x[\"name\"], reverse=True)"
   ]
  },
  {
   "cell_type": "code",
   "execution_count": 30,
   "id": "4c1865b7",
   "metadata": {},
   "outputs": [
    {
     "data": {
      "text/plain": [
       "9"
      ]
     },
     "execution_count": 30,
     "metadata": {},
     "output_type": "execute_result"
    }
   ],
   "source": [
    "(lambda x, y: x+y)(4,5)"
   ]
  },
  {
   "cell_type": "code",
   "execution_count": 31,
   "id": "72da439a",
   "metadata": {},
   "outputs": [],
   "source": [
    "# HOMEWORK\n",
    "# Add the key functionality to already done sorting functions"
   ]
  },
  {
   "cell_type": "code",
   "execution_count": 39,
   "id": "faa36059",
   "metadata": {},
   "outputs": [],
   "source": [
    "# Higher order function is a function which returns a function\n",
    "\n",
    "def gen_exp(n):\n",
    "    def exp(x):\n",
    "        return x**n\n",
    "    \n",
    "    return exp"
   ]
  },
  {
   "cell_type": "code",
   "execution_count": 36,
   "id": "2d788a1e",
   "metadata": {},
   "outputs": [
    {
     "data": {
      "text/plain": [
       "'\\ndef exp(x):\\n    return x**5\\n'"
      ]
     },
     "execution_count": 36,
     "metadata": {},
     "output_type": "execute_result"
    }
   ],
   "source": [
    "exp_5 = gen_exp(5)\n",
    "\n",
    "'''\n",
    "def exp(x):\n",
    "    return x**5\n",
    "'''"
   ]
  },
  {
   "cell_type": "code",
   "execution_count": 35,
   "id": "fa73f691",
   "metadata": {},
   "outputs": [
    {
     "data": {
      "text/plain": [
       "function"
      ]
     },
     "execution_count": 35,
     "metadata": {},
     "output_type": "execute_result"
    }
   ],
   "source": [
    "type(exp_5)"
   ]
  },
  {
   "cell_type": "code",
   "execution_count": 38,
   "id": "c901bec2",
   "metadata": {},
   "outputs": [
    {
     "data": {
      "text/plain": [
       "32"
      ]
     },
     "execution_count": 38,
     "metadata": {},
     "output_type": "execute_result"
    }
   ],
   "source": [
    "exp_5(2)"
   ]
  },
  {
   "cell_type": "code",
   "execution_count": 40,
   "id": "ce8fa4b4",
   "metadata": {},
   "outputs": [],
   "source": [
    "# DECORATORS"
   ]
  },
  {
   "cell_type": "code",
   "execution_count": 45,
   "id": "3b495361",
   "metadata": {},
   "outputs": [],
   "source": [
    "def foo():\n",
    "    print(\"Hello everyone! How are you doing?\")\n",
    "    \n",
    "def bar():\n",
    "    print(\"Random cliche print statement!\")"
   ]
  },
  {
   "cell_type": "code",
   "execution_count": 46,
   "id": "51122ce3",
   "metadata": {},
   "outputs": [
    {
     "name": "stdout",
     "output_type": "stream",
     "text": [
      "Hello everyone! How are you doing?\n"
     ]
    }
   ],
   "source": [
    "foo()"
   ]
  },
  {
   "cell_type": "code",
   "execution_count": 47,
   "id": "cd95a4a0",
   "metadata": {},
   "outputs": [],
   "source": [
    "def foo():\n",
    "    print(\"-\"*50)\n",
    "    print(\"Hello everyone! How are you doing?\")\n",
    "    print(\"-\"*50)"
   ]
  },
  {
   "cell_type": "code",
   "execution_count": 48,
   "id": "ada96997",
   "metadata": {},
   "outputs": [
    {
     "name": "stdout",
     "output_type": "stream",
     "text": [
      "--------------------------------------------------\n",
      "Hello everyone! How are you doing?\n",
      "--------------------------------------------------\n"
     ]
    }
   ],
   "source": [
    "foo()"
   ]
  },
  {
   "cell_type": "code",
   "execution_count": 52,
   "id": "d2bb1fe7",
   "metadata": {},
   "outputs": [],
   "source": [
    "def bar():\n",
    "    print(\"-\"*50) # code that runs before\n",
    "    print(\"Random cliche print statement!\")\n",
    "    print(\"-\"*50) # code that runs after"
   ]
  },
  {
   "cell_type": "code",
   "execution_count": 53,
   "id": "9b75c384",
   "metadata": {},
   "outputs": [
    {
     "name": "stdout",
     "output_type": "stream",
     "text": [
      "--------------------------------------------------\n",
      "Random cliche print statement!\n",
      "--------------------------------------------------\n"
     ]
    }
   ],
   "source": [
    "bar()"
   ]
  },
  {
   "cell_type": "code",
   "execution_count": 65,
   "id": "eb7faa14",
   "metadata": {},
   "outputs": [],
   "source": [
    "# A decorator accepts a function as an argument an returns a decorated function\n",
    "def pretty(func):\n",
    "    def inner():\n",
    "        print(\"-\"*50)\n",
    "        func()\n",
    "        print(\"-\"*50)\n",
    "    \n",
    "    return inner"
   ]
  },
  {
   "cell_type": "code",
   "execution_count": 62,
   "id": "dc71ecbe",
   "metadata": {},
   "outputs": [],
   "source": [
    "def foo():\n",
    "    print(\"Hello everyone! How are you doing?\")"
   ]
  },
  {
   "cell_type": "code",
   "execution_count": 63,
   "id": "2c2bec08",
   "metadata": {},
   "outputs": [],
   "source": [
    "new_foo = pretty(foo)"
   ]
  },
  {
   "cell_type": "code",
   "execution_count": 64,
   "id": "56c2b7d8",
   "metadata": {},
   "outputs": [
    {
     "name": "stdout",
     "output_type": "stream",
     "text": [
      "--------------------------------------------------\n",
      "Hello everyone! How are you doing?\n",
      "--------------------------------------------------\n"
     ]
    }
   ],
   "source": [
    "new_foo()"
   ]
  },
  {
   "cell_type": "code",
   "execution_count": 66,
   "id": "fe144fa7",
   "metadata": {},
   "outputs": [],
   "source": [
    "@pretty\n",
    "def foo():\n",
    "    print(\"WHATTTT?\")"
   ]
  },
  {
   "cell_type": "code",
   "execution_count": 67,
   "id": "2e58fe99",
   "metadata": {},
   "outputs": [
    {
     "name": "stdout",
     "output_type": "stream",
     "text": [
      "--------------------------------------------------\n",
      "WHATTTT?\n",
      "--------------------------------------------------\n"
     ]
    }
   ],
   "source": [
    "foo()"
   ]
  },
  {
   "cell_type": "code",
   "execution_count": 68,
   "id": "514c1170",
   "metadata": {},
   "outputs": [],
   "source": [
    "@pretty\n",
    "def bar():\n",
    "    print(\"I AM AMAZED RIGHT NOW! MIGHT JUST CRY!\")"
   ]
  },
  {
   "cell_type": "code",
   "execution_count": 70,
   "id": "0cb9d656",
   "metadata": {},
   "outputs": [
    {
     "name": "stdout",
     "output_type": "stream",
     "text": [
      "--------------------------------------------------\n",
      "I AM AMAZED RIGHT NOW! MIGHT JUST CRY!\n",
      "--------------------------------------------------\n"
     ]
    }
   ],
   "source": [
    "bar()"
   ]
  },
  {
   "cell_type": "code",
   "execution_count": null,
   "id": "90aec415",
   "metadata": {},
   "outputs": [],
   "source": []
  }
 ],
 "metadata": {
  "kernelspec": {
   "display_name": "Python 3 (ipykernel)",
   "language": "python",
   "name": "python3"
  },
  "language_info": {
   "codemirror_mode": {
    "name": "ipython",
    "version": 3
   },
   "file_extension": ".py",
   "mimetype": "text/x-python",
   "name": "python",
   "nbconvert_exporter": "python",
   "pygments_lexer": "ipython3",
   "version": "3.9.5"
  }
 },
 "nbformat": 4,
 "nbformat_minor": 5
}
