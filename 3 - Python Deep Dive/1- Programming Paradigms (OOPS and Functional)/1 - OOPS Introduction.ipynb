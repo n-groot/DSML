{
 "cells": [
  {
   "cell_type": "code",
   "execution_count": 1,
   "id": "082d0072",
   "metadata": {},
   "outputs": [],
   "source": [
    "class Student:\n",
    "    # properties\n",
    "    # methods\n",
    "    pass"
   ]
  },
  {
   "cell_type": "code",
   "execution_count": 4,
   "id": "ce8b5816",
   "metadata": {},
   "outputs": [
    {
     "data": {
      "text/plain": [
       "True"
      ]
     },
     "execution_count": 4,
     "metadata": {},
     "output_type": "execute_result"
    }
   ],
   "source": [
    "isinstance(Student, object)"
   ]
  },
  {
   "cell_type": "code",
   "execution_count": 5,
   "id": "a266dc77",
   "metadata": {},
   "outputs": [],
   "source": [
    "# create an instance of this class - instantiate - create an object of class type\n",
    "a = Student()"
   ]
  },
  {
   "cell_type": "code",
   "execution_count": 6,
   "id": "5a14aade",
   "metadata": {},
   "outputs": [
    {
     "data": {
      "text/plain": [
       "__main__.Student"
      ]
     },
     "execution_count": 6,
     "metadata": {},
     "output_type": "execute_result"
    }
   ],
   "source": [
    "type(a)"
   ]
  },
  {
   "cell_type": "code",
   "execution_count": 7,
   "id": "4536e999",
   "metadata": {},
   "outputs": [
    {
     "data": {
      "text/plain": [
       "True"
      ]
     },
     "execution_count": 7,
     "metadata": {},
     "output_type": "execute_result"
    }
   ],
   "source": [
    "isinstance(a, Student)"
   ]
  },
  {
   "cell_type": "code",
   "execution_count": 8,
   "id": "4fe33086",
   "metadata": {},
   "outputs": [
    {
     "data": {
      "text/plain": [
       "True"
      ]
     },
     "execution_count": 8,
     "metadata": {},
     "output_type": "execute_result"
    }
   ],
   "source": [
    "isinstance(a, object)"
   ]
  },
  {
   "cell_type": "code",
   "execution_count": 9,
   "id": "ace39337",
   "metadata": {},
   "outputs": [
    {
     "data": {
      "text/plain": [
       "131"
      ]
     },
     "execution_count": 9,
     "metadata": {},
     "output_type": "execute_result"
    }
   ],
   "source": [
    "56 + 75"
   ]
  },
  {
   "cell_type": "code",
   "execution_count": 10,
   "id": "430c16e2",
   "metadata": {},
   "outputs": [
    {
     "data": {
      "text/plain": [
       "'whatonearth'"
      ]
     },
     "execution_count": 10,
     "metadata": {},
     "output_type": "execute_result"
    }
   ],
   "source": [
    "\"what\" + \"on\" + \"earth\""
   ]
  },
  {
   "cell_type": "code",
   "execution_count": 11,
   "id": "cfeb7db3",
   "metadata": {},
   "outputs": [],
   "source": [
    "def random():\n",
    "    print(\"random\")"
   ]
  },
  {
   "cell_type": "code",
   "execution_count": 12,
   "id": "91be05e9",
   "metadata": {},
   "outputs": [
    {
     "name": "stdout",
     "output_type": "stream",
     "text": [
      "random\n"
     ]
    }
   ],
   "source": [
    "random()"
   ]
  },
  {
   "cell_type": "code",
   "execution_count": 13,
   "id": "774902ef",
   "metadata": {},
   "outputs": [
    {
     "data": {
      "text/plain": [
       "<__main__.Student at 0x7ff488799790>"
      ]
     },
     "execution_count": 13,
     "metadata": {},
     "output_type": "execute_result"
    }
   ],
   "source": [
    "Student()"
   ]
  },
  {
   "cell_type": "code",
   "execution_count": 14,
   "id": "df2561ac",
   "metadata": {},
   "outputs": [],
   "source": [
    "class Student:\n",
    "    pass"
   ]
  },
  {
   "cell_type": "code",
   "execution_count": 15,
   "id": "83f7190b",
   "metadata": {},
   "outputs": [],
   "source": [
    "s1 = Student()"
   ]
  },
  {
   "cell_type": "code",
   "execution_count": 16,
   "id": "c6be4349",
   "metadata": {},
   "outputs": [
    {
     "data": {
      "text/plain": [
       "<__main__.Student at 0x7ff488799b50>"
      ]
     },
     "execution_count": 16,
     "metadata": {},
     "output_type": "execute_result"
    }
   ],
   "source": [
    "s1"
   ]
  },
  {
   "cell_type": "code",
   "execution_count": 17,
   "id": "4e351f10",
   "metadata": {},
   "outputs": [],
   "source": [
    "s1.name = \"Bipin\""
   ]
  },
  {
   "cell_type": "code",
   "execution_count": 18,
   "id": "1ebfd3c9",
   "metadata": {},
   "outputs": [
    {
     "data": {
      "text/plain": [
       "'Bipin'"
      ]
     },
     "execution_count": 18,
     "metadata": {},
     "output_type": "execute_result"
    }
   ],
   "source": [
    "s1.name"
   ]
  },
  {
   "cell_type": "code",
   "execution_count": 19,
   "id": "c44d7bb3",
   "metadata": {},
   "outputs": [],
   "source": [
    "s2 = s1"
   ]
  },
  {
   "cell_type": "code",
   "execution_count": 20,
   "id": "90b0e923",
   "metadata": {},
   "outputs": [
    {
     "data": {
      "text/plain": [
       "'Bipin'"
      ]
     },
     "execution_count": 20,
     "metadata": {},
     "output_type": "execute_result"
    }
   ],
   "source": [
    "s2.name"
   ]
  },
  {
   "cell_type": "code",
   "execution_count": 35,
   "id": "26f4759c",
   "metadata": {},
   "outputs": [],
   "source": [
    "class Student:\n",
    "    def hello():\n",
    "        print(\"Hello!\")"
   ]
  },
  {
   "cell_type": "code",
   "execution_count": 36,
   "id": "b6cdc385",
   "metadata": {},
   "outputs": [],
   "source": [
    "s2 = Student()"
   ]
  },
  {
   "cell_type": "code",
   "execution_count": 37,
   "id": "b0b01a2f",
   "metadata": {},
   "outputs": [
    {
     "ename": "TypeError",
     "evalue": "hello() takes 0 positional arguments but 1 was given",
     "output_type": "error",
     "traceback": [
      "\u001b[0;31m---------------------------------------------------------------------------\u001b[0m",
      "\u001b[0;31mTypeError\u001b[0m                                 Traceback (most recent call last)",
      "\u001b[0;32m/var/folders/nn/c52y0d3j0gq59dpsswchkt2r0000gn/T/ipykernel_5780/2657862457.py\u001b[0m in \u001b[0;36m<module>\u001b[0;34m\u001b[0m\n\u001b[0;32m----> 1\u001b[0;31m \u001b[0ms2\u001b[0m\u001b[0;34m.\u001b[0m\u001b[0mhello\u001b[0m\u001b[0;34m(\u001b[0m\u001b[0;34m)\u001b[0m\u001b[0;34m\u001b[0m\u001b[0;34m\u001b[0m\u001b[0m\n\u001b[0m",
      "\u001b[0;31mTypeError\u001b[0m: hello() takes 0 positional arguments but 1 was given"
     ]
    }
   ],
   "source": [
    "s2.hello()"
   ]
  },
  {
   "cell_type": "code",
   "execution_count": 38,
   "id": "0fc35ef9",
   "metadata": {},
   "outputs": [],
   "source": [
    "class Student:\n",
    "    def hello(random_variable_name):\n",
    "        print(\"Hello!\")\n",
    "        print(id(random_variable_name))"
   ]
  },
  {
   "cell_type": "code",
   "execution_count": 39,
   "id": "0b9563c1",
   "metadata": {},
   "outputs": [],
   "source": [
    "s1 = Student()"
   ]
  },
  {
   "cell_type": "code",
   "execution_count": 40,
   "id": "76b66b5e",
   "metadata": {},
   "outputs": [
    {
     "name": "stdout",
     "output_type": "stream",
     "text": [
      "Hello!\n",
      "140687432116832\n"
     ]
    }
   ],
   "source": [
    "s1.hello()\n",
    "# Student.hello(s1)"
   ]
  },
  {
   "cell_type": "code",
   "execution_count": 41,
   "id": "1125090a",
   "metadata": {},
   "outputs": [
    {
     "name": "stdout",
     "output_type": "stream",
     "text": [
      "140687432116832\n"
     ]
    }
   ],
   "source": [
    "print(id(s1))"
   ]
  },
  {
   "cell_type": "code",
   "execution_count": 42,
   "id": "3adb5678",
   "metadata": {},
   "outputs": [],
   "source": [
    "class Student:\n",
    "    def __init__(self, name, age):\n",
    "        self.name = name\n",
    "        self.age = age"
   ]
  },
  {
   "cell_type": "code",
   "execution_count": 43,
   "id": "7cd76423",
   "metadata": {},
   "outputs": [],
   "source": [
    "s1 = Student(\"Vaishali\", 5000)"
   ]
  },
  {
   "cell_type": "code",
   "execution_count": 44,
   "id": "e6a06359",
   "metadata": {},
   "outputs": [
    {
     "data": {
      "text/plain": [
       "'Vaishali'"
      ]
     },
     "execution_count": 44,
     "metadata": {},
     "output_type": "execute_result"
    }
   ],
   "source": [
    "s1.name"
   ]
  },
  {
   "cell_type": "code",
   "execution_count": 45,
   "id": "ce91bb2a",
   "metadata": {},
   "outputs": [
    {
     "data": {
      "text/plain": [
       "5000"
      ]
     },
     "execution_count": 45,
     "metadata": {},
     "output_type": "execute_result"
    }
   ],
   "source": [
    "s1.age"
   ]
  },
  {
   "cell_type": "code",
   "execution_count": 46,
   "id": "a8cd8d53",
   "metadata": {},
   "outputs": [],
   "source": [
    "s2 = Student(\"Vinoth\", 10000)"
   ]
  },
  {
   "cell_type": "code",
   "execution_count": 47,
   "id": "f67535e8",
   "metadata": {},
   "outputs": [
    {
     "data": {
      "text/plain": [
       "'Vinoth'"
      ]
     },
     "execution_count": 47,
     "metadata": {},
     "output_type": "execute_result"
    }
   ],
   "source": [
    "s2.name"
   ]
  },
  {
   "cell_type": "code",
   "execution_count": 48,
   "id": "0ee4c2a3",
   "metadata": {},
   "outputs": [
    {
     "data": {
      "text/plain": [
       "10000"
      ]
     },
     "execution_count": 48,
     "metadata": {},
     "output_type": "execute_result"
    }
   ],
   "source": [
    "s2.age"
   ]
  },
  {
   "cell_type": "code",
   "execution_count": 60,
   "id": "6b48635b",
   "metadata": {},
   "outputs": [],
   "source": [
    "class Dog:\n",
    "    kind = \"canine\" # class variable\n",
    "    \n",
    "    def __init__(self, name):\n",
    "        self.name = name # object variable / instance variable"
   ]
  },
  {
   "cell_type": "code",
   "execution_count": 61,
   "id": "6bf51f18",
   "metadata": {},
   "outputs": [],
   "source": [
    "d1 = Dog(\"tuffy\")"
   ]
  },
  {
   "cell_type": "code",
   "execution_count": 62,
   "id": "14053480",
   "metadata": {},
   "outputs": [],
   "source": [
    "d2 = Dog(\"scooby\")"
   ]
  },
  {
   "cell_type": "code",
   "execution_count": 63,
   "id": "a7df30f1",
   "metadata": {},
   "outputs": [
    {
     "data": {
      "text/plain": [
       "'tuffy'"
      ]
     },
     "execution_count": 63,
     "metadata": {},
     "output_type": "execute_result"
    }
   ],
   "source": [
    "d1.name"
   ]
  },
  {
   "cell_type": "code",
   "execution_count": 64,
   "id": "2c0444be",
   "metadata": {},
   "outputs": [
    {
     "data": {
      "text/plain": [
       "'scooby'"
      ]
     },
     "execution_count": 64,
     "metadata": {},
     "output_type": "execute_result"
    }
   ],
   "source": [
    "d2.name"
   ]
  },
  {
   "cell_type": "code",
   "execution_count": 65,
   "id": "fed0fcba",
   "metadata": {},
   "outputs": [
    {
     "data": {
      "text/plain": [
       "'canine'"
      ]
     },
     "execution_count": 65,
     "metadata": {},
     "output_type": "execute_result"
    }
   ],
   "source": [
    "d1.kind"
   ]
  },
  {
   "cell_type": "code",
   "execution_count": 66,
   "id": "12160ff6",
   "metadata": {},
   "outputs": [
    {
     "data": {
      "text/plain": [
       "'canine'"
      ]
     },
     "execution_count": 66,
     "metadata": {},
     "output_type": "execute_result"
    }
   ],
   "source": [
    "d2.kind"
   ]
  },
  {
   "cell_type": "code",
   "execution_count": 67,
   "id": "cbd4f757",
   "metadata": {},
   "outputs": [
    {
     "data": {
      "text/plain": [
       "'canine'"
      ]
     },
     "execution_count": 67,
     "metadata": {},
     "output_type": "execute_result"
    }
   ],
   "source": [
    "Dog.kind"
   ]
  },
  {
   "cell_type": "code",
   "execution_count": 68,
   "id": "3872c0f5",
   "metadata": {},
   "outputs": [
    {
     "ename": "AttributeError",
     "evalue": "type object 'Dog' has no attribute 'name'",
     "output_type": "error",
     "traceback": [
      "\u001b[0;31m---------------------------------------------------------------------------\u001b[0m",
      "\u001b[0;31mAttributeError\u001b[0m                            Traceback (most recent call last)",
      "\u001b[0;32m/var/folders/nn/c52y0d3j0gq59dpsswchkt2r0000gn/T/ipykernel_5780/4053790346.py\u001b[0m in \u001b[0;36m<module>\u001b[0;34m\u001b[0m\n\u001b[0;32m----> 1\u001b[0;31m \u001b[0mDog\u001b[0m\u001b[0;34m.\u001b[0m\u001b[0mname\u001b[0m\u001b[0;34m\u001b[0m\u001b[0;34m\u001b[0m\u001b[0m\n\u001b[0m",
      "\u001b[0;31mAttributeError\u001b[0m: type object 'Dog' has no attribute 'name'"
     ]
    }
   ],
   "source": [
    "Dog.name"
   ]
  },
  {
   "cell_type": "code",
   "execution_count": 69,
   "id": "ca3fc1a9",
   "metadata": {},
   "outputs": [],
   "source": [
    "d1.kind = \"doberman\""
   ]
  },
  {
   "cell_type": "code",
   "execution_count": 73,
   "id": "ea146531",
   "metadata": {},
   "outputs": [
    {
     "data": {
      "text/plain": [
       "'doberman'"
      ]
     },
     "execution_count": 73,
     "metadata": {},
     "output_type": "execute_result"
    }
   ],
   "source": [
    "# creates an instance variable just for that object\n",
    "d1.kind"
   ]
  },
  {
   "cell_type": "code",
   "execution_count": 71,
   "id": "be23efa3",
   "metadata": {},
   "outputs": [
    {
     "data": {
      "text/plain": [
       "'canine'"
      ]
     },
     "execution_count": 71,
     "metadata": {},
     "output_type": "execute_result"
    }
   ],
   "source": [
    "d2.kind"
   ]
  },
  {
   "cell_type": "code",
   "execution_count": 72,
   "id": "142a428f",
   "metadata": {},
   "outputs": [
    {
     "data": {
      "text/plain": [
       "'canine'"
      ]
     },
     "execution_count": 72,
     "metadata": {},
     "output_type": "execute_result"
    }
   ],
   "source": [
    "Dog.kind"
   ]
  },
  {
   "cell_type": "code",
   "execution_count": 74,
   "id": "231f4dd5",
   "metadata": {},
   "outputs": [],
   "source": [
    "Dog.kind = \"random_kind\""
   ]
  },
  {
   "cell_type": "code",
   "execution_count": 75,
   "id": "b1ff3847",
   "metadata": {},
   "outputs": [
    {
     "data": {
      "text/plain": [
       "'random_kind'"
      ]
     },
     "execution_count": 75,
     "metadata": {},
     "output_type": "execute_result"
    }
   ],
   "source": [
    "Dog.kind"
   ]
  },
  {
   "cell_type": "code",
   "execution_count": 76,
   "id": "20f09b01",
   "metadata": {},
   "outputs": [
    {
     "data": {
      "text/plain": [
       "'random_kind'"
      ]
     },
     "execution_count": 76,
     "metadata": {},
     "output_type": "execute_result"
    }
   ],
   "source": [
    "d2.kind"
   ]
  },
  {
   "cell_type": "code",
   "execution_count": 77,
   "id": "8e991fe9",
   "metadata": {},
   "outputs": [
    {
     "data": {
      "text/plain": [
       "'doberman'"
      ]
     },
     "execution_count": 77,
     "metadata": {},
     "output_type": "execute_result"
    }
   ],
   "source": [
    "d1.kind"
   ]
  },
  {
   "cell_type": "code",
   "execution_count": 88,
   "id": "7533502f",
   "metadata": {},
   "outputs": [],
   "source": [
    "class Dog:\n",
    "    tricks = []\n",
    "    \n",
    "    '''\n",
    "    When updating a class variable using an object - \n",
    "    - In case of immutable - New Instance Variable created\n",
    "    - In case of mutable - Original Class Variable updated\n",
    "    '''\n",
    "    \n",
    "    def __init__(self, name):\n",
    "        self.name = name\n",
    "        \n",
    "    def teach_trick(self, trick):\n",
    "        self.tricks.append(trick)"
   ]
  },
  {
   "cell_type": "code",
   "execution_count": 89,
   "id": "24d2e269",
   "metadata": {},
   "outputs": [],
   "source": [
    "d1 = Dog(\"pupy\")\n",
    "d2 = Dog(\"tommy\")"
   ]
  },
  {
   "cell_type": "code",
   "execution_count": 90,
   "id": "501e9554",
   "metadata": {},
   "outputs": [
    {
     "data": {
      "text/plain": [
       "[]"
      ]
     },
     "execution_count": 90,
     "metadata": {},
     "output_type": "execute_result"
    }
   ],
   "source": [
    "d1.tricks"
   ]
  },
  {
   "cell_type": "code",
   "execution_count": 91,
   "id": "1bb23e02",
   "metadata": {},
   "outputs": [
    {
     "data": {
      "text/plain": [
       "[]"
      ]
     },
     "execution_count": 91,
     "metadata": {},
     "output_type": "execute_result"
    }
   ],
   "source": [
    "d2.tricks"
   ]
  },
  {
   "cell_type": "code",
   "execution_count": 92,
   "id": "bf9be337",
   "metadata": {},
   "outputs": [
    {
     "data": {
      "text/plain": [
       "'pupy'"
      ]
     },
     "execution_count": 92,
     "metadata": {},
     "output_type": "execute_result"
    }
   ],
   "source": [
    "d1.name"
   ]
  },
  {
   "cell_type": "code",
   "execution_count": 93,
   "id": "ef75494e",
   "metadata": {},
   "outputs": [
    {
     "data": {
      "text/plain": [
       "'tommy'"
      ]
     },
     "execution_count": 93,
     "metadata": {},
     "output_type": "execute_result"
    }
   ],
   "source": [
    "d2.name"
   ]
  },
  {
   "cell_type": "code",
   "execution_count": 94,
   "id": "727f9658",
   "metadata": {},
   "outputs": [],
   "source": [
    "d1.teach_trick(\"jump\")"
   ]
  },
  {
   "cell_type": "code",
   "execution_count": 95,
   "id": "91fc4942",
   "metadata": {},
   "outputs": [
    {
     "data": {
      "text/plain": [
       "['jump']"
      ]
     },
     "execution_count": 95,
     "metadata": {},
     "output_type": "execute_result"
    }
   ],
   "source": [
    "d1.tricks"
   ]
  },
  {
   "cell_type": "code",
   "execution_count": 96,
   "id": "c7d3f079",
   "metadata": {},
   "outputs": [
    {
     "data": {
      "text/plain": [
       "['jump']"
      ]
     },
     "execution_count": 96,
     "metadata": {},
     "output_type": "execute_result"
    }
   ],
   "source": [
    "d2.tricks"
   ]
  },
  {
   "cell_type": "code",
   "execution_count": 98,
   "id": "13f3f913",
   "metadata": {},
   "outputs": [
    {
     "name": "stdout",
     "output_type": "stream",
     "text": [
      "hello!\n"
     ]
    }
   ],
   "source": [
    "class Student:\n",
    "    def hello(self):\n",
    "        print(\"hello!\")\n",
    "\n",
    "\n",
    "s1 = Student()\n",
    "# Student.hello(s1)\n",
    "s1.hello()"
   ]
  },
  {
   "cell_type": "code",
   "execution_count": 100,
   "id": "36cdcc29",
   "metadata": {},
   "outputs": [
    {
     "name": "stdout",
     "output_type": "stream",
     "text": [
      "1\n"
     ]
    }
   ],
   "source": [
    "def get(a):\n",
    "    return a[0] # -> O(1)\n",
    "\n",
    "a=[1,2,3]\n",
    "print(get(a))"
   ]
  },
  {
   "cell_type": "code",
   "execution_count": null,
   "id": "6a9a14c9",
   "metadata": {},
   "outputs": [],
   "source": []
  }
 ],
 "metadata": {
  "kernelspec": {
   "display_name": "Python 3 (ipykernel)",
   "language": "python",
   "name": "python3"
  },
  "language_info": {
   "codemirror_mode": {
    "name": "ipython",
    "version": 3
   },
   "file_extension": ".py",
   "mimetype": "text/x-python",
   "name": "python",
   "nbconvert_exporter": "python",
   "pygments_lexer": "ipython3",
   "version": "3.9.5"
  }
 },
 "nbformat": 4,
 "nbformat_minor": 5
}
