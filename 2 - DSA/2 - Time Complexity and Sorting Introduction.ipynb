{
 "cells": [
  {
   "cell_type": "markdown",
   "id": "3bdf834a",
   "metadata": {},
   "source": [
    "<!-- ![FRIDAY AAA](https://pbs.twimg.com/profile_images/1416777023398170624/j0ZFsHBt_400x400.jpg) -->\n",
    "\n",
    "HAPPY FRIDAY EVERYONE!"
   ]
  },
  {
   "cell_type": "code",
   "execution_count": 3,
   "id": "89473b65",
   "metadata": {},
   "outputs": [
    {
     "name": "stdout",
     "output_type": "stream",
     "text": [
      "5 5 5 5 5 \n",
      "5 4 4 4 5 \n",
      "5 4 3 4 5 \n",
      "5 4 4 4 5 \n",
      "5 5 5 5 5 \n"
     ]
    }
   ],
   "source": [
    "n = 5\n",
    "for i in range(n):\n",
    "    for j in range(n):\n",
    "        print(max(i, j, n-1-i, n-1-j)+1, end=\" \")\n",
    "    \n",
    "    print(end=\"\\n\")"
   ]
  },
  {
   "cell_type": "code",
   "execution_count": 4,
   "id": "8e988bc1",
   "metadata": {},
   "outputs": [],
   "source": [
    "def foo(n): # 1\n",
    "    x = 1 # 1 operation\n",
    "    y = 2 # 1\n",
    "    z = 3 # 1\n",
    "    print(n) # 1"
   ]
  },
  {
   "cell_type": "code",
   "execution_count": 7,
   "id": "c823307e",
   "metadata": {},
   "outputs": [
    {
     "name": "stdout",
     "output_type": "stream",
     "text": [
      "1000000\n"
     ]
    }
   ],
   "source": [
    "foo(1000000)"
   ]
  },
  {
   "cell_type": "code",
   "execution_count": 8,
   "id": "281130e7",
   "metadata": {},
   "outputs": [],
   "source": [
    "# The number of oeprations is not dependent on the input variable"
   ]
  },
  {
   "cell_type": "code",
   "execution_count": 10,
   "id": "a5856ad3",
   "metadata": {},
   "outputs": [],
   "source": [
    "# Cost Function\n",
    "# C(foo()) = Constant"
   ]
  },
  {
   "cell_type": "code",
   "execution_count": 25,
   "id": "0d392bb9",
   "metadata": {},
   "outputs": [],
   "source": [
    "def foo(n):\n",
    "    x = 1\n",
    "    y = 2\n",
    "    for i in range(n):\n",
    "        print(i)"
   ]
  },
  {
   "cell_type": "code",
   "execution_count": 26,
   "id": "01a63391",
   "metadata": {},
   "outputs": [
    {
     "name": "stdout",
     "output_type": "stream",
     "text": [
      "0\n",
      "1\n",
      "2\n",
      "3\n",
      "4\n"
     ]
    }
   ],
   "source": [
    "foo(5)"
   ]
  },
  {
   "cell_type": "code",
   "execution_count": 27,
   "id": "da64c97b",
   "metadata": {},
   "outputs": [
    {
     "data": {
      "text/plain": [
       "'\\nC(f(x)) = x + c\\n'"
      ]
     },
     "execution_count": 27,
     "metadata": {},
     "output_type": "execute_result"
    }
   ],
   "source": [
    "# Cost Function\n",
    "# C(foo()) = Linear\n",
    "\n",
    "'''\n",
    "C(f(x)) = x + c\n",
    "'''"
   ]
  },
  {
   "cell_type": "code",
   "execution_count": 20,
   "id": "95767bb8",
   "metadata": {},
   "outputs": [],
   "source": [
    "def foo(n):\n",
    "    for i in range(n):\n",
    "        for j in range(n):\n",
    "            print(\"WOW!\")"
   ]
  },
  {
   "cell_type": "code",
   "execution_count": 23,
   "id": "0aa0daf0",
   "metadata": {},
   "outputs": [],
   "source": [
    "# Cost Function\n",
    "# C(foo()) = Parabolic"
   ]
  },
  {
   "cell_type": "code",
   "execution_count": 24,
   "id": "ed519a22",
   "metadata": {},
   "outputs": [],
   "source": [
    "# C(f(x)) = x^n + x^m + x + c..."
   ]
  },
  {
   "cell_type": "code",
   "execution_count": 29,
   "id": "b4f50b3f",
   "metadata": {},
   "outputs": [
    {
     "name": "stdout",
     "output_type": "stream",
     "text": [
      "WOW!\n",
      "WOW!\n",
      "WOW!\n",
      "WOW!\n"
     ]
    }
   ],
   "source": [
    "for i in range(2):\n",
    "    for j in range(2):\n",
    "        print(\"WOW!\")"
   ]
  },
  {
   "cell_type": "code",
   "execution_count": 30,
   "id": "2c8c5d18",
   "metadata": {},
   "outputs": [
    {
     "data": {
      "text/plain": [
       "1"
      ]
     },
     "execution_count": 30,
     "metadata": {},
     "output_type": "execute_result"
    }
   ],
   "source": [
    "int(True)"
   ]
  },
  {
   "cell_type": "code",
   "execution_count": 31,
   "id": "cda71940",
   "metadata": {},
   "outputs": [
    {
     "name": "stdout",
     "output_type": "stream",
     "text": [
      "JavaScript and TypeScript\n"
     ]
    }
   ],
   "source": [
    "random = {}\n",
    "random[1.1] = \"JavaScript\"\n",
    "random[1.0] = \"Python\"\n",
    "random[1] = \"C++\"\n",
    "random[True] = \"JAVA\"\n",
    "random[1+0j] = \"TypeScript\"\n",
    "\n",
    "print(f\"{random[1.1]} and {random[True]}\")"
   ]
  },
  {
   "cell_type": "code",
   "execution_count": 32,
   "id": "4a3f31f7",
   "metadata": {},
   "outputs": [
    {
     "data": {
      "text/plain": [
       "['weirdamI']"
      ]
     },
     "execution_count": 32,
     "metadata": {},
     "output_type": "execute_result"
    }
   ],
   "source": [
    "[ i+j+k for k in [\"I\"] for j in [\"am\"] for i in [\"weird\"] ]"
   ]
  },
  {
   "cell_type": "code",
   "execution_count": 41,
   "id": "f60f4f0b",
   "metadata": {},
   "outputs": [
    {
     "data": {
      "text/plain": [
       "'\\nO(n^2)\\nOmega(n)\\n'"
      ]
     },
     "execution_count": 41,
     "metadata": {},
     "output_type": "execute_result"
    }
   ],
   "source": [
    "def bubble_sort(a):\n",
    "    for i in range(len(a)):\n",
    "        for j in range(i, len(a)-1):\n",
    "            if a[j] > a[j+1]:\n",
    "                a[j], a[j+1] = a[j+1], a[j]\n",
    "                \n",
    "    return a\n",
    "\n",
    "'''\n",
    "O(n^2)\n",
    "Omega(n)\n",
    "'''"
   ]
  },
  {
   "cell_type": "code",
   "execution_count": 42,
   "id": "ea4c44ac",
   "metadata": {},
   "outputs": [],
   "source": [
    "a = [5,1,2,4,7,3]"
   ]
  },
  {
   "cell_type": "code",
   "execution_count": 43,
   "id": "6426d143",
   "metadata": {},
   "outputs": [
    {
     "data": {
      "text/plain": [
       "[1, 2, 3, 4, 5, 7]"
      ]
     },
     "execution_count": 43,
     "metadata": {},
     "output_type": "execute_result"
    }
   ],
   "source": [
    "bubble_sort(a)"
   ]
  },
  {
   "cell_type": "code",
   "execution_count": 45,
   "id": "11fbc510",
   "metadata": {},
   "outputs": [],
   "source": [
    "# HOMEWORK\n",
    "# 1. THIS IS INCORRECT SLIGHTLY\n",
    "# 2. THIS IS NOT THE OPTIMAL BUBBLE SORT"
   ]
  },
  {
   "cell_type": "code",
   "execution_count": 17,
   "id": "db7f7f1f",
   "metadata": {},
   "outputs": [],
   "source": [
    "def bubble_sort(a):\n",
    "    counter = 0\n",
    "    \n",
    "    for i in range(len(a)-1):\n",
    "        for j in range(len(a)-i-1):\n",
    "            counter += 1\n",
    "            \n",
    "            if a[j] > a[j+1]:\n",
    "                a[j], a[j+1] = a[j+1], a[j]\n",
    "                \n",
    "    print(counter)\n",
    "    return a"
   ]
  },
  {
   "cell_type": "code",
   "execution_count": 25,
   "id": "b3b38f16",
   "metadata": {},
   "outputs": [],
   "source": [
    "def optimised_bubble_sort(a):\n",
    "    counter = 0\n",
    "    \n",
    "    for i in range(len(a)-1):\n",
    "        is_sorted = True\n",
    "        \n",
    "        for j in range(len(a)-i-1):\n",
    "            counter += 1\n",
    "            \n",
    "            if a[j] > a[j+1]:\n",
    "                a[j], a[j+1] = a[j+1], a[j]\n",
    "                is_sorted = False\n",
    "                \n",
    "        if is_sorted == True:\n",
    "            break\n",
    "                \n",
    "    print(counter)\n",
    "    return a"
   ]
  },
  {
   "cell_type": "code",
   "execution_count": 19,
   "id": "053488db",
   "metadata": {},
   "outputs": [],
   "source": [
    "a = [5,4,1,2,7,8,0,10]"
   ]
  },
  {
   "cell_type": "code",
   "execution_count": 20,
   "id": "607fcc95",
   "metadata": {},
   "outputs": [
    {
     "name": "stdout",
     "output_type": "stream",
     "text": [
      "28\n"
     ]
    },
    {
     "data": {
      "text/plain": [
       "[0, 1, 2, 4, 5, 7, 8, 10]"
      ]
     },
     "execution_count": 20,
     "metadata": {},
     "output_type": "execute_result"
    }
   ],
   "source": [
    "bubble_sort(a)"
   ]
  },
  {
   "cell_type": "code",
   "execution_count": 21,
   "id": "1ee153d1",
   "metadata": {},
   "outputs": [],
   "source": [
    "a = [1,2,3,4,5]"
   ]
  },
  {
   "cell_type": "code",
   "execution_count": 22,
   "id": "a7421457",
   "metadata": {},
   "outputs": [
    {
     "name": "stdout",
     "output_type": "stream",
     "text": [
      "10\n"
     ]
    },
    {
     "data": {
      "text/plain": [
       "[1, 2, 3, 4, 5]"
      ]
     },
     "execution_count": 22,
     "metadata": {},
     "output_type": "execute_result"
    }
   ],
   "source": [
    "bubble_sort(a)"
   ]
  },
  {
   "cell_type": "code",
   "execution_count": 23,
   "id": "11d54cbc",
   "metadata": {},
   "outputs": [
    {
     "name": "stdout",
     "output_type": "stream",
     "text": [
      "4\n"
     ]
    },
    {
     "data": {
      "text/plain": [
       "[1, 2, 3, 4, 5]"
      ]
     },
     "execution_count": 23,
     "metadata": {},
     "output_type": "execute_result"
    }
   ],
   "source": [
    "optimised_bubble_sort(a)"
   ]
  },
  {
   "cell_type": "code",
   "execution_count": 24,
   "id": "8eb3fccf",
   "metadata": {},
   "outputs": [
    {
     "data": {
      "text/plain": [
       "'\\nOmega (Best case time complexity) -> Already sorted list\\nOmega(n)\\n'"
      ]
     },
     "execution_count": 24,
     "metadata": {},
     "output_type": "execute_result"
    }
   ],
   "source": [
    "'''\n",
    "Omega (Best case time complexity) -> Already sorted list\n",
    "Omega(n)\n",
    "'''"
   ]
  },
  {
   "cell_type": "code",
   "execution_count": null,
   "id": "09962779",
   "metadata": {},
   "outputs": [],
   "source": []
  }
 ],
 "metadata": {
  "kernelspec": {
   "display_name": "Python 3 (ipykernel)",
   "language": "python",
   "name": "python3"
  },
  "language_info": {
   "codemirror_mode": {
    "name": "ipython",
    "version": 3
   },
   "file_extension": ".py",
   "mimetype": "text/x-python",
   "name": "python",
   "nbconvert_exporter": "python",
   "pygments_lexer": "ipython3",
   "version": "3.9.5"
  }
 },
 "nbformat": 4,
 "nbformat_minor": 5
}
