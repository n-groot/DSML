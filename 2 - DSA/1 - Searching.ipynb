{
 "cells": [
  {
   "cell_type": "code",
   "execution_count": 1,
   "id": "14144036",
   "metadata": {},
   "outputs": [],
   "source": [
    "avengers = [\n",
    "    'bruce',\n",
    "    {\n",
    "        'foo': 1,\n",
    "        'bar':\n",
    "        {\n",
    "            'z' : 30\n",
    "        },\n",
    "        'baz': 3\n",
    "    }\n",
    "]"
   ]
  },
  {
   "cell_type": "code",
   "execution_count": 2,
   "id": "372b8cce",
   "metadata": {},
   "outputs": [
    {
     "data": {
      "text/plain": [
       "30"
      ]
     },
     "execution_count": 2,
     "metadata": {},
     "output_type": "execute_result"
    }
   ],
   "source": [
    "avengers[1][\"bar\"][\"z\"]"
   ]
  },
  {
   "cell_type": "code",
   "execution_count": 3,
   "id": "323741c2",
   "metadata": {},
   "outputs": [
    {
     "data": {
      "text/plain": [
       "30"
      ]
     },
     "execution_count": 3,
     "metadata": {},
     "output_type": "execute_result"
    }
   ],
   "source": [
    "avengers[1].get(\"bar\").get(\"z\")"
   ]
  },
  {
   "cell_type": "code",
   "execution_count": 4,
   "id": "1ecad22c",
   "metadata": {},
   "outputs": [
    {
     "data": {
      "text/plain": [
       "30"
      ]
     },
     "execution_count": 4,
     "metadata": {},
     "output_type": "execute_result"
    }
   ],
   "source": [
    "avengers.pop(1)[\"bar\"].get(\"z\")"
   ]
  },
  {
   "cell_type": "code",
   "execution_count": 5,
   "id": "766f8d7f",
   "metadata": {},
   "outputs": [
    {
     "ename": "TypeError",
     "evalue": "'>' not supported between instances of 'str' and 'int'",
     "output_type": "error",
     "traceback": [
      "\u001b[0;31m---------------------------------------------------------------------------\u001b[0m",
      "\u001b[0;31mTypeError\u001b[0m                                 Traceback (most recent call last)",
      "\u001b[0;32m/var/folders/nn/c52y0d3j0gq59dpsswchkt2r0000gn/T/ipykernel_74004/3800346913.py\u001b[0m in \u001b[0;36m<module>\u001b[0;34m\u001b[0m\n\u001b[1;32m      2\u001b[0m \u001b[0mb\u001b[0m \u001b[0;34m=\u001b[0m \u001b[0;34m(\u001b[0m\u001b[0;36m1\u001b[0m\u001b[0;34m,\u001b[0m\u001b[0;36m2\u001b[0m\u001b[0;34m,\u001b[0m\u001b[0;36m3\u001b[0m\u001b[0;34m,\u001b[0m\u001b[0;36m4\u001b[0m\u001b[0;34m)\u001b[0m\u001b[0;34m\u001b[0m\u001b[0;34m\u001b[0m\u001b[0m\n\u001b[1;32m      3\u001b[0m \u001b[0;34m\u001b[0m\u001b[0m\n\u001b[0;32m----> 4\u001b[0;31m \u001b[0mprint\u001b[0m\u001b[0;34m(\u001b[0m\u001b[0ma\u001b[0m \u001b[0;34m>\u001b[0m \u001b[0mb\u001b[0m\u001b[0;34m)\u001b[0m\u001b[0;34m\u001b[0m\u001b[0;34m\u001b[0m\u001b[0m\n\u001b[0m",
      "\u001b[0;31mTypeError\u001b[0m: '>' not supported between instances of 'str' and 'int'"
     ]
    }
   ],
   "source": [
    "a = (1,2,3,'5')\n",
    "b = (1,2,3,4)\n",
    "\n",
    "print(a > b)"
   ]
  },
  {
   "cell_type": "code",
   "execution_count": 19,
   "id": "f573f6ee",
   "metadata": {},
   "outputs": [],
   "source": [
    "a = [1,2,3,4,5,5,5,5,5,5,5,6,7,8,9]"
   ]
  },
  {
   "cell_type": "code",
   "execution_count": 7,
   "id": "c1d4498c",
   "metadata": {},
   "outputs": [],
   "source": [
    "target = 5"
   ]
  },
  {
   "cell_type": "code",
   "execution_count": 8,
   "id": "2eebd213",
   "metadata": {},
   "outputs": [],
   "source": [
    "enumerated_a = list(enumerate(a))"
   ]
  },
  {
   "cell_type": "code",
   "execution_count": 9,
   "id": "5c8c3763",
   "metadata": {},
   "outputs": [
    {
     "data": {
      "text/plain": [
       "[(0, 1), (1, 2), (2, 3), (3, 4), (4, 5), (5, 6), (6, 7), (7, 8), (8, 9)]"
      ]
     },
     "execution_count": 9,
     "metadata": {},
     "output_type": "execute_result"
    }
   ],
   "source": [
    "enumerated_a"
   ]
  },
  {
   "cell_type": "code",
   "execution_count": 11,
   "id": "c08f649e",
   "metadata": {},
   "outputs": [],
   "source": [
    "random = [\"a\",\"b\",\"c\"]"
   ]
  },
  {
   "cell_type": "code",
   "execution_count": 12,
   "id": "2c2540dc",
   "metadata": {},
   "outputs": [],
   "source": [
    "r1 = enumerate(random)"
   ]
  },
  {
   "cell_type": "code",
   "execution_count": 13,
   "id": "060305d9",
   "metadata": {},
   "outputs": [
    {
     "data": {
      "text/plain": [
       "<enumerate at 0x7f9180fbe880>"
      ]
     },
     "execution_count": 13,
     "metadata": {},
     "output_type": "execute_result"
    }
   ],
   "source": [
    "r1"
   ]
  },
  {
   "cell_type": "code",
   "execution_count": 14,
   "id": "c9081726",
   "metadata": {},
   "outputs": [
    {
     "data": {
      "text/plain": [
       "[(0, 'a'), (1, 'b'), (2, 'c')]"
      ]
     },
     "execution_count": 14,
     "metadata": {},
     "output_type": "execute_result"
    }
   ],
   "source": [
    "list(r1)"
   ]
  },
  {
   "cell_type": "code",
   "execution_count": 20,
   "id": "17273cc8",
   "metadata": {},
   "outputs": [],
   "source": [
    "def linear_search(a, target):\n",
    "    for index, value in enumerate(a):\n",
    "        if value == target:\n",
    "            return index\n",
    "        \n",
    "    return -1"
   ]
  },
  {
   "cell_type": "code",
   "execution_count": 21,
   "id": "984f8328",
   "metadata": {},
   "outputs": [
    {
     "data": {
      "text/plain": [
       "[1, 2, 3, 4, 5, 5, 5, 5, 5, 5, 5, 6, 7, 8, 9]"
      ]
     },
     "execution_count": 21,
     "metadata": {},
     "output_type": "execute_result"
    }
   ],
   "source": [
    "a"
   ]
  },
  {
   "cell_type": "code",
   "execution_count": 23,
   "id": "d4295270",
   "metadata": {},
   "outputs": [
    {
     "data": {
      "text/plain": [
       "4"
      ]
     },
     "execution_count": 23,
     "metadata": {},
     "output_type": "execute_result"
    }
   ],
   "source": [
    "linear_search(a,5)"
   ]
  },
  {
   "cell_type": "code",
   "execution_count": 42,
   "id": "5e96e3f4",
   "metadata": {},
   "outputs": [],
   "source": [
    "def binary_search(a, target):\n",
    "    start = 0\n",
    "    end = len(a)-1\n",
    "    \n",
    "    while start <= end:\n",
    "        mid = (start + end)//2\n",
    "        \n",
    "        print(f\"Start = {start}, End = {end}, Mid = {mid}\")\n",
    "        print(f\"List = {a[start:end+1]}\")\n",
    "        print(\"-\"*50)\n",
    "        \n",
    "        if a[mid] == target:\n",
    "            return mid\n",
    "        elif a[mid] > target:\n",
    "            end = mid - 1\n",
    "        else:\n",
    "            start = mid + 1\n",
    "            \n",
    "    return -1"
   ]
  },
  {
   "cell_type": "code",
   "execution_count": 43,
   "id": "7f91fab6",
   "metadata": {},
   "outputs": [],
   "source": [
    "a = list(range(1,11))"
   ]
  },
  {
   "cell_type": "code",
   "execution_count": 44,
   "id": "b70ddf3a",
   "metadata": {},
   "outputs": [
    {
     "data": {
      "text/plain": [
       "[1, 2, 3, 4, 5, 6, 7, 8, 9, 10]"
      ]
     },
     "execution_count": 44,
     "metadata": {},
     "output_type": "execute_result"
    }
   ],
   "source": [
    "a"
   ]
  },
  {
   "cell_type": "code",
   "execution_count": 45,
   "id": "c2ac37e2",
   "metadata": {},
   "outputs": [
    {
     "name": "stdout",
     "output_type": "stream",
     "text": [
      "Start = 0, End = 9, Mid = 4\n",
      "List = [1, 2, 3, 4, 5, 6, 7, 8, 9, 10]\n",
      "--------------------------------------------------\n",
      "Start = 5, End = 9, Mid = 7\n",
      "List = [6, 7, 8, 9, 10]\n",
      "--------------------------------------------------\n",
      "Start = 8, End = 9, Mid = 8\n",
      "List = [9, 10]\n",
      "--------------------------------------------------\n",
      "Start = 9, End = 9, Mid = 9\n",
      "List = [10]\n",
      "--------------------------------------------------\n"
     ]
    },
    {
     "data": {
      "text/plain": [
       "9"
      ]
     },
     "execution_count": 45,
     "metadata": {},
     "output_type": "execute_result"
    }
   ],
   "source": [
    "binary_search(a, 10)"
   ]
  },
  {
   "cell_type": "code",
   "execution_count": 46,
   "id": "0efc6e9b",
   "metadata": {},
   "outputs": [],
   "source": [
    "# HOMEWORK\n",
    "# LOG!"
   ]
  },
  {
   "cell_type": "code",
   "execution_count": 47,
   "id": "44c272a4",
   "metadata": {},
   "outputs": [],
   "source": [
    "t1 = (1,2)\n",
    "t2 = (1,2)"
   ]
  },
  {
   "cell_type": "code",
   "execution_count": 48,
   "id": "742c9cfb",
   "metadata": {},
   "outputs": [
    {
     "data": {
      "text/plain": [
       "False"
      ]
     },
     "execution_count": 48,
     "metadata": {},
     "output_type": "execute_result"
    }
   ],
   "source": [
    "id(t1) == id(t2)"
   ]
  },
  {
   "cell_type": "code",
   "execution_count": null,
   "id": "357da812",
   "metadata": {},
   "outputs": [],
   "source": []
  }
 ],
 "metadata": {
  "kernelspec": {
   "display_name": "Python 3 (ipykernel)",
   "language": "python",
   "name": "python3"
  },
  "language_info": {
   "codemirror_mode": {
    "name": "ipython",
    "version": 3
   },
   "file_extension": ".py",
   "mimetype": "text/x-python",
   "name": "python",
   "nbconvert_exporter": "python",
   "pygments_lexer": "ipython3",
   "version": "3.9.5"
  }
 },
 "nbformat": 4,
 "nbformat_minor": 5
}
