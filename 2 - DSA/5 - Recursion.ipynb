{
 "cells": [
  {
   "cell_type": "code",
   "execution_count": 1,
   "id": "2fec5d49",
   "metadata": {},
   "outputs": [],
   "source": [
    "def factorial(n):\n",
    "    if n < 0:\n",
    "        return \"Factorial only defined on positive integers!\"\n",
    "    \n",
    "    if n == 1 or n == 0:\n",
    "        return 1\n",
    "    \n",
    "    result = factorial(n-1)\n",
    "    \n",
    "    return n * result"
   ]
  },
  {
   "cell_type": "code",
   "execution_count": 4,
   "id": "8aec5c2d",
   "metadata": {},
   "outputs": [
    {
     "data": {
      "text/plain": [
       "402387260077093773543702433923003985719374864210714632543799910429938512398629020592044208486969404800479988610197196058631666872994808558901323829669944590997424504087073759918823627727188732519779505950995276120874975462497043601418278094646496291056393887437886487337119181045825783647849977012476632889835955735432513185323958463075557409114262417474349347553428646576611667797396668820291207379143853719588249808126867838374559731746136085379534524221586593201928090878297308431392844403281231558611036976801357304216168747609675871348312025478589320767169132448426236131412508780208000261683151027341827977704784635868170164365024153691398281264810213092761244896359928705114964975419909342221566832572080821333186116811553615836546984046708975602900950537616475847728421889679646244945160765353408198901385442487984959953319101723355556602139450399736280750137837615307127761926849034352625200015888535147331611702103968175921510907788019393178114194545257223865541461062892187960223838971476088506276862967146674697562911234082439208160153780889893964518263243671616762179168909779911903754031274622289988005195444414282012187361745992642956581746628302955570299024324153181617210465832036786906117260158783520751516284225540265170483304226143974286933061690897968482590125458327168226458066526769958652682272807075781391858178889652208164348344825993266043367660176999612831860788386150279465955131156552036093988180612138558600301435694527224206344631797460594682573103790084024432438465657245014402821885252470935190620929023136493273497565513958720559654228749774011413346962715422845862377387538230483865688976461927383814900140767310446640259899490222221765904339901886018566526485061799702356193897017860040811889729918311021171229845901641921068884387121855646124960798722908519296819372388642614839657382291123125024186649353143970137428531926649875337218940694281434118520158014123344828015051399694290153483077644569099073152433278288269864602789864321139083506217095002597389863554277196742822248757586765752344220207573630569498825087968928162753848863396909959826280956121450994871701244516461260379029309120889086942028510640182154399457156805941872748998094254742173582401063677404595741785160829230135358081840096996372524230560855903700624271243416909004153690105933983835777939410970027753472000000000000000000000000000000000000000000000000000000000000000000000000000000000000000000000000000000000000000000000000000000000000000000000000000000000000000000000000000000000000000000000000000000000000000000000000000000000000000000000000000000000"
      ]
     },
     "execution_count": 4,
     "metadata": {},
     "output_type": "execute_result"
    }
   ],
   "source": [
    "factorial(1000)"
   ]
  },
  {
   "cell_type": "code",
   "execution_count": 3,
   "id": "b4822df1",
   "metadata": {},
   "outputs": [
    {
     "data": {
      "text/plain": [
       "120"
      ]
     },
     "execution_count": 3,
     "metadata": {},
     "output_type": "execute_result"
    }
   ],
   "source": [
    "factorial(5)"
   ]
  },
  {
   "cell_type": "code",
   "execution_count": 13,
   "id": "b3871ec2",
   "metadata": {},
   "outputs": [],
   "source": [
    "def merge_sort(a):\n",
    "    # Base condition\n",
    "    if len(a) <= 1:\n",
    "        return a\n",
    "    \n",
    "    n = len(a)\n",
    "    \n",
    "    # Splitting Logic\n",
    "    left = merge_sort(a[:n//2])\n",
    "    right = merge_sort(a[n//2:])\n",
    "    \n",
    "    print(f\"left -> {left}\")\n",
    "    print(f\"right -> {right}\")\n",
    "    \n",
    "    # Merging Logic\n",
    "    i, j = 0, 0\n",
    "    result = []\n",
    "    \n",
    "    while i < len(left) and j < len(right):\n",
    "        if left[i] <= right[j]:\n",
    "            result.append(left[i])\n",
    "            i += 1\n",
    "        else:\n",
    "            result.append(right[j])\n",
    "            j += 1\n",
    "            \n",
    "    if i < len(left):\n",
    "        result += left[i:]\n",
    "    elif j < len(right):\n",
    "        result += right[j:]\n",
    "        \n",
    "    return result"
   ]
  },
  {
   "cell_type": "code",
   "execution_count": 14,
   "id": "2af788d5",
   "metadata": {},
   "outputs": [],
   "source": [
    "a = [4,5,6,1,2,9,0,7,8,11]"
   ]
  },
  {
   "cell_type": "code",
   "execution_count": 15,
   "id": "8a312c76",
   "metadata": {},
   "outputs": [
    {
     "name": "stdout",
     "output_type": "stream",
     "text": [
      "left -> [4]\n",
      "right -> [5]\n",
      "left -> [1]\n",
      "right -> [2]\n",
      "left -> [6]\n",
      "right -> [1, 2]\n",
      "left -> [4, 5]\n",
      "right -> [1, 2, 6]\n",
      "left -> [9]\n",
      "right -> [0]\n",
      "left -> [8]\n",
      "right -> [11]\n",
      "left -> [7]\n",
      "right -> [8, 11]\n",
      "left -> [0, 9]\n",
      "right -> [7, 8, 11]\n",
      "left -> [1, 2, 4, 5, 6]\n",
      "right -> [0, 7, 8, 9, 11]\n"
     ]
    },
    {
     "data": {
      "text/plain": [
       "[0, 1, 2, 4, 5, 6, 7, 8, 9, 11]"
      ]
     },
     "execution_count": 15,
     "metadata": {},
     "output_type": "execute_result"
    }
   ],
   "source": [
    "merge_sort(a)"
   ]
  },
  {
   "cell_type": "code",
   "execution_count": 19,
   "id": "da3cdd92",
   "metadata": {},
   "outputs": [],
   "source": [
    "a = [1,2,3,4,5,6]"
   ]
  },
  {
   "cell_type": "code",
   "execution_count": 22,
   "id": "a7585b36",
   "metadata": {},
   "outputs": [],
   "source": [
    "def solve(a):\n",
    "    if len(a) == 1:\n",
    "        return a\n",
    "    \n",
    "    result = a[::2]\n",
    "    \n",
    "    return result + solve(a[1::2])"
   ]
  },
  {
   "cell_type": "code",
   "execution_count": 23,
   "id": "2a17d610",
   "metadata": {},
   "outputs": [
    {
     "data": {
      "text/plain": [
       "[1, 3, 5, 2, 6, 4]"
      ]
     },
     "execution_count": 23,
     "metadata": {},
     "output_type": "execute_result"
    }
   ],
   "source": [
    "solve(a)"
   ]
  },
  {
   "cell_type": "code",
   "execution_count": 24,
   "id": "a0bcee9a",
   "metadata": {},
   "outputs": [
    {
     "data": {
      "text/plain": [
       "True"
      ]
     },
     "execution_count": 24,
     "metadata": {},
     "output_type": "execute_result"
    }
   ],
   "source": [
    "\"bipin\" < \"kalra\""
   ]
  },
  {
   "cell_type": "code",
   "execution_count": 1,
   "id": "c4c3d1db",
   "metadata": {},
   "outputs": [],
   "source": [
    "arr = [(1,2),(2,3),(2,3),(1,2),(5,6)]"
   ]
  },
  {
   "cell_type": "code",
   "execution_count": 3,
   "id": "18562ba2",
   "metadata": {},
   "outputs": [],
   "source": [
    "random = list(enumerate(arr))"
   ]
  },
  {
   "cell_type": "code",
   "execution_count": 4,
   "id": "76af4494",
   "metadata": {},
   "outputs": [
    {
     "data": {
      "text/plain": [
       "[(0, (1, 2)), (1, (2, 3)), (2, (2, 3)), (3, (1, 2)), (4, (5, 6))]"
      ]
     },
     "execution_count": 4,
     "metadata": {},
     "output_type": "execute_result"
    }
   ],
   "source": [
    "random"
   ]
  },
  {
   "cell_type": "code",
   "execution_count": 2,
   "id": "ab54bb62",
   "metadata": {},
   "outputs": [
    {
     "data": {
      "text/plain": [
       "[(1, 2), (2, 3), (5, 6)]"
      ]
     },
     "execution_count": 2,
     "metadata": {},
     "output_type": "execute_result"
    }
   ],
   "source": [
    "[ (a,b) for i, [a,b] in enumerate(arr) if not any ((d==b and a==c) for c, d in arr[ :i])] "
   ]
  },
  {
   "cell_type": "code",
   "execution_count": 8,
   "id": "b1c5d395",
   "metadata": {},
   "outputs": [
    {
     "data": {
      "text/plain": [
       "True"
      ]
     },
     "execution_count": 8,
     "metadata": {},
     "output_type": "execute_result"
    }
   ],
   "source": [
    "any([1,False,0])"
   ]
  },
  {
   "cell_type": "code",
   "execution_count": 14,
   "id": "48427e46",
   "metadata": {},
   "outputs": [],
   "source": [
    "# [(1,2),(2,3),(2,3),(1,2),(5,6)]\n",
    "\n",
    "def do_something(arr):\n",
    "    outer_list = []\n",
    "    for i, [a,b] in enumerate(arr):\n",
    "        inner_list = []\n",
    "        for c,d in arr[:i]:\n",
    "            inner_list.append(d==b and a==c)\n",
    "        \n",
    "        print(inner_list)\n",
    "        if not any(inner_list):\n",
    "            outer_list.append((a,b))\n",
    "            \n",
    "    return outer_list"
   ]
  },
  {
   "cell_type": "code",
   "execution_count": 13,
   "id": "98a38ec5",
   "metadata": {},
   "outputs": [
    {
     "name": "stdout",
     "output_type": "stream",
     "text": [
      "[]\n",
      "[False]\n",
      "[False, True]\n",
      "[True, False, False]\n",
      "[False, False, False, False]\n"
     ]
    },
    {
     "data": {
      "text/plain": [
       "[(1, 2), (2, 3), (5, 6)]"
      ]
     },
     "execution_count": 13,
     "metadata": {},
     "output_type": "execute_result"
    }
   ],
   "source": [
    "do_something(arr)"
   ]
  },
  {
   "cell_type": "code",
   "execution_count": null,
   "id": "7cc95d6f",
   "metadata": {},
   "outputs": [],
   "source": []
  }
 ],
 "metadata": {
  "kernelspec": {
   "display_name": "Python 3 (ipykernel)",
   "language": "python",
   "name": "python3"
  },
  "language_info": {
   "codemirror_mode": {
    "name": "ipython",
    "version": 3
   },
   "file_extension": ".py",
   "mimetype": "text/x-python",
   "name": "python",
   "nbconvert_exporter": "python",
   "pygments_lexer": "ipython3",
   "version": "3.9.5"
  }
 },
 "nbformat": 4,
 "nbformat_minor": 5
}
