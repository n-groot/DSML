{
 "cells": [
  {
   "cell_type": "code",
   "execution_count": 29,
   "id": "303c0f76",
   "metadata": {},
   "outputs": [],
   "source": [
    "def selection_sort(a):\n",
    "    for i in range(len(a)-1):\n",
    "        min_index = i\n",
    "        \n",
    "        print(a)\n",
    "        print(\"-\"*50)\n",
    "        \n",
    "        for j in range(i+1, len(a)):\n",
    "            if a[min_index] > a[j]:\n",
    "                min_index = j\n",
    "                \n",
    "        if min_index != i:\n",
    "            a[i], a[min_index] = a[min_index], a[i]\n",
    "            \n",
    "    return a"
   ]
  },
  {
   "cell_type": "code",
   "execution_count": 30,
   "id": "ec647c74",
   "metadata": {},
   "outputs": [],
   "source": [
    "a = [4,5,3,2,1,0,10,9,6]"
   ]
  },
  {
   "cell_type": "code",
   "execution_count": 31,
   "id": "c05e1acb",
   "metadata": {},
   "outputs": [
    {
     "name": "stdout",
     "output_type": "stream",
     "text": [
      "[4, 5, 3, 2, 1, 0, 10, 9, 6]\n",
      "--------------------------------------------------\n",
      "[0, 5, 3, 2, 1, 4, 10, 9, 6]\n",
      "--------------------------------------------------\n",
      "[0, 1, 3, 2, 5, 4, 10, 9, 6]\n",
      "--------------------------------------------------\n",
      "[0, 1, 2, 3, 5, 4, 10, 9, 6]\n",
      "--------------------------------------------------\n",
      "[0, 1, 2, 3, 5, 4, 10, 9, 6]\n",
      "--------------------------------------------------\n",
      "[0, 1, 2, 3, 4, 5, 10, 9, 6]\n",
      "--------------------------------------------------\n",
      "[0, 1, 2, 3, 4, 5, 10, 9, 6]\n",
      "--------------------------------------------------\n",
      "[0, 1, 2, 3, 4, 5, 6, 9, 10]\n",
      "--------------------------------------------------\n"
     ]
    },
    {
     "data": {
      "text/plain": [
       "[0, 1, 2, 3, 4, 5, 6, 9, 10]"
      ]
     },
     "execution_count": 31,
     "metadata": {},
     "output_type": "execute_result"
    }
   ],
   "source": [
    "selection_sort(a)"
   ]
  },
  {
   "cell_type": "code",
   "execution_count": 32,
   "id": "a2a8ee4e",
   "metadata": {},
   "outputs": [
    {
     "data": {
      "text/plain": [
       "'\\nO(n^2)\\nOmega(n^2)\\n'"
      ]
     },
     "execution_count": 32,
     "metadata": {},
     "output_type": "execute_result"
    }
   ],
   "source": [
    "'''\n",
    "O(n^2)\n",
    "Omega(n^2)\n",
    "'''"
   ]
  },
  {
   "cell_type": "code",
   "execution_count": 42,
   "id": "0e247b10",
   "metadata": {},
   "outputs": [],
   "source": [
    "def insertion_sort(a):\n",
    "    for i in range(1, len(a)):\n",
    "        index_to_insert = i\n",
    "        j = i - 1\n",
    "        \n",
    "        print(a[:index_to_insert], \"|\", a[index_to_insert:])\n",
    "        print(\"-\"*50)\n",
    "        \n",
    "        while j >= 0:\n",
    "            if a[j] < a[index_to_insert]:\n",
    "                break\n",
    "            \n",
    "            a[j], a[index_to_insert] = a[index_to_insert], a[j]\n",
    "            index_to_insert = j\n",
    "            j -= 1\n",
    "            \n",
    "    \n",
    "    return a"
   ]
  },
  {
   "cell_type": "code",
   "execution_count": 43,
   "id": "5672d523",
   "metadata": {},
   "outputs": [],
   "source": [
    "a = [4,5,1,3,2]"
   ]
  },
  {
   "cell_type": "code",
   "execution_count": 44,
   "id": "5b62ba8c",
   "metadata": {},
   "outputs": [
    {
     "name": "stdout",
     "output_type": "stream",
     "text": [
      "[4] | [5, 1, 3, 2]\n",
      "--------------------------------------------------\n",
      "[4, 5] | [1, 3, 2]\n",
      "--------------------------------------------------\n",
      "[1, 4, 5] | [3, 2]\n",
      "--------------------------------------------------\n",
      "[1, 3, 4, 5] | [2]\n",
      "--------------------------------------------------\n"
     ]
    },
    {
     "data": {
      "text/plain": [
       "[1, 2, 3, 4, 5]"
      ]
     },
     "execution_count": 44,
     "metadata": {},
     "output_type": "execute_result"
    }
   ],
   "source": [
    "insertion_sort(a)"
   ]
  },
  {
   "cell_type": "code",
   "execution_count": 45,
   "id": "a27cb1f2",
   "metadata": {},
   "outputs": [],
   "source": [
    "a = [9,7,5,6,3,2,1,0,10]"
   ]
  },
  {
   "cell_type": "code",
   "execution_count": 46,
   "id": "fbff6aa0",
   "metadata": {},
   "outputs": [
    {
     "name": "stdout",
     "output_type": "stream",
     "text": [
      "[9, 7, 5, 6, 3, 2, 1, 0, 10]\n",
      "--------------------------------------------------\n",
      "[0, 7, 5, 6, 3, 2, 1, 9, 10]\n",
      "--------------------------------------------------\n",
      "[0, 1, 5, 6, 3, 2, 7, 9, 10]\n",
      "--------------------------------------------------\n",
      "[0, 1, 2, 6, 3, 5, 7, 9, 10]\n",
      "--------------------------------------------------\n",
      "[0, 1, 2, 3, 6, 5, 7, 9, 10]\n",
      "--------------------------------------------------\n",
      "[0, 1, 2, 3, 5, 6, 7, 9, 10]\n",
      "--------------------------------------------------\n",
      "[0, 1, 2, 3, 5, 6, 7, 9, 10]\n",
      "--------------------------------------------------\n",
      "[0, 1, 2, 3, 5, 6, 7, 9, 10]\n",
      "--------------------------------------------------\n"
     ]
    },
    {
     "data": {
      "text/plain": [
       "[0, 1, 2, 3, 5, 6, 7, 9, 10]"
      ]
     },
     "execution_count": 46,
     "metadata": {},
     "output_type": "execute_result"
    }
   ],
   "source": [
    "selection_sort(a)"
   ]
  },
  {
   "cell_type": "code",
   "execution_count": 47,
   "id": "19ce6360",
   "metadata": {},
   "outputs": [],
   "source": [
    "a = [11,9,5,2,3,1,4,7,6]"
   ]
  },
  {
   "cell_type": "code",
   "execution_count": 48,
   "id": "918933f6",
   "metadata": {},
   "outputs": [
    {
     "name": "stdout",
     "output_type": "stream",
     "text": [
      "33\n"
     ]
    },
    {
     "data": {
      "text/plain": [
       "[1, 2, 3, 4, 5, 6, 7, 9, 11]"
      ]
     },
     "execution_count": 48,
     "metadata": {},
     "output_type": "execute_result"
    }
   ],
   "source": [
    "optimised_bubble_sort(a)"
   ]
  },
  {
   "cell_type": "code",
   "execution_count": null,
   "id": "3d925864",
   "metadata": {},
   "outputs": [],
   "source": []
  }
 ],
 "metadata": {
  "kernelspec": {
   "display_name": "Python 3 (ipykernel)",
   "language": "python",
   "name": "python3"
  },
  "language_info": {
   "codemirror_mode": {
    "name": "ipython",
    "version": 3
   },
   "file_extension": ".py",
   "mimetype": "text/x-python",
   "name": "python",
   "nbconvert_exporter": "python",
   "pygments_lexer": "ipython3",
   "version": "3.9.5"
  }
 },
 "nbformat": 4,
 "nbformat_minor": 5
}
