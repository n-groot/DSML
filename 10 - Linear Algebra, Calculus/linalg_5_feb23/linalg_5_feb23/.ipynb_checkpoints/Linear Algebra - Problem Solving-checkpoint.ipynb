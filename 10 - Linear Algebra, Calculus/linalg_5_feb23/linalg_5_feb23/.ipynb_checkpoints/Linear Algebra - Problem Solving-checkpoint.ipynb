{
 "cells": [
  {
   "cell_type": "code",
   "execution_count": 1,
   "id": "ffad6f33",
   "metadata": {},
   "outputs": [],
   "source": [
    "import numpy as np\n",
    "from matplotlib import pyplot as plt"
   ]
  },
  {
   "cell_type": "markdown",
   "id": "4ea8f331",
   "metadata": {},
   "source": [
    "### Obtain a labelled dataset on which to classify"
   ]
  },
  {
   "cell_type": "code",
   "execution_count": 2,
   "id": "7db2774e",
   "metadata": {},
   "outputs": [],
   "source": [
    "from sklearn import datasets"
   ]
  },
  {
   "cell_type": "code",
   "execution_count": 3,
   "id": "f53d9aa3",
   "metadata": {},
   "outputs": [],
   "source": [
    "x, y = datasets.make_blobs(n_samples=200, centers=[[2, 2], [8, 8]], n_features=2, center_box=(0, 10))"
   ]
  },
  {
   "cell_type": "code",
   "execution_count": 4,
   "id": "fe87ef60",
   "metadata": {},
   "outputs": [
    {
     "data": {
      "text/plain": [
       "(200, 2)"
      ]
     },
     "execution_count": 4,
     "metadata": {},
     "output_type": "execute_result"
    }
   ],
   "source": [
    "x.shape"
   ]
  },
  {
   "cell_type": "code",
   "execution_count": 5,
   "id": "0987d99c",
   "metadata": {},
   "outputs": [
    {
     "data": {
      "text/plain": [
       "(200,)"
      ]
     },
     "execution_count": 5,
     "metadata": {},
     "output_type": "execute_result"
    }
   ],
   "source": [
    "y.shape"
   ]
  },
  {
   "cell_type": "code",
   "execution_count": 6,
   "id": "dafe5062",
   "metadata": {},
   "outputs": [],
   "source": [
    "y[y==0] = -1"
   ]
  },
  {
   "cell_type": "markdown",
   "id": "e6385645",
   "metadata": {},
   "source": [
    "### Visualize the data"
   ]
  },
  {
   "cell_type": "code",
   "execution_count": 7,
   "id": "cd129259",
   "metadata": {},
   "outputs": [],
   "source": [
    "def show(w, w0, x, y):\n",
    "    line_x = np.linspace(-5, 10)\n",
    "    line_y = (-w[0]*line_x - w0)/w[1]\n",
    "    plt.plot(line_x, line_y)                        # show h-plane\n",
    "    plt.scatter(x[:, 0], x[:, 1], c=y)\n",
    "    plt.show()"
   ]
  },
  {
   "cell_type": "code",
   "execution_count": 8,
   "id": "a9df2225",
   "metadata": {},
   "outputs": [],
   "source": [
    "w  = np.random.normal(size=(2,))\n",
    "w0 = np.random.normal()"
   ]
  },
  {
   "cell_type": "code",
   "execution_count": 9,
   "id": "65fae9cd",
   "metadata": {},
   "outputs": [
    {
     "data": {
      "image/png": "[encoded data removed]",
      "text/plain": [
       "<Figure size 432x288 with 1 Axes>"
      ]
     },
     "metadata": {
      "needs_background": "light"
     },
     "output_type": "display_data"
    }
   ],
   "source": [
    "show(w, w0, x, y)"
   ]
  },
  {
   "cell_type": "code",
   "execution_count": 10,
   "id": "9650926b",
   "metadata": {},
   "outputs": [
    {
     "data": {
      "text/plain": [
       "array([-1.03812227,  2.20950793])"
      ]
     },
     "execution_count": 10,
     "metadata": {},
     "output_type": "execute_result"
    }
   ],
   "source": [
    "w"
   ]
  },
  {
   "cell_type": "code",
   "execution_count": 11,
   "id": "3ddec866",
   "metadata": {},
   "outputs": [
    {
     "data": {
      "text/plain": [
       "-0.021232710205247415"
      ]
     },
     "execution_count": 11,
     "metadata": {},
     "output_type": "execute_result"
    }
   ],
   "source": [
    "w0"
   ]
  },
  {
   "cell_type": "code",
   "execution_count": 12,
   "id": "f2449b71",
   "metadata": {},
   "outputs": [
    {
     "data": {
      "text/plain": [
       "2.4412339361179867"
      ]
     },
     "execution_count": 12,
     "metadata": {},
     "output_type": "execute_result"
    }
   ],
   "source": [
    "np.linalg.norm(w) ## Calculating the norm of the vector w"
   ]
  },
  {
   "cell_type": "markdown",
   "id": "5efca843",
   "metadata": {},
   "source": [
    "### Implement the perceptron learning algorithm"
   ]
  },
  {
   "cell_type": "code",
   "execution_count": 13,
   "id": "f192b3e0",
   "metadata": {},
   "outputs": [],
   "source": [
    "def dist_point_hyperplane(w, w0, x):\n",
    "    d = (np.dot(w, x) + w0) / np.linalg.norm(w)\n",
    "    return d\n",
    "    \n",
    "def perceptron_learn(x, y, w, w0, num_iter=100):\n",
    "    for i in range(num_iter):\n",
    "        miss_class = 0\n",
    "        for (xi, yi) in zip(x,y):\n",
    "            d = dist_point_hyperplane(w, w0, xi)\n",
    "            hs = np.sign(d)\n",
    "            if hs != np.sign(yi):\n",
    "                miss_class += 1\n",
    "                w = w + (xi * yi)\n",
    "                w0 += np.sign(yi)\n",
    "        show(w, w0, x, y)\n",
    "        if miss_class == 0:\n",
    "            return w, w0\n",
    "    show(w, w0, x, y)\n",
    "    return w, w0"
   ]
  },
  {
   "cell_type": "markdown",
   "id": "38efff7a",
   "metadata": {},
   "source": [
    "### Apply the algorithm to our data"
   ]
  },
  {
   "cell_type": "code",
   "execution_count": 14,
   "id": "0cbac1a9",
   "metadata": {},
   "outputs": [
    {
     "ename": "ValueError",
     "evalue": "The truth value of an array with more than one element is ambiguous. Use a.any() or a.all()",
     "output_type": "error",
     "traceback": [
      "\u001b[0;31m---------------------------------------------------------------------------\u001b[0m",
      "\u001b[0;31mValueError\u001b[0m                                Traceback (most recent call last)",
      "Input \u001b[0;32mIn [14]\u001b[0m, in \u001b[0;36m<cell line: 1>\u001b[0;34m()\u001b[0m\n\u001b[0;32m----> 1\u001b[0m w, w0 \u001b[38;5;241m=\u001b[39m \u001b[43mperceptron_learn\u001b[49m\u001b[43m(\u001b[49m\u001b[43mx\u001b[49m\u001b[43m,\u001b[49m\u001b[43m \u001b[49m\u001b[43my\u001b[49m\u001b[43m,\u001b[49m\u001b[43m \u001b[49m\u001b[43mw\u001b[49m\u001b[43m,\u001b[49m\u001b[43m \u001b[49m\u001b[43mw0\u001b[49m\u001b[43m)\u001b[49m\n",
      "Input \u001b[0;32mIn [13]\u001b[0m, in \u001b[0;36mperceptron_learn\u001b[0;34m(x, y, w, w0, num_iter)\u001b[0m\n\u001b[1;32m      9\u001b[0m d \u001b[38;5;241m=\u001b[39m dist_point_hyperplane(w, w0, xi)\n\u001b[1;32m     10\u001b[0m hs \u001b[38;5;241m=\u001b[39m np\u001b[38;5;241m.\u001b[39msign(d)\n\u001b[0;32m---> 11\u001b[0m \u001b[38;5;28;01mif\u001b[39;00m hs \u001b[38;5;241m!=\u001b[39m np\u001b[38;5;241m.\u001b[39msign(yi):\n\u001b[1;32m     12\u001b[0m     miss_class \u001b[38;5;241m+\u001b[39m\u001b[38;5;241m=\u001b[39m \u001b[38;5;241m1\u001b[39m\n\u001b[1;32m     13\u001b[0m     w \u001b[38;5;241m=\u001b[39m w \u001b[38;5;241m+\u001b[39m (xi \u001b[38;5;241m*\u001b[39m yi)\n",
      "\u001b[0;31mValueError\u001b[0m: The truth value of an array with more than one element is ambiguous. Use a.any() or a.all()"
     ]
    }
   ],
   "source": [
    "w, w0 = perceptron_learn(x, y, w, w0)"
   ]
  },
  {
   "cell_type": "code",
   "execution_count": null,
   "id": "7d7566d0",
   "metadata": {},
   "outputs": [],
   "source": []
  }
 ],
 "metadata": {
  "kernelspec": {
   "display_name": "Python 3 (ipykernel)",
   "language": "python",
   "name": "python3"
  },
  "language_info": {
   "codemirror_mode": {
    "name": "ipython",
    "version": 3
   },
   "file_extension": ".py",
   "mimetype": "text/x-python",
   "name": "python",
   "nbconvert_exporter": "python",
   "pygments_lexer": "ipython3",
   "version": "3.9.12"
  }
 },
 "nbformat": 4,
 "nbformat_minor": 5
}
