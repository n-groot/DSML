{
  "nbformat": 4,
  "nbformat_minor": 0,
  "metadata": {
    "colab": {
      "provenance": []
    },
    "kernelspec": {
      "name": "python3",
      "display_name": "Python 3"
    },
    "language_info": {
      "name": "python"
    }
  },
  "cells": [
    {
      "cell_type": "markdown",
      "source": [
        "**OUTLINE**\n",
        "- Simulation for Parabola of Loss Function\n",
        "- RMSE\n",
        "- Confidence Intervals"
      ],
      "metadata": {
        "id": "22pGVz3TSoS4"
      }
    },
    {
      "cell_type": "code",
      "source": [],
      "metadata": {
        "id": "rQs9vxgwMISC"
      },
      "execution_count": null,
      "outputs": []
    },
    {
      "cell_type": "markdown",
      "source": [
        "Before starting, lets load the same Cars24 dataset we can work with"
      ],
      "metadata": {
        "id": "G6JTYZUAWEEo"
      }
    },
    {
      "cell_type": "code",
      "source": [
        "import numpy as np\n",
        "import pandas as pd\n",
        "\n",
        "import matplotlib.pyplot as plt\n",
        "from mpl_toolkits.mplot3d import Axes3D\n"
      ],
      "metadata": {
        "id": "NUgmtUZkWF-g"
      },
      "execution_count": null,
      "outputs": []
    },
    {
      "cell_type": "code",
      "source": [
        "!gdown 1XH29crmDjqpE1sPCUCffryF4FDbKVmjS"
      ],
      "metadata": {
        "colab": {
          "base_uri": "https://localhost:8080/"
        },
        "id": "-NsUwI6qWF8K",
        "outputId": "08278b9f-48e3-462d-c66c-463f8425025d"
      },
      "execution_count": null,
      "outputs": [
        {
          "output_type": "stream",
          "name": "stdout",
          "text": [
            "Downloading...\n",
            "From: https://drive.google.com/uc?id=1XH29crmDjqpE1sPCUCffryF4FDbKVmjS\n",
            "To: /content/cars24-car-price-clean.csv\n",
            "\r  0% 0.00/1.71M [00:00<?, ?B/s]\r100% 1.71M/1.71M [00:00<00:00, 132MB/s]\n"
          ]
        }
      ]
    },
    {
      "cell_type": "code",
      "source": [
        "df = pd.read_csv('cars24-car-price-clean.csv')\n",
        "df.head()"
      ],
      "metadata": {
        "colab": {
          "base_uri": "https://localhost:8080/",
          "height": 444
        },
        "id": "F5781UG3WJ4i",
        "outputId": "0fb6b5be-55b4-4503-c6ad-dc54b51e150e"
      },
      "execution_count": null,
      "outputs": [
        {
          "output_type": "execute_result",
          "data": {
            "text/plain": [
              "   selling_price    year  km_driven  mileage  engine  max_power     make  \\\n",
              "0           1.20  2012.0     120000    19.70   796.0      46.30   Maruti   \n",
              "1           5.50  2016.0      20000    18.90  1197.0      82.00  Hyundai   \n",
              "2           2.15  2010.0      60000    17.00  1197.0      80.00  Hyundai   \n",
              "3           2.26  2012.0      37000    20.92   998.0      67.10   Maruti   \n",
              "4           5.70  2015.0      30000    22.77  1498.0      98.59     Ford   \n",
              "\n",
              "                                       model  transmission_type  seats_coupe  \\\n",
              "0                                   Alto Std                  1            0   \n",
              "1                             Grand i10 Asta                  1            0   \n",
              "2                                   i20 Asta                  1            0   \n",
              "3                     Alto K10 2010-2014 VXI                  1            0   \n",
              "4  Ecosport 2015-2021 1.5 TDCi Titanium BSIV                  1            0   \n",
              "\n",
              "   seats_family  seats_large  fuel_cng  fuel_diesel  fuel_electric  fuel_lpg  \\\n",
              "0             1            0         0            0              0         0   \n",
              "1             1            0         0            0              0         0   \n",
              "2             1            0         0            0              0         0   \n",
              "3             1            0         0            0              0         0   \n",
              "4             1            0         0            1              0         0   \n",
              "\n",
              "   fuel_petrol  seller_dealer  seller_individual  seller_trustmark dealer  \n",
              "0            1              0                  1                        0  \n",
              "1            1              0                  1                        0  \n",
              "2            1              0                  1                        0  \n",
              "3            1              0                  1                        0  \n",
              "4            0              1                  0                        0  "
            ],
            "text/html": [
              "\n",
              "  <div id=\"df-dff34194-bbf1-4028-915f-fc8f3c0a0444\">\n",
              "    <div class=\"colab-df-container\">\n",
              "      <div>\n",
              "<style scoped>\n",
              "    .dataframe tbody tr th:only-of-type {\n",
              "        vertical-align: middle;\n",
              "    }\n",
              "\n",
              "    .dataframe tbody tr th {\n",
              "        vertical-align: top;\n",
              "    }\n",
              "\n",
              "    .dataframe thead th {\n",
              "        text-align: right;\n",
              "    }\n",
              "</style>\n",
              "<table border=\"1\" class=\"dataframe\">\n",
              "  <thead>\n",
              "    <tr style=\"text-align: right;\">\n",
              "      <th></th>\n",
              "      <th>selling_price</th>\n",
              "      <th>year</th>\n",
              "      <th>km_driven</th>\n",
              "      <th>mileage</th>\n",
              "      <th>engine</th>\n",
              "      <th>max_power</th>\n",
              "      <th>make</th>\n",
              "      <th>model</th>\n",
              "      <th>transmission_type</th>\n",
              "      <th>seats_coupe</th>\n",
              "      <th>seats_family</th>\n",
              "      <th>seats_large</th>\n",
              "      <th>fuel_cng</th>\n",
              "      <th>fuel_diesel</th>\n",
              "      <th>fuel_electric</th>\n",
              "      <th>fuel_lpg</th>\n",
              "      <th>fuel_petrol</th>\n",
              "      <th>seller_dealer</th>\n",
              "      <th>seller_individual</th>\n",
              "      <th>seller_trustmark dealer</th>\n",
              "    </tr>\n",
              "  </thead>\n",
              "  <tbody>\n",
              "    <tr>\n",
              "      <th>0</th>\n",
              "      <td>1.20</td>\n",
              "      <td>2012.0</td>\n",
              "      <td>120000</td>\n",
              "      <td>19.70</td>\n",
              "      <td>796.0</td>\n",
              "      <td>46.30</td>\n",
              "      <td>Maruti</td>\n",
              "      <td>Alto Std</td>\n",
              "      <td>1</td>\n",
              "      <td>0</td>\n",
              "      <td>1</td>\n",
              "      <td>0</td>\n",
              "      <td>0</td>\n",
              "      <td>0</td>\n",
              "      <td>0</td>\n",
              "      <td>0</td>\n",
              "      <td>1</td>\n",
              "      <td>0</td>\n",
              "      <td>1</td>\n",
              "      <td>0</td>\n",
              "    </tr>\n",
              "    <tr>\n",
              "      <th>1</th>\n",
              "      <td>5.50</td>\n",
              "      <td>2016.0</td>\n",
              "      <td>20000</td>\n",
              "      <td>18.90</td>\n",
              "      <td>1197.0</td>\n",
              "      <td>82.00</td>\n",
              "      <td>Hyundai</td>\n",
              "      <td>Grand i10 Asta</td>\n",
              "      <td>1</td>\n",
              "      <td>0</td>\n",
              "      <td>1</td>\n",
              "      <td>0</td>\n",
              "      <td>0</td>\n",
              "      <td>0</td>\n",
              "      <td>0</td>\n",
              "      <td>0</td>\n",
              "      <td>1</td>\n",
              "      <td>0</td>\n",
              "      <td>1</td>\n",
              "      <td>0</td>\n",
              "    </tr>\n",
              "    <tr>\n",
              "      <th>2</th>\n",
              "      <td>2.15</td>\n",
              "      <td>2010.0</td>\n",
              "      <td>60000</td>\n",
              "      <td>17.00</td>\n",
              "      <td>1197.0</td>\n",
              "      <td>80.00</td>\n",
              "      <td>Hyundai</td>\n",
              "      <td>i20 Asta</td>\n",
              "      <td>1</td>\n",
              "      <td>0</td>\n",
              "      <td>1</td>\n",
              "      <td>0</td>\n",
              "      <td>0</td>\n",
              "      <td>0</td>\n",
              "      <td>0</td>\n",
              "      <td>0</td>\n",
              "      <td>1</td>\n",
              "      <td>0</td>\n",
              "      <td>1</td>\n",
              "      <td>0</td>\n",
              "    </tr>\n",
              "    <tr>\n",
              "      <th>3</th>\n",
              "      <td>2.26</td>\n",
              "      <td>2012.0</td>\n",
              "      <td>37000</td>\n",
              "      <td>20.92</td>\n",
              "      <td>998.0</td>\n",
              "      <td>67.10</td>\n",
              "      <td>Maruti</td>\n",
              "      <td>Alto K10 2010-2014 VXI</td>\n",
              "      <td>1</td>\n",
              "      <td>0</td>\n",
              "      <td>1</td>\n",
              "      <td>0</td>\n",
              "      <td>0</td>\n",
              "      <td>0</td>\n",
              "      <td>0</td>\n",
              "      <td>0</td>\n",
              "      <td>1</td>\n",
              "      <td>0</td>\n",
              "      <td>1</td>\n",
              "      <td>0</td>\n",
              "    </tr>\n",
              "    <tr>\n",
              "      <th>4</th>\n",
              "      <td>5.70</td>\n",
              "      <td>2015.0</td>\n",
              "      <td>30000</td>\n",
              "      <td>22.77</td>\n",
              "      <td>1498.0</td>\n",
              "      <td>98.59</td>\n",
              "      <td>Ford</td>\n",
              "      <td>Ecosport 2015-2021 1.5 TDCi Titanium BSIV</td>\n",
              "      <td>1</td>\n",
              "      <td>0</td>\n",
              "      <td>1</td>\n",
              "      <td>0</td>\n",
              "      <td>0</td>\n",
              "      <td>1</td>\n",
              "      <td>0</td>\n",
              "      <td>0</td>\n",
              "      <td>0</td>\n",
              "      <td>1</td>\n",
              "      <td>0</td>\n",
              "      <td>0</td>\n",
              "    </tr>\n",
              "  </tbody>\n",
              "</table>\n",
              "</div>\n",
              "      <button class=\"colab-df-convert\" onclick=\"convertToInteractive('df-dff34194-bbf1-4028-915f-fc8f3c0a0444')\"\n",
              "              title=\"Convert this dataframe to an interactive table.\"\n",
              "              style=\"display:none;\">\n",
              "        \n",
              "  <svg xmlns=\"http://www.w3.org/2000/svg\" height=\"24px\"viewBox=\"0 0 24 24\"\n",
              "       width=\"24px\">\n",
              "    <path d=\"M0 0h24v24H0V0z\" fill=\"none\"/>\n",
              "    <path d=\"M18.56 5.44l.94 2.06.94-2.06 2.06-.94-2.06-.94-.94-2.06-.94 2.06-2.06.94zm-11 1L8.5 8.5l.94-2.06 2.06-.94-2.06-.94L8.5 2.5l-.94 2.06-2.06.94zm10 10l.94 2.06.94-2.06 2.06-.94-2.06-.94-.94-2.06-.94 2.06-2.06.94z\"/><path d=\"M17.41 7.96l-1.37-1.37c-.4-.4-.92-.59-1.43-.59-.52 0-1.04.2-1.43.59L10.3 9.45l-7.72 7.72c-.78.78-.78 2.05 0 2.83L4 21.41c.39.39.9.59 1.41.59.51 0 1.02-.2 1.41-.59l7.78-7.78 2.81-2.81c.8-.78.8-2.07 0-2.86zM5.41 20L4 18.59l7.72-7.72 1.47 1.35L5.41 20z\"/>\n",
              "  </svg>\n",
              "      </button>\n",
              "      \n",
              "  <style>\n",
              "    .colab-df-container {\n",
              "      display:flex;\n",
              "      flex-wrap:wrap;\n",
              "      gap: 12px;\n",
              "    }\n",
              "\n",
              "    .colab-df-convert {\n",
              "      background-color: #E8F0FE;\n",
              "      border: none;\n",
              "      border-radius: 50%;\n",
              "      cursor: pointer;\n",
              "      display: none;\n",
              "      fill: #1967D2;\n",
              "      height: 32px;\n",
              "      padding: 0 0 0 0;\n",
              "      width: 32px;\n",
              "    }\n",
              "\n",
              "    .colab-df-convert:hover {\n",
              "      background-color: #E2EBFA;\n",
              "      box-shadow: 0px 1px 2px rgba(60, 64, 67, 0.3), 0px 1px 3px 1px rgba(60, 64, 67, 0.15);\n",
              "      fill: #174EA6;\n",
              "    }\n",
              "\n",
              "    [theme=dark] .colab-df-convert {\n",
              "      background-color: #3B4455;\n",
              "      fill: #D2E3FC;\n",
              "    }\n",
              "\n",
              "    [theme=dark] .colab-df-convert:hover {\n",
              "      background-color: #434B5C;\n",
              "      box-shadow: 0px 1px 3px 1px rgba(0, 0, 0, 0.15);\n",
              "      filter: drop-shadow(0px 1px 2px rgba(0, 0, 0, 0.3));\n",
              "      fill: #FFFFFF;\n",
              "    }\n",
              "  </style>\n",
              "\n",
              "      <script>\n",
              "        const buttonEl =\n",
              "          document.querySelector('#df-dff34194-bbf1-4028-915f-fc8f3c0a0444 button.colab-df-convert');\n",
              "        buttonEl.style.display =\n",
              "          google.colab.kernel.accessAllowed ? 'block' : 'none';\n",
              "\n",
              "        async function convertToInteractive(key) {\n",
              "          const element = document.querySelector('#df-dff34194-bbf1-4028-915f-fc8f3c0a0444');\n",
              "          const dataTable =\n",
              "            await google.colab.kernel.invokeFunction('convertToInteractive',\n",
              "                                                     [key], {});\n",
              "          if (!dataTable) return;\n",
              "\n",
              "          const docLinkHtml = 'Like what you see? Visit the ' +\n",
              "            '<a target=\"_blank\" href=https://colab.research.google.com/notebooks/data_table.ipynb>data table notebook</a>'\n",
              "            + ' to learn more about interactive tables.';\n",
              "          element.innerHTML = '';\n",
              "          dataTable['output_type'] = 'display_data';\n",
              "          await google.colab.output.renderOutput(dataTable, element);\n",
              "          const docLink = document.createElement('div');\n",
              "          docLink.innerHTML = docLinkHtml;\n",
              "          element.appendChild(docLink);\n",
              "        }\n",
              "      </script>\n",
              "    </div>\n",
              "  </div>\n",
              "  "
            ]
          },
          "metadata": {},
          "execution_count": 15
        }
      ]
    },
    {
      "cell_type": "code",
      "source": [
        "# define X and y\n",
        "X = df[\"max_power\"].values\n",
        "Y = df[\"selling_price\"].values"
      ],
      "metadata": {
        "id": "ZSMADCroWOzm"
      },
      "execution_count": null,
      "outputs": []
    },
    {
      "cell_type": "code",
      "source": [
        "# standardize the data\n",
        "u = X.mean()\n",
        "std = X.std()\n",
        "X = (X-u)/std"
      ],
      "metadata": {
        "id": "WZIdVA9VWOxA"
      },
      "execution_count": null,
      "outputs": []
    },
    {
      "cell_type": "markdown",
      "source": [
        "### Cost Function Visualisation\n",
        "\n",
        "#### How does the \"cost function\" surface look for univariate linear regression?\n",
        "\n",
        "To understand this, lets take different possible values of W0 and W1\n",
        "\n",
        "- For a set of W0 and W1 values, we can find MSE - `np.sum((Y-Y_hat)**2)/Y.shape`[0]\n",
        "- We can plot MSE for possible values of\n",
        "  - W0=[-100,100],\n",
        "  - W1=[-100,100]\n",
        "  - with step-size=1\n",
        "\n",
        "#### How can we generate different combinations of W0 and W1?\n",
        "\n",
        "- We will use `np.meshgrid(W0,W1)`\n",
        "- It will return two matrices\n",
        "  1. Contains X-coordinate (W0)\n",
        "  2. Contains Y-coordinate (W1) \\\n",
        "  You can add a print to statement to undersrtand the output of meshgrid\n",
        "\n"
      ],
      "metadata": {
        "id": "Cc-oa4C6Vim7"
      }
    },
    {
      "cell_type": "code",
      "execution_count": null,
      "metadata": {
        "colab": {
          "base_uri": "https://localhost:8080/",
          "height": 248
        },
        "id": "-7vKmQDUO17e",
        "outputId": "c6603c35-9fb1-436f-f0c9-033f659133bf"
      },
      "outputs": [
        {
          "output_type": "display_data",
          "data": {
            "text/plain": [
              "<Figure size 432x288 with 1 Axes>"
            ],
            "image/png": "[encoded data removed]"
          },
          "metadata": {
            "needs_background": "light"
          }
        }
      ],
      "source": [
        "W0 = np.arange(-100,100,1)\n",
        "W1 = np.arange(-100,100,1)\n",
        "\n",
        "W0,W1 = np.meshgrid(W0,W1)\n",
        "J = np.zeros(W0.shape)\n",
        "for i in range(J.shape[0]):\n",
        "    for j in range(J.shape[1]):\n",
        "        Y_hat = W1[i,j]*X + W0[i,j]\n",
        "        J[i,j] = np.sum((Y-Y_hat)**2)/Y.shape[0]\n",
        "\n",
        "fig = plt.figure()\n",
        "axes = fig.gca(projection='3d')\n",
        "axes.plot_surface(W0,W1,J, cmap=\"rainbow\")\n",
        "axes.set_xlabel(\"W0\")\n",
        "axes.set_ylabel(\"W1\")\n",
        "axes.set_zlabel(\"J(W0,W1)\")\n",
        "plt.show()"
      ]
    },
    {
      "cell_type": "markdown",
      "source": [
        "### Root Mean Square Error (RMSE)\n"
      ],
      "metadata": {
        "id": "I-cm4Oltdn-s"
      }
    },
    {
      "cell_type": "markdown",
      "source": [
        "- $ RMSE = \\sqrt{∑_{i=1}^{i=n} (y_i - y_{i}^{-}) ÷ n } $\n",
        "- $y_i$ is the actual value\n",
        "- $y_{i}^{-}$ is the predicted value\n",
        "- n is the number of samples\n",
        "- ANALOGOUS TO -\n",
        "  - Euclidean Distance: $dist(x,y) = \\sqrt{∑_{i=1}^{n}(x_i-y_i)^2}$\n",
        " - RMSE can be thought of as some kind of (normalized) distance between the vector of $y_{i}^{-}$ and the vector of $y_i$.\n",
        "\n",
        "\n"
      ],
      "metadata": {
        "id": "oeqB9s5_dyXA"
      }
    },
    {
      "cell_type": "markdown",
      "source": [
        "### But how \"confident\" are we about the estimated line?\n",
        "\n",
        "We calculate bootstraped estimates to get confidence intervals for our parameters"
      ],
      "metadata": {
        "id": "UbEB6iUaXW6P"
      }
    },
    {
      "cell_type": "markdown",
      "source": [
        "**Code Recap**"
      ],
      "metadata": {
        "id": "0PUuLuLbiXXe"
      }
    },
    {
      "cell_type": "code",
      "source": [
        "# model = w0 + x1w1\n",
        "def predict(x,weight):\n",
        "    y_hat = weight[0] + weight[1]*x #hypothesis\n",
        "    return y_hat\n",
        "#MSE\n",
        "def error(X,Y,weight):\n",
        "    m = X.shape[0]\n",
        "    total_error = 0.0\n",
        "    for i in range(m):\n",
        "        y_hat = predict(X[i],weight)\n",
        "        total_error += (y_hat - Y[i])**2\n",
        "    return (total_error/m)\n",
        "\n",
        "def gradient(X,Y,weight):\n",
        "    m = X.shape[0]\n",
        "    # print(m)\n",
        "    grad = np.zeros((2,)) #initializing gradient from 0\n",
        "    # print(grad)\n",
        "    for i in range(200): #iterate over all points\n",
        "        x = X[i]\n",
        "        y_hat = predict(x,weight)\n",
        "        y = Y[i]\n",
        "\n",
        "        grad[0] += -2*(y - y_hat)\n",
        "        grad[1] += -2*(y - y_hat)*x\n",
        "        # print(x, y)\n",
        "        # print(2*(y - y_hat) , -2*(y - y_hat)*x)\n",
        "        # print(grad)\n",
        "    return grad/m"
      ],
      "metadata": {
        "id": "iBzHXtjmhQGQ"
      },
      "execution_count": null,
      "outputs": []
    },
    {
      "cell_type": "code",
      "source": [
        "def gradient_descent(X,Y, epochs=800,learning_rate =0.1):\n",
        "    weight = np.zeros((2,))\n",
        "    error_list = []\n",
        "    weight_list = []\n",
        "\n",
        "    for i in range(epochs):\n",
        "        # Compute grad\n",
        "        grad = gradient(X,Y,weight)\n",
        "        # print(grad)\n",
        "        e = error(X,Y,weight)\n",
        "\n",
        "        #Update weights\n",
        "        weight[0] = weight[0] - learning_rate*grad[0]\n",
        "        weight[1] = weight[1] - learning_rate*grad[1]\n",
        "        # Storing the weight values during updates\n",
        "        weight_list.append((weight[0],weight[1]))\n",
        "        error_list.append(e)\n",
        "\n",
        "    return weight,error_list,weight_list"
      ],
      "metadata": {
        "id": "UcqVYzdghJy5"
      },
      "execution_count": null,
      "outputs": []
    },
    {
      "cell_type": "code",
      "source": [
        "weight, error_list, weight_list = gradient_descent(X,Y,epochs=800)"
      ],
      "metadata": {
        "id": "afBR-KULiGN2"
      },
      "execution_count": null,
      "outputs": []
    },
    {
      "cell_type": "markdown",
      "source": [
        "### Lets calculate Confidence Intervals by bootstrapping technique we learnt in P&S module\n",
        "\n",
        "\n",
        "Recall that we calculated bootstraped estimates to get confidence intervals for our parameters\n"
      ],
      "metadata": {
        "id": "11UYe5qHidem"
      }
    },
    {
      "cell_type": "markdown",
      "source": [
        "NOTE: Please do not run this cell below, it will take a lot of time before it shows results."
      ],
      "metadata": {
        "id": "_1hU-Rctt2eg"
      }
    },
    {
      "cell_type": "code",
      "source": [
        "n_reps = 1000\n",
        "bs_weights = []\n",
        "for i in range(n_reps):\n",
        "    inds = np.arange(len(X)) #setup an array of indices\n",
        "    bs_inds = np.random.choice(inds, size=len(inds)) # bootstrap the indices\n",
        "    X_bs, Y_bs = X[bs_inds], Y[bs_inds] # generate the bootstrapped sample\n",
        "    bs_weight, _, _ = gradient_descent(X_bs, Y_bs, epochs=50) # perform gradient descent\n",
        "    bs_weights.append(bs_weight)"
      ],
      "metadata": {
        "id": "_Gaw0KFdXH4r"
      },
      "execution_count": null,
      "outputs": []
    },
    {
      "cell_type": "code",
      "source": [
        "plt.figure()\n",
        "Y_hat = predict(X,weight)\n",
        "plt.scatter(X,Y)\n",
        "for i in range(n_reps):\n",
        "    plt.plot(X, predict(X, bs_weights[i]), alpha=0.1, color='yellow')\n",
        "plt.plot(X,Y_hat,color='red')\n",
        "plt.show()"
      ],
      "metadata": {
        "colab": {
          "base_uri": "https://localhost:8080/",
          "height": 265
        },
        "id": "c2DWC_CMh2gm",
        "outputId": "d350ed26-f31e-4ae1-dc48-e3449cf3e766"
      },
      "execution_count": null,
      "outputs": [
        {
          "output_type": "display_data",
          "data": {
            "text/plain": [
              "<Figure size 432x288 with 1 Axes>"
            ],
            "image/png": "[encoded data removed]"
          },
          "metadata": {
            "needs_background": "light"
          }
        }
      ]
    },
    {
      "cell_type": "markdown",
      "source": [
        "#### So, how do I get the estimates if boorstrapping technique takes so much time?\n",
        "\n",
        "Thanks to Central Limit Theorem, we can calculate it using simple formula.\n",
        "\n",
        "We will discuss this in one of the future classes soon.\n",
        "\n",
        "\n",
        "This is a great chance to revise CLT, if in case, you have forgotten."
      ],
      "metadata": {
        "id": "VS6G4ReJ2d3a"
      }
    }
  ]
}