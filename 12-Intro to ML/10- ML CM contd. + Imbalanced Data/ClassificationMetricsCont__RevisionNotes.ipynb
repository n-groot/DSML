{
  "nbformat": 4,
  "nbformat_minor": 0,
  "metadata": {
    "colab": {
      "provenance": []
    },
    "kernelspec": {
      "name": "python3",
      "display_name": "Python 3"
    },
    "language_info": {
      "name": "python"
    }
  },
  "cells": [
    {
      "cell_type": "markdown",
      "source": [
        "- **AUC**\n",
        "\n",
        "- **Precision Recall Curve**\n",
        "\n",
        "- **Cheat sheet for which metric to use when**\n",
        "\n",
        "- **Performance metric vs loss functions**"
      ],
      "metadata": {
        "id": "xVseVDKmdi1j"
      }
    },
    {
      "cell_type": "markdown",
      "source": [
        "# **ROC (Reciever Operating Characterstic Curve)**"
      ],
      "metadata": {
        "id": "9z7lE1yWhjGq"
      }
    },
    {
      "cell_type": "markdown",
      "source": [
        "The term ROC comes from electronics and radio engineering\n",
        "\n",
        "- One of the beautiful application of this in second world war for detection of planes and ships\n",
        "- usually used in signal procressing\n",
        "\n",
        "Now, let's try to understand ROC in terms of ML\n",
        "\n",
        "### Intuition\n",
        "Imagine we have a binary classification (class 0/1)\n",
        "\n",
        "If we want to measure how well a model is performing, we use metric called AU - ROC i.e. Area Under ROC curve a.k.a AUC (Area under curve)"
      ],
      "metadata": {
        "id": "XO7kuipwkFsG"
      }
    },
    {
      "cell_type": "markdown",
      "source": [
        "<img src='https://drive.google.com/uc?id=1756dJy7wez6-vrOjBwKyUrtEA-1ZBJNF'>\n"
      ],
      "metadata": {
        "id": "XwRe-dyqxDcT"
      }
    },
    {
      "cell_type": "markdown",
      "source": [
        "Let's say we have some test data with\n",
        "- n datapoints of d dimensions $x_i$\n",
        "- actual class labels $y_i$\n",
        "- predicted probability $ŷ_i$\n",
        "\n",
        "We sort the datapoints using the probability score in desc. order\n",
        "\n",
        "#### Question: If i have n datapoints of d- dim, what will be the time complexity of sorting ?a\n",
        "\n",
        "Ans: $n.log(n)$"
      ],
      "metadata": {
        "id": "8TWit0avxPSC"
      }
    },
    {
      "cell_type": "markdown",
      "source": [
        "<img src='https://drive.google.com/uc?id=1SOvwOtshJxESOfLDEGmDOEmIJoszNtPq'>\n"
      ],
      "metadata": {
        "id": "Vtrvkn39xMUv"
      }
    },
    {
      "cell_type": "markdown",
      "source": [
        "After sorting the datapoints by predicted probability,\n",
        "\n",
        "- We set each $ŷ_i$ as threshold ($τ_i$) and classify as\n",
        " - If $ŷ_i > τ_i$ then classify as 1, else 0.\n",
        " - let these be $ỹ_{τ_i}$\n",
        "- continue doing the same for all $ŷ_i$ values.\n",
        "- Now calculate True Positive Rate$_i$ (TPR$_i$ ) and False Positive Rate$_i$  (FPR$_i$ ) for  $y$ and $ỹ_{τ_i}$"
      ],
      "metadata": {
        "id": "bE0ldWj2xdfk"
      }
    },
    {
      "cell_type": "markdown",
      "source": [
        "<img src='https://drive.google.com/uc?id=1I2tEAlrldB2q_VlXRoQpAagGYGoR1ocz'>\n"
      ],
      "metadata": {
        "id": "j_HN7qt0xgXE"
      }
    },
    {
      "cell_type": "markdown",
      "source": [
        "For example:\n",
        "\n",
        "Let $τ_1$ = 0.95\n",
        "- We then calculate $ỹ_{τ_1}$\n",
        "    - 1 , if $ŷ_i$ ≥ $τ_1$\n",
        "    - 0, otherwise\n",
        "\n",
        "Then we calculate $TPR_1$ and $FPR_1$ using y and $ŷ_{τ_1}$\n",
        "\n",
        "Similarly, we calulate $TPR_2$ and $FPR_2$ using y and $ŷ_{τ_2}$"
      ],
      "metadata": {
        "id": "fBoXWF3Xxs3I"
      }
    },
    {
      "cell_type": "markdown",
      "source": [
        "<img src='https://drive.google.com/uc?id=1lzGDOBUKZ6Zkrumct3KdeZM5Hb_jn0Hy'>\n",
        "\n"
      ],
      "metadata": {
        "id": "Ig7RCzOrxvd7"
      }
    },
    {
      "cell_type": "markdown",
      "source": [
        "Now, after calculating TPR and FPR for each threshold, we'll get n pairs of TPR and FPR\n",
        "\n",
        "Using these TPR and FPR, we plot the graph between all TPR 𝑖  and FPR 𝑖  as we have  𝑛  pairs of TPR and FPR's"
      ],
      "metadata": {
        "id": "hAdExN-Xx9ua"
      }
    },
    {
      "cell_type": "markdown",
      "source": [
        "#### Question: What will be the best score for TPR?\n",
        "Ans: 1 .when TP = P i.e. No False Negatives TPR = TP/P\n",
        "\n",
        "#### Question: What will be the best FPR?\n",
        "Ans: 0 (when there are no false positives) FPR = FP/ N\n",
        "\n",
        "A model with TPR = 1 and FPR = 0 will be best model.\n",
        "\n",
        "\n"
      ],
      "metadata": {
        "id": "qu6nYL3P4gx6"
      }
    },
    {
      "cell_type": "markdown",
      "source": [
        "For plotting, we'll have TPR on y axis and FPR on x- axis\n",
        "\n",
        "\n",
        "However, for a good model,\n",
        "- we tend to have a curve\n",
        "- This curve is made using pairs of TPRs and FPRs we calculated earlier"
      ],
      "metadata": {
        "id": "MnP4M06f9OIV"
      }
    },
    {
      "cell_type": "markdown",
      "source": [
        "#### Why is curve starting at (0,0)?\n",
        "Since we are classifying all the points as 0 except 1 point for first threshold (0.95), the TPR as well as FPR will be 0\n",
        "\n",
        "\n",
        "### Why is right end of curve at (1,1) ?\n",
        "For n-th threshold, we are classifying every point as class 1.\n",
        "\n",
        "Since all the points are being precdicted as positive point\n",
        "- Hence, TPR will 1 as all actual positive are predicted as positive\n",
        "- Also, FPR will be 1 as all negative points are classifed as positive as well."
      ],
      "metadata": {
        "id": "9JHi0L4n9l6D"
      }
    },
    {
      "cell_type": "markdown",
      "source": [
        "<img src='https://drive.google.com/uc?id=1_KJr4Cpueij5rgKIVgnztyuvcydJkgxD'>"
      ],
      "metadata": {
        "id": "1m8UXNLkyAVb"
      }
    },
    {
      "cell_type": "markdown",
      "source": [
        "# **AUC**"
      ],
      "metadata": {
        "id": "6WzI7-3xGvkP"
      }
    },
    {
      "cell_type": "markdown",
      "source": [
        "Now that we have got our curve, we find the Area Under the ROC Curve (AU-ROC or AUC) (green shaded area)"
      ],
      "metadata": {
        "id": "GD5t7_oIAJxf"
      }
    },
    {
      "cell_type": "markdown",
      "source": [
        "<img src='https://drive.google.com/uc?id=10o4Vze5KjRRTZwF2B_37qQcV96mMlbiE'>\n"
      ],
      "metadata": {
        "id": "7UgPacNTyZtb"
      }
    },
    {
      "cell_type": "markdown",
      "source": [
        "#### Question: What will be the AU-ROC for best model ?\n",
        "The curve for best model will pass through best model point (0,1) and it'll have an AUC of 1.\n",
        "\n",
        "#### What will be the AUC for worst model?\n",
        "The curve for worst model will pass through (1,0) and it'll have an AUC of 0."
      ],
      "metadata": {
        "id": "fn3ev949At1p"
      }
    },
    {
      "cell_type": "markdown",
      "source": [
        "Let's say we have two models\n",
        "- Model A (blue curve)\n",
        "- Model B (cyan curve)\n",
        "\n",
        "### **Which model is better? A or B ?**\n",
        "\n",
        "As the curve move away from (1,0) and towards (0,1), the model gets better\n",
        "- As curve move towards (0,1), AUC increases.\n",
        "\n",
        "AUC of Model B > Model A. Hence Model B is better"
      ],
      "metadata": {
        "id": "mlwNvabNBVTp"
      }
    },
    {
      "cell_type": "markdown",
      "source": [
        "<img src='https://drive.google.com/uc?id=1wL3mrCSOvtxfblLQqfHsm86X024JL467'>\n"
      ],
      "metadata": {
        "id": "CPnkFeREypYf"
      }
    },
    {
      "cell_type": "markdown",
      "source": [
        "# **Fundamental difference between previous metrics and AUC**"
      ],
      "metadata": {
        "id": "FSw0WqCaFDQO"
      }
    },
    {
      "cell_type": "markdown",
      "source": [
        "When we calcualte Precision, Recall or F1 score\n",
        "- We calculate it for a certrain threshold on $ŷ_i$\n",
        "- This threshold is 0.5, by deafult\n",
        "\n",
        "On the otherhand, AU-ROC\n",
        "- we are calculating it using all possible thresholds\n",
        "\n",
        "\n",
        "When we are comparing Model A and Model B, we are comparing it across all the thresholds and Model B is better than Model A across all the thresholds\n",
        "\n",
        "\n"
      ],
      "metadata": {
        "id": "X6oiJa4rCVRt"
      }
    },
    {
      "cell_type": "markdown",
      "source": [
        "<img src='https://drive.google.com/uc?id=1yH4MGscx15Riy8jjVscp-k3tyMsNiY5L'>\n"
      ],
      "metadata": {
        "id": "QDyp_gjrzCk0"
      }
    },
    {
      "cell_type": "markdown",
      "source": [
        "## **AUC for random model**"
      ],
      "metadata": {
        "id": "mRl4-FaYF3s7"
      }
    },
    {
      "cell_type": "markdown",
      "source": [
        "Let's say we have a random model i.e. $ŷ_i$ is randomly generated\n",
        "\n",
        "#### Question: How will the ROC curve for random model look?\n",
        "\n",
        "Ans: It will be a diagonal\n",
        "\n",
        "#### What will be the AUC of random model?\n",
        "\n",
        "Ans: 0.5\n",
        "\n",
        "#### (FAANG) Question: Why the AUC of random model 0.5 ?\n",
        "\n",
        "We can see from the curve TPR$_i$ and FPR$_i$ ∀ τ$_i$.\n",
        "\n",
        "Why will the TPR = FPR for random model?\n",
        "\n",
        "Let's try to understand it.\n",
        "\n",
        "We know that, for random model\n",
        "- $ŷ_i$ will be randomly generated\n",
        "- if we sort $ŷ_i$ in decreasing order, it'll be same as jumbling up the $y_i$.\n",
        "\n",
        "\n",
        "\n",
        "\n",
        "\n"
      ],
      "metadata": {
        "id": "Zjtcbcol2m7f"
      }
    },
    {
      "cell_type": "markdown",
      "source": [
        "<img src='https://drive.google.com/uc?id=1EvpiW7sB7H6m8exbTfw5zd6VHwsm5K-i'>\n"
      ],
      "metadata": {
        "id": "goEKW3xnzGiK"
      }
    },
    {
      "cell_type": "markdown",
      "source": [
        "Now, when we randomly jumble up the $y_i$\n",
        "- Assuming we have equal number of class 0 and class 1 in $y_i$\n",
        "- P = n/2\n",
        "- N = n/2\n",
        "\n",
        "For $i^{th}$ threshold ($τ_i$),\n",
        "- We'll get k TP points\n",
        "- k FP points as points are randomly jumbled up\n",
        "\n",
        "TPR = $TP/P$ = $k /(n/2)$\n",
        "\n",
        "FPR = $FP/N$ = $k / (n/2)$\n",
        "\n",
        "Hence, TPR = FPR ∀ thresholds τ$_i$\n"
      ],
      "metadata": {
        "id": "dizA6enhzXWI"
      }
    },
    {
      "cell_type": "markdown",
      "source": [
        "<img src='https://drive.google.com/uc?id=1dPv3foo4tBJSt-yGzzTuHsARYB9jSuS0'>\n"
      ],
      "metadata": {
        "id": "h2GrsX4GzbMz"
      }
    },
    {
      "cell_type": "markdown",
      "source": [
        "# **Properties of AU-ROC**"
      ],
      "metadata": {
        "id": "9jPeXd3i7VeA"
      }
    },
    {
      "cell_type": "markdown",
      "source": [
        "1.  It does not work well for the **highly imbalanced data set**\n",
        "    - It works for slightly imbalanced data but not for highly imbalanced data\n",
        "2.  AU-ROC does not depend on the actual values of the $ŷ_i$ but only depends on the order of them.\n"
      ],
      "metadata": {
        "id": "MPQdg2FG-ar7"
      }
    },
    {
      "cell_type": "markdown",
      "source": [
        "<img src='https://drive.google.com/uc?id=1merJQSkMpmoz94cGUQA_o3YWGTdKdbY7'>\n"
      ],
      "metadata": {
        "id": "mgnnZpr6zr9r"
      }
    },
    {
      "cell_type": "markdown",
      "source": [
        "Let's say we have two model M1 and M2\n",
        "- actual y labels are : [1, 1, 0 ,1, 1]\n",
        "- predicted probabilities for M1 are: [0.95, 0.92, 0.80, 0.76, 0.71]\n",
        "- predicted probabilities for M2 are: [0.2, 0.1, 0.08, 0.06, 0.01]\n",
        "\n",
        "Since, we will be using each probability value as threshold and calulating AUC\n",
        "- the ordering of threshold isn't changing and hence TPR and FPR will be same.\n"
      ],
      "metadata": {
        "id": "zHdepFb4z4bD"
      }
    },
    {
      "cell_type": "markdown",
      "source": [
        "<img src='https://drive.google.com/uc?id=15QvWJC9yqHD6A3bQqwbeRNW4vKIWgYGW'>\n"
      ],
      "metadata": {
        "id": "-UO2jclgz76p"
      }
    },
    {
      "cell_type": "markdown",
      "source": [
        "3. Random Model has AU-ROC of 0.5\n",
        "4. When model's AOC is less than 0.5, the simple fix for the model is to invert your predictions. i.e After inversing you will get area of 1-(actual area value)"
      ],
      "metadata": {
        "id": "Hy8PmfoO0MXZ"
      }
    },
    {
      "cell_type": "markdown",
      "source": [
        "<img src='https://drive.google.com/uc?id=1-4YMd57VOd-4BDZvfuAYBsd9DGoO8sGA'>\n"
      ],
      "metadata": {
        "id": "tU-1bhx70PPj"
      }
    },
    {
      "cell_type": "markdown",
      "source": [
        "### Code walkthrough"
      ],
      "metadata": {
        "id": "4RYK4cm5-nUV"
      }
    },
    {
      "cell_type": "code",
      "source": [
        "from sklearn.metrics import roc_curve, roc_auc_score\n",
        "from matplotlib import pyplot as plt"
      ],
      "metadata": {
        "id": "27x73f5i-qF7"
      },
      "execution_count": null,
      "outputs": []
    },
    {
      "cell_type": "code",
      "source": [
        "fpr, tpr, thr = roc_curve(data.y, data.proba)"
      ],
      "metadata": {
        "id": "fkjN56jH-9SO"
      },
      "execution_count": null,
      "outputs": []
    },
    {
      "cell_type": "code",
      "source": [
        "plt.plot(fpr,tpr)\n",
        "plt.title('ROC curve')\n",
        "plt.xlabel('FPR')\n",
        "plt.ylabel('TPR')\n",
        "plt.show()"
      ],
      "metadata": {
        "colab": {
          "base_uri": "https://localhost:8080/",
          "height": 295
        },
        "id": "yI-IVTwy_GqL",
        "outputId": "19562f74-a01c-459e-b978-ca3f7d42220c"
      },
      "execution_count": null,
      "outputs": [
        {
          "output_type": "display_data",
          "data": {
            "text/plain": [
              "<Figure size 432x288 with 1 Axes>"
            ],
            "image/png": "[encoded data removed]"
          },
          "metadata": {
            "needs_background": "light"
          }
        }
      ]
    },
    {
      "cell_type": "code",
      "source": [
        "roc_auc_score(data.y, data.proba)"
      ],
      "metadata": {
        "colab": {
          "base_uri": "https://localhost:8080/"
        },
        "id": "BQBr2yHj_usm",
        "outputId": "3fd9b57c-663d-433b-e0e7-e3f1f7b780de"
      },
      "execution_count": null,
      "outputs": [
        {
          "output_type": "execute_result",
          "data": {
            "text/plain": [
              "0.9377570000000001"
            ]
          },
          "metadata": {},
          "execution_count": 31
        }
      ]
    },
    {
      "cell_type": "markdown",
      "source": [
        "### **Issue with AU-ROC**\n",
        "\n",
        "AU- ROC doesn't work well on extremely imbalanced data.\n",
        "\n",
        "However, we saw that Precision, recall and F1 score work well on highly imbalanced data.\n",
        "\n",
        "So, what if we make curve using Precision Recall ? i.e. Precision Recall Curve"
      ],
      "metadata": {
        "id": "zaksbIbwYwFQ"
      }
    },
    {
      "cell_type": "markdown",
      "source": [
        "<img src='https://drive.google.com/uc?id=1FcWrAX6Aj7gwd-4u-4Z8zerGYm6WcEXT'>\n",
        "\n"
      ],
      "metadata": {
        "id": "tyk02r7I0bPL"
      }
    },
    {
      "cell_type": "markdown",
      "source": [
        "# **Precision - Recall curve**"
      ],
      "metadata": {
        "id": "h_FhbUDjR303"
      }
    },
    {
      "cell_type": "markdown",
      "source": [
        "In Precision Recall curve\n",
        "- Precision on y axis\n",
        "- Recall on x axis\n",
        "- Similar to ROC curve, we'll take each $ŷ_i$ as threshold\n",
        "\n",
        "\n",
        "The area under this curve is called AU-PRC, Area under precision recall curve, which is a very good metric for very highly imbalanced data."
      ],
      "metadata": {
        "id": "268_NLUgZmEO"
      }
    },
    {
      "cell_type": "markdown",
      "source": [
        "<img src='https://drive.google.com/uc?id=1yKD_EuZ3CxZRpBYSTcDaZpQtArwIYHMG'>"
      ],
      "metadata": {
        "id": "QibPiMB90wCL"
      }
    },
    {
      "cell_type": "markdown",
      "source": [
        "### Code walkthrough"
      ],
      "metadata": {
        "id": "46GW1TMyAC3A"
      }
    },
    {
      "cell_type": "code",
      "source": [
        "from sklearn.metrics import precision_recall_curve\n",
        "from sklearn.metrics import auc"
      ],
      "metadata": {
        "id": "Ofo_5VgUAFtN"
      },
      "execution_count": null,
      "outputs": []
    },
    {
      "cell_type": "code",
      "source": [
        "precision, recall, thr = precision_recall_curve(data.y, data.proba)"
      ],
      "metadata": {
        "id": "8-RJNrvVAJ-g"
      },
      "execution_count": null,
      "outputs": []
    },
    {
      "cell_type": "code",
      "source": [
        "plt.plot(recall, precision)\n",
        "plt.xlabel('Recall')\n",
        "plt.ylabel('Precision')\n",
        "plt.title('PR curve')\n",
        "plt.show()"
      ],
      "metadata": {
        "colab": {
          "base_uri": "https://localhost:8080/",
          "height": 295
        },
        "id": "xJ_6Wtc9ARXj",
        "outputId": "84c412e1-c327-4deb-a1c2-e416b386c9ab"
      },
      "execution_count": null,
      "outputs": [
        {
          "output_type": "display_data",
          "data": {
            "text/plain": [
              "<Figure size 432x288 with 1 Axes>"
            ],
            "image/png": "[encoded data removed]"
          },
          "metadata": {
            "needs_background": "light"
          }
        }
      ]
    },
    {
      "cell_type": "code",
      "source": [
        "auc(recall, precision)"
      ],
      "metadata": {
        "colab": {
          "base_uri": "https://localhost:8080/"
        },
        "id": "aDm2bNPuBMPb",
        "outputId": "c831ca55-681f-4e9f-f143-213cffc3a9e7"
      },
      "execution_count": null,
      "outputs": [
        {
          "output_type": "execute_result",
          "data": {
            "text/plain": [
              "0.5547651464107343"
            ]
          },
          "metadata": {},
          "execution_count": 35
        }
      ]
    },
    {
      "cell_type": "markdown",
      "source": [
        "## Cheat sheat for which metric to use when"
      ],
      "metadata": {
        "id": "7ddjbe7MWEpg"
      }
    },
    {
      "cell_type": "markdown",
      "source": [
        "- If we want probabilities of classes: Log loss\n",
        "- If classes are balanced: Accuracy\n",
        "- IF classes are imbalanced:\n",
        "    - and if we are more concerned about False positive and true positive, then we use precision.\n",
        "    - If we are more concerned about False Negatives and True positive then we use recall.\n",
        "    - F1 score is a balance between precision and recall.\n",
        "    - If our concern is both classes (true negative and true positive) then we use ROC_AUC\n",
        "- If severe imbalance : PR AUC"
      ],
      "metadata": {
        "id": "leljtOIhWBvn"
      }
    },
    {
      "cell_type": "markdown",
      "source": [
        "## Performance Metric vs Loss functions"
      ],
      "metadata": {
        "id": "iyeUi47Ln2cz"
      }
    },
    {
      "cell_type": "markdown",
      "source": [
        "### Q. How are performance metric different than Loss functions?\n",
        "Loss functions show a measure of model performance. They’re used to train a machine learning model (using some kind of optimization like Gradient Descent), and they’re usually differentiable in the model’s parameters.\n",
        "\n",
        "Metrics are used to monitor and measure the performance of a model (during training and testing), and don’t need to be differentiable.\n",
        "\n",
        "However, if for some tasks the performance metric is differentiable, it can also be used as a loss function (perhaps with some regularizations added to it), such as MSE."
      ],
      "metadata": {
        "id": "iGWBXjW-b77w"
      }
    }
  ]
}